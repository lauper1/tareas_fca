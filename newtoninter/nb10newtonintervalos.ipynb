{
 "metadata": {
  "language": "Julia",
  "name": "",
  "signature": "sha256:490102fdda461913ea3ccfdeb663fbb7d97d8cca3d3bad1d76501efb39302e0b"
 },
 "nbformat": 3,
 "nbformat_minor": 0,
 "worksheets": [
  {
   "cells": [
    {
     "cell_type": "markdown",
     "metadata": {},
     "source": [
      "[1] Escribe una funci\u00f3n que calcule el operador de Newton para un intervalo X, dadas f(x) y f\u2032(x)."
     ]
    },
    {
     "cell_type": "markdown",
     "metadata": {},
     "source": [
      "yo se que el operador de Newton est\u00e1 dado por $N(X):=M\u2212\\frac{F(M)}{F\u2032(X)}$"
     ]
    },
    {
     "cell_type": "code",
     "collapsed": false,
     "input": [
      "push!(LOAD_PATH, \"C:\\\\Users\\\\laura\\\\Desktop\\\\julia\\\\tareas-fca\\\\intervalos\")\n",
      "using Intervalosa\n",
      "using Derivadasa"
     ],
     "language": "python",
     "metadata": {},
     "outputs": [
      {
       "output_type": "stream",
       "stream": "stderr",
       "text": [
        "Warning: New definition \n",
        "    log"
       ]
      },
      {
       "output_type": "stream",
       "stream": "stderr",
       "text": [
        "(Real,Intervalo) at C:\\Users\\laura\\Desktop\\julia\\tareas-fca\\intervalos\\Intervalosa.jl:246\n",
        "is ambiguous with: \n",
        "    log(MathConst{:"
       ]
      },
      {
       "output_type": "stream",
       "stream": "stderr",
       "text": [
        "e},Any) at constants.jl:82.\n",
        "To fix, define \n",
        "    log(MathConst{:e},Intervalo)\n",
        "before the new definition.\n"
       ]
      },
      {
       "output_type": "stream",
       "stream": "stderr",
       "text": [
        "INFO: Loading help data...\n"
       ]
      },
      {
       "output_type": "stream",
       "stream": "stderr",
       "text": [
        "Warning: New definition \n",
        "    ^"
       ]
      },
      {
       "output_type": "stream",
       "stream": "stderr",
       "text": [
        "(fdev,Real) at C:\\Users\\laura\\Desktop\\julia\\tareas-fca\\intervalos\\Derivadasa.jl:72\n",
        "is ambiguous with: \n",
        "    ^(Any,Integer) at intfuncs.jl:86.\n",
        "To fix, define \n",
        "    ^(fdev,Integer)"
       ]
      }
     ],
     "prompt_number": 1
    },
    {
     "cell_type": "code",
     "collapsed": false,
     "input": [
      "function opNEWTON(f::Function, I:: Intervalo)\n",
      "        m=(I.b+I.a)/2\n",
      "        M=Intervalo(m)\n",
      "    x=fdev(I,1) #Intervalo(1))  #para los intervalos el 1 corresponde al Intervalo(1)\n",
      "    M-f(M)/f(x).d\n",
      "end"
     ],
     "language": "python",
     "metadata": {},
     "outputs": [
      {
       "metadata": {},
       "output_type": "pyout",
       "prompt_number": 11,
       "text": [
        "opNEWTON (generic function with 2 methods)"
       ]
      }
     ],
     "prompt_number": 11
    },
    {
     "cell_type": "code",
     "collapsed": false,
     "input": [
      "f(x)=x^3-6+8x\n",
      "df(x)=3*x^2+8\n",
      "A=Intervalo(1,3)\n",
      "f(fdev(A,1))"
     ],
     "language": "python",
     "metadata": {},
     "outputs": [
      {
       "metadata": {},
       "output_type": "pyout",
       "prompt_number": 3,
       "text": [
        "fdev(Intervalo(3e+00 with 256 bits of precision,4.5e+01 with 256 bits of precision),Intervalo(1.1e+01 with 256 bits of precision,3.5e+01 with 256 bits of precision))"
       ]
      }
     ],
     "prompt_number": 3
    },
    {
     "cell_type": "code",
     "collapsed": false,
     "input": [
      "ans==fdev(f(A),df(A)) #para ver que fdev funciona bien para intervalos"
     ],
     "language": "python",
     "metadata": {},
     "outputs": [
      {
       "metadata": {},
       "output_type": "pyout",
       "prompt_number": 4,
       "text": [
        "true"
       ]
      }
     ],
     "prompt_number": 4
    },
    {
     "cell_type": "markdown",
     "metadata": {},
     "source": [
      "[2] Implementa el m\u00e9todo de Newton para intervalos para encontrar las ra\u00edces de $f(x)=x^3\u22121$ a partir de X=[\u22123,3]. Muestra gr\u00e1ficamente la implementaci\u00f3n del m\u00e9todo. En cada iteraci\u00f3n subsecuente del m\u00e9todo, ilustra qu\u00e9 le pasa al di\u00e1metro de la refincaci\u00f3n del intervalo que vas obteniendo.\n",
      "\n"
     ]
    },
    {
     "cell_type": "markdown",
     "metadata": {},
     "source": [
      "Para esto necesito primero definir la intersecci\u00f3n de intervalos, a pesar de incluirlo en este notebook ya se encuentra en el modulo correspondiente."
     ]
    },
    {
     "cell_type": "raw",
     "metadata": {},
     "source": [
      "function Intrsc(x::Intervalo, y::Intervalo)\n",
      "#seis casos en total\n",
      "##primero ver si es el conjunto vac\u00edo\n",
      "  if x.b<=y.a || y.b<=x.a #dos casos\n",
      "       ans=vacio(0)\n",
      "  elseif x.b> y.a #dos casos\n",
      "    d=max(y.a, x.a)\n",
      "    u=min(x.b, y.b)\n",
      "        ans= Intervalo(u, d)\n",
      "  elseif y.b> x.a\n",
      "      d=max(y.a, x.a)\n",
      "      u=min(y.b, x.b)\n",
      "        ans=Intervalo(u, d)\n",
      "        end\n",
      "    ans\n",
      "end"
     ]
    },
    {
     "cell_type": "code",
     "collapsed": false,
     "input": [
      "x=Intervalo(0,1)\n",
      "y=Intervalo(-1,0)\n",
      "Intrsc(y, x)"
     ],
     "language": "python",
     "metadata": {},
     "outputs": [
      {
       "metadata": {},
       "output_type": "pyout",
       "prompt_number": 5,
       "text": [
        "Intervalo(0e+00 with 256 bits of precision,0e+00 with 256 bits of precision)"
       ]
      }
     ],
     "prompt_number": 5
    },
    {
     "cell_type": "code",
     "collapsed": false,
     "input": [
      "x=Intervalo(0,10)\n",
      "y=Intervalo(3,90)\n",
      "Intrsc(x, y)"
     ],
     "language": "python",
     "metadata": {},
     "outputs": [
      {
       "metadata": {},
       "output_type": "pyout",
       "prompt_number": 6,
       "text": [
        "Intervalo(3e+00 with 256 bits of precision,1e+01 with 256 bits of precision)"
       ]
      }
     ],
     "prompt_number": 6
    },
    {
     "cell_type": "code",
     "collapsed": false,
     "input": [
      "x=Intervalo(0,10) \n",
      "y=Intervalo(-1,2)\n",
      "Intrsc(x, y)"
     ],
     "language": "python",
     "metadata": {},
     "outputs": [
      {
       "metadata": {},
       "output_type": "pyout",
       "prompt_number": 7,
       "text": [
        "Intervalo(0e+00 with 256 bits of precision,2e+00 with 256 bits of precision)"
       ]
      }
     ],
     "prompt_number": 7
    },
    {
     "cell_type": "code",
     "collapsed": false,
     "input": [
      "x=Intervalo(0,10) \n",
      "y=Intervalo(-1,2)\n",
      "Intrsc(y, x)"
     ],
     "language": "python",
     "metadata": {},
     "outputs": [
      {
       "metadata": {},
       "output_type": "pyout",
       "prompt_number": 8,
       "text": [
        "Intervalo(0e+00 with 256 bits of precision,2e+00 with 256 bits of precision)"
       ]
      }
     ],
     "prompt_number": 8
    },
    {
     "cell_type": "markdown",
     "metadata": {},
     "source": [
      "Ahora si, estoy en posibilidad de definir el metodo de Newton encontrar ra\u00edces de funciones, utilizando intervalos."
     ]
    },
    {
     "cell_type": "code",
     "collapsed": false,
     "input": [
      "function NEWTONF(f::Function, I, lim)#::Intervalo, lim)   \n",
      "    while norm(I)>lim\n",
      "        x=opNEWTON(f, I)\n",
      "        println(x)\n",
      "        w=Intrsc(x,I)\n",
      "        println(w)\n",
      "            if w==vacio(0)\n",
      "            println(\"el intervalo no contiene ra\u00edces\")\n",
      "                break\n",
      "            #I=vacio(0)\n",
      "            end\n",
      "        println(\"vamos a buscar en $w\")\n",
      "        I=w\n",
      "        NEWTONF(f, I, lim)\n",
      "    end\n",
      "    I\n",
      "end             "
     ],
     "language": "python",
     "metadata": {},
     "outputs": [
      {
       "metadata": {},
       "output_type": "pyout",
       "prompt_number": 9,
       "text": [
        "NEWTONF (generic function with 1 method)"
       ]
      }
     ],
     "prompt_number": 9
    },
    {
     "cell_type": "code",
     "collapsed": false,
     "input": [
      "f(x)=x^3-1\n",
      "\n",
      "I=Intervalo(-3,3)\n",
      "#x=opNEWTON(f, I)\n",
      "#Y=Intrsc(I,x)\n",
      "#newton2!(f,I, 0.1)\n",
      "NEWTONF(f,I, 0.001)"
     ],
     "language": "python",
     "metadata": {},
     "outputs": [
      {
       "output_type": "stream",
       "stream": "stdout",
       "text": [
        "UnionI"
       ]
      },
      {
       "output_type": "stream",
       "stream": "stdout",
       "text": [
        "(Intervalo(-inf with 256 bits of precision,-3.703703703703703703703703703703703703703703703703703703703703703703703703703678e-02 with 256 bits of precision),Intervalo(3.703703703703703703703703703703703703703703703703703703703703703703703703703732e-02 with 256 bits of precision,inf with 256 bits of precision))\n",
        "UnionI(Intervalo(-3e+00 with 256 bits of precision,-3.703703703703703703703703703703703703703703703703703703703703703703703703703678e-02 with 256 bits of precision),Intervalo(3.703703703703703703703703703703703703703703703703703703703703703703703703703732e-02 with 256 bits of precision,3e+00 with 256 bits of precision))\n",
        "vamos a buscar en UnionI(Intervalo(-3e+00 with 256 bits of precision,-3.703703703703703703703703703703703703703703703703703703703703703703703703703678e-02 with 256 bits of precision),Intervalo(3.703703703703703703703703703703703703703703703703703703703703703703703703703732e-02 with 256 bits of precision,3e+00 with 256 bits of precision))\n"
       ]
      },
      {
       "ename": "LoadError",
       "evalue": "type UnionI has no field b\nwhile loading In[10], in expression starting on line 6",
       "output_type": "pyerr",
       "traceback": [
        "type UnionI has no field b\nwhile loading In[10], in expression starting on line 6",
        "",
        " in NEWTONF at In[9]:3",
        " in NEWTONF at In[9]:14"
       ]
      }
     ],
     "prompt_number": 10
    },
    {
     "cell_type": "code",
     "collapsed": false,
     "input": [
      "UniformScaling"
     ],
     "language": "python",
     "metadata": {},
     "outputs": [
      {
       "metadata": {},
       "output_type": "pyout",
       "prompt_number": 12,
       "text": [
        "UniformScaling{T<:Number} (constructor with 1 method)"
       ]
      }
     ],
     "prompt_number": 12
    },
    {
     "cell_type": "code",
     "collapsed": false,
     "input": [],
     "language": "python",
     "metadata": {},
     "outputs": []
    }
   ],
   "metadata": {}
  }
 ]
}