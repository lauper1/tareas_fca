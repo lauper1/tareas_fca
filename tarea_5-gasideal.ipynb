{
 "metadata": {
  "language": "Julia",
  "name": "",
  "signature": "sha256:ad8310d2c6c20cf3c5962e3115128c5ae6b282c16f09548f92c51dc6e7cbe051"
 },
 "nbformat": 3,
 "nbformat_minor": 0,
 "worksheets": [
  {
   "cells": [
    {
     "cell_type": "markdown",
     "metadata": {},
     "source": [
      "Tarea:\n",
      "Haz un gas ideal:\n",
      "\n",
      "1. Part\u00edculas en 2D (x y v que son vectores con 2 entradas)\n",
      "2. Hacer una funci\u00f3n que genere al azar una part\u00edcula\n",
      "3. Hacer una funci\u00f3n que agregue una part\u00edcula al Gas (cuidar que el n\u00famero de part\u00edculas se actualice)\n",
      "4. Hacer una funci\u00f3n que genere un gas\n",
      "5. Mover el gas: actualizar todas las part\u00edculas y hacer algo en las fronteras (de preferencia, colisiones el\u00e1sticas con vectores)\n",
      "[Para empezar: colisiones inel\u00e1sticas: si se sale, se queda donde est\u00e1; y/o condiciones peri\u00f3dicas: si se sale, se regresa del otro lado]"
     ]
    },
    {
     "cell_type": "markdown",
     "metadata": {},
     "source": [
      "Primero hay que definir el type Particula pero esta vez debe tener su posici\u00f3n y velocidad expresada en 2D."
     ]
    },
    {
     "cell_type": "code",
     "collapsed": false,
     "input": [
      "type Particula  #por el momento me conviene no poner el tipo de las cosas que voy a guardar en  x, v y m\n",
      "    x\n",
      "    v\n",
      "    m\n",
      "end"
     ],
     "language": "python",
     "metadata": {},
     "outputs": [],
     "prompt_number": 1
    },
    {
     "cell_type": "code",
     "collapsed": false,
     "input": [
      "p=Particula(3,6,3)"
     ],
     "language": "python",
     "metadata": {},
     "outputs": [
      {
       "metadata": {},
       "output_type": "pyout",
       "prompt_number": 4,
       "text": [
        "Particula(3,6,3)"
       ]
      }
     ],
     "prompt_number": 4
    },
    {
     "cell_type": "code",
     "collapsed": false,
     "input": [
      "p.m"
     ],
     "language": "python",
     "metadata": {},
     "outputs": [
      {
       "metadata": {},
       "output_type": "pyout",
       "prompt_number": 5,
       "text": [
        "3"
       ]
      }
     ],
     "prompt_number": 5
    },
    {
     "cell_type": "code",
     "collapsed": false,
     "input": [
      "function mover!(p::Particula, t)\n",
      "    p.x+=p.v*t\n",
      "    p\n",
      "end"
     ],
     "language": "python",
     "metadata": {},
     "outputs": [
      {
       "metadata": {},
       "output_type": "pyout",
       "prompt_number": 6,
       "text": [
        "mover! (generic function with 1 method)"
       ]
      }
     ],
     "prompt_number": 6
    },
    {
     "cell_type": "code",
     "collapsed": false,
     "input": [
      "x=[rand(Float64),rand(Float64)] \n",
      "v=[rand(Float64),rand(Float64)] \n",
      "p=Particula(x, v, 1)"
     ],
     "language": "python",
     "metadata": {},
     "outputs": [
      {
       "metadata": {},
       "output_type": "pyout",
       "prompt_number": 7,
       "text": [
        "Particula([0.80152,0.702559],[0.93871,0.0298254],1)"
       ]
      }
     ],
     "prompt_number": 7
    },
    {
     "cell_type": "code",
     "collapsed": false,
     "input": [
      "mover!(p,1)\n",
      "p"
     ],
     "language": "python",
     "metadata": {},
     "outputs": [
      {
       "metadata": {},
       "output_type": "pyout",
       "prompt_number": 8,
       "text": [
        "Particula([1.74023,0.732384],[0.93871,0.0298254],1)"
       ]
      }
     ],
     "prompt_number": 8
    },
    {
     "cell_type": "code",
     "collapsed": false,
     "input": [
      "type Gas\n",
      "    N::Int\n",
      "    particulas::Vector{Particula}\n",
      "end"
     ],
     "language": "python",
     "metadata": {},
     "outputs": [],
     "prompt_number": 9
    },
    {
     "cell_type": "code",
     "collapsed": false,
     "input": [
      "function Gas(particulas::Vector{Particula})\n",
      "    Gas(length(particulas), particulas)\n",
      "end"
     ],
     "language": "python",
     "metadata": {},
     "outputs": [
      {
       "metadata": {},
       "output_type": "pyout",
       "prompt_number": 10,
       "text": [
        "Gas (constructor with 3 methods)"
       ]
      }
     ],
     "prompt_number": 10
    },
    {
     "cell_type": "code",
     "collapsed": false,
     "input": [
      "function Gas(N) #crea un gas de N part\u00edculas\n",
      "     part=[Particula(0,0,0) for i = 1:N] \n",
      "    for i = 1:N\n",
      "        srand\n",
      "    x=[rand(Float64),rand(Float64)] \n",
      "    v=[rand(Float64),rand(Float64)] \n",
      "    m=1\n",
      "    part[i]=Particula(x,v,m)\n",
      "    end\n",
      "    Gas(N, part)\n",
      "end"
     ],
     "language": "python",
     "metadata": {},
     "outputs": [
      {
       "metadata": {},
       "output_type": "pyout",
       "prompt_number": 11,
       "text": [
        "Gas (constructor with 4 methods)"
       ]
      }
     ],
     "prompt_number": 11
    },
    {
     "cell_type": "code",
     "collapsed": false,
     "input": [
      "g=Gas(10)"
     ],
     "language": "python",
     "metadata": {},
     "outputs": [
      {
       "metadata": {},
       "output_type": "pyout",
       "prompt_number": 13,
       "text": [
        "Gas(10,[Particula([0.603295,0.105912],[0.78015,0.866639],1),Particula([0.393037,0.561558],[0.128376,0.506368],1),Particula([0.194637,0.553084],[0.578764,0.579819],1),Particula([0.361988,0.281281],[0.218914,0.150601],1),Particula([0.954937,0.867487],[0.307296,0.482869],1),Particula([0.789377,0.166645],[0.785969,0.738669],1),Particula([0.364097,0.985653],[0.172525,0.63061],1),Particula([0.783102,0.870003],[0.4087,0.768614],1),Particula([0.150592,0.931682],[0.989632,0.651207],1),Particula([0.459291,0.857966],[0.863613,0.189951],1)])"
       ]
      }
     ],
     "prompt_number": 13
    },
    {
     "cell_type": "code",
     "collapsed": false,
     "input": [
      "typeof(g.particulas[3])"
     ],
     "language": "python",
     "metadata": {},
     "outputs": [
      {
       "metadata": {},
       "output_type": "pyout",
       "prompt_number": 14,
       "text": [
        "Particula (constructor with 1 method)"
       ]
      }
     ],
     "prompt_number": 14
    },
    {
     "cell_type": "code",
     "collapsed": false,
     "input": [
      "function mover!(g::Gas, t)\n",
      "    for i = 1:length (g.particulas)\n",
      "        mover!(g.particulas[i], t) \n",
      "    end\n",
      "    g\n",
      "end"
     ],
     "language": "python",
     "metadata": {},
     "outputs": [
      {
       "metadata": {},
       "output_type": "pyout",
       "prompt_number": 15,
       "text": [
        "mover! (generic function with 2 methods)"
       ]
      }
     ],
     "prompt_number": 15
    },
    {
     "cell_type": "code",
     "collapsed": false,
     "input": [
      "mover!(g, 1)"
     ],
     "language": "python",
     "metadata": {},
     "outputs": [
      {
       "metadata": {},
       "output_type": "pyout",
       "prompt_number": 16,
       "text": [
        "Gas(10,[Particula([1.38345,0.972551],[0.78015,0.866639],1),Particula([0.521413,1.06793],[0.128376,0.506368],1),Particula([0.773401,1.1329],[0.578764,0.579819],1),Particula([0.580902,0.431882],[0.218914,0.150601],1),Particula([1.26223,1.35036],[0.307296,0.482869],1),Particula([1.57535,0.905314],[0.785969,0.738669],1),Particula([0.536621,1.61626],[0.172525,0.63061],1),Particula([1.1918,1.63862],[0.4087,0.768614],1),Particula([1.14022,1.58289],[0.989632,0.651207],1),Particula([1.3229,1.04792],[0.863613,0.189951],1)])"
       ]
      }
     ],
     "prompt_number": 16
    },
    {
     "cell_type": "markdown",
     "metadata": {},
     "source": [
      "ahora hay que crear las constricciones, la caja para el gas."
     ]
    },
    {
     "cell_type": "code",
     "collapsed": false,
     "input": [
      "type caja\n",
      "    h#define las paredes horizontales, derecha o izq\n",
      "    v #define las paredes verticales, arriba y abajo\n",
      "end"
     ],
     "language": "python",
     "metadata": {},
     "outputs": [],
     "prompt_number": 132
    },
    {
     "cell_type": "code",
     "collapsed": false,
     "input": [
      "c=caja([-1,1 ], [-1,1]) "
     ],
     "language": "python",
     "metadata": {},
     "outputs": [
      {
       "metadata": {},
       "output_type": "pyout",
       "prompt_number": 134,
       "text": [
        "caja([-1,1],[-1,1])"
       ]
      }
     ],
     "prompt_number": 134
    },
    {
     "cell_type": "code",
     "collapsed": false,
     "input": [
      "p=Particula([0,0.99],[0,1], 1)"
     ],
     "language": "python",
     "metadata": {},
     "outputs": [
      {
       "metadata": {},
       "output_type": "pyout",
       "prompt_number": 138,
       "text": [
        "Particula([0.0,0.99],[0,1],1)"
       ]
      }
     ],
     "prompt_number": 138
    },
    {
     "cell_type": "code",
     "collapsed": false,
     "input": [
      "mover!(p, 0.1)"
     ],
     "language": "python",
     "metadata": {},
     "outputs": [
      {
       "metadata": {},
       "output_type": "pyout",
       "prompt_number": 139,
       "text": [
        "Particula([0.0,1.09],[0,1],1)"
       ]
      }
     ],
     "prompt_number": 139
    },
    {
     "cell_type": "code",
     "collapsed": false,
     "input": [
      " mover!(p, 0.1).x[2]< c.v[1]"
     ],
     "language": "python",
     "metadata": {},
     "outputs": [
      {
       "metadata": {},
       "output_type": "pyout",
       "prompt_number": 130,
       "text": [
        "false"
       ]
      }
     ],
     "prompt_number": 130
    },
    {
     "cell_type": "markdown",
     "metadata": {},
     "source": [
      "Ahora crear\u00e9 una funci\u00f3n que evitar\u00e1 que la part\u00edcula se salga de la caja, esto es la regresa del otro lado. Para eso creo las funciones predi, predd, preda, predf que preveen si en el siguiente paso la part\u00edcula se saldr\u00e1 por la pared de la izquierda, de la derecha, de arriba o del fondo respectivamente."
     ]
    },
    {
     "cell_type": "code",
     "collapsed": false,
     "input": [
      "function predi(p::Particula, c::caja, d)\n",
      "    mover!(p,d).x[]\n",
      "    mover!(p, d).x[1]< c.h[1]\n",
      "\n",
      "end"
     ],
     "language": "python",
     "metadata": {},
     "outputs": [
      {
       "metadata": {},
       "output_type": "pyout",
       "prompt_number": 148,
       "text": [
        "predi (generic function with 1 method)"
       ]
      }
     ],
     "prompt_number": 148
    },
    {
     "cell_type": "code",
     "collapsed": false,
     "input": [
      "function predd(p::Particula, c::caja, d)\n",
      "    mover!(p, d).x[1]> c.h[2]\n",
      "end"
     ],
     "language": "python",
     "metadata": {},
     "outputs": [
      {
       "metadata": {},
       "output_type": "pyout",
       "prompt_number": 149,
       "text": [
        "predd (generic function with 1 method)"
       ]
      }
     ],
     "prompt_number": 149
    },
    {
     "cell_type": "code",
     "collapsed": false,
     "input": [
      "function predf(p::Particula, c::caja, d)\n",
      "    mover!(p, d).x[2]< c.v[1]\n",
      "end"
     ],
     "language": "python",
     "metadata": {},
     "outputs": [
      {
       "metadata": {},
       "output_type": "pyout",
       "prompt_number": 142,
       "text": [
        "predf (generic function with 1 method)"
       ]
      }
     ],
     "prompt_number": 142
    },
    {
     "cell_type": "code",
     "collapsed": false,
     "input": [
      "function preda(p::Particula, c::caja, d)\n",
      "    mover!(p, d).x[2]> c.v[2]\n",
      "end"
     ],
     "language": "python",
     "metadata": {},
     "outputs": [
      {
       "metadata": {},
       "output_type": "pyout",
       "prompt_number": 143,
       "text": [
        "preda (generic function with 1 method)"
       ]
      }
     ],
     "prompt_number": 143
    },
    {
     "cell_type": "code",
     "collapsed": false,
     "input": [
      "predf(p, c, 0.1)\n"
     ],
     "language": "python",
     "metadata": {},
     "outputs": [
      {
       "metadata": {},
       "output_type": "pyout",
       "prompt_number": 144,
       "text": [
        "false"
       ]
      }
     ],
     "prompt_number": 144
    },
    {
     "cell_type": "markdown",
     "metadata": {},
     "source": [
      "Una vez evaluadas las funciones predi, predd, predf, preda habr\u00e1 que cambiar la coordenada x si es que se va a salir. Es decir, si se obtiene *true* entonces mueve la part\u00edcula a la pared contrar\u00eda por la que se iba a salir, esto se realiza con la funci\u00f3n regresa."
     ]
    },
    {
     "cell_type": "code",
     "collapsed": false,
     "input": [
      "function regresa!(p::Particula, c::caja,d)\n",
      "    if predi(p,c, d)==true\n",
      "        p.x[1]=c.h[2]  \n",
      "    end\n",
      "    if predd(p,c, d)==true\n",
      "        p.x[1]=c.h[1]  \n",
      "    end\n",
      "    if predf(p,c, d)==true\n",
      "        p.x[2]=c.v[2] \n",
      "        \n",
      "    end \n",
      "    if preda(p,c, d)==true\n",
      "        p.x[2]=c.v[1]  \n",
      "    end\n",
      "    \n",
      "   p\n",
      "end"
     ],
     "language": "python",
     "metadata": {},
     "outputs": [
      {
       "metadata": {},
       "output_type": "pyout",
       "prompt_number": 145,
       "text": [
        "regresa! (generic function with 1 method)"
       ]
      }
     ],
     "prompt_number": 145
    },
    {
     "cell_type": "code",
     "collapsed": false,
     "input": [
      "p=Particula([0.0,0.99],[0,1], 1)"
     ],
     "language": "python",
     "metadata": {},
     "outputs": [
      {
       "metadata": {},
       "output_type": "pyout",
       "prompt_number": 146,
       "text": [
        "Particula([0.0,0.99],[0,1],1)"
       ]
      }
     ],
     "prompt_number": 146
    },
    {
     "cell_type": "code",
     "collapsed": false,
     "input": [
      "regresa!(p,c,0.1)"
     ],
     "language": "python",
     "metadata": {},
     "outputs": [
      {
       "metadata": {},
       "output_type": "pyout",
       "prompt_number": 147,
       "text": [
        "Particula([0.0,-1.0],[0,1],1)"
       ]
      }
     ],
     "prompt_number": 147
    },
    {
     "cell_type": "markdown",
     "metadata": {},
     "source": [
      "Sin embargo, existe un problema con esta forma de abordar el problema y es que no refleja por cuanto se estaba saliendo la part\u00edcula de la caja.\n",
      "Una manera de cuantificar esto es con la funci\u00f3n *m\u00fadulo*. La caja se definir\u00e1 de la misma manera, pero ahora considerando que la pared de abajo y la pared de la izquierda se encuentre en  $x=0$ y  $y=0$ respectivamente.\n"
     ]
    },
    {
     "cell_type": "code",
     "collapsed": false,
     "input": [
      "c=caja([0,1],[0,2])"
     ],
     "language": "python",
     "metadata": {},
     "outputs": [
      {
       "metadata": {},
       "output_type": "pyout",
       "prompt_number": 194,
       "text": [
        "caja([0,1],[0,2])"
       ]
      }
     ],
     "prompt_number": 194
    },
    {
     "cell_type": "code",
     "collapsed": false,
     "input": [
      "abs(c.v[2])"
     ],
     "language": "python",
     "metadata": {},
     "outputs": [
      {
       "metadata": {},
       "output_type": "pyout",
       "prompt_number": 195,
       "text": [
        "2"
       ]
      }
     ],
     "prompt_number": 195
    },
    {
     "cell_type": "markdown",
     "metadata": {},
     "source": [
      "ahora bastar\u00e1 con redefinir las posiciones de las part\u00edculas, en t\u00e9rminos del  tama\u00f1o de la caja. Como rand nos devuelve n\u00fameros entre [0,1) bastar\u00e1 multiplicar por el tama\u00f1o de la caja."
     ]
    },
    {
     "cell_type": "code",
     "collapsed": false,
     "input": [
      "function Gas(N, c::caja) #crea un gas de N part\u00edculas\n",
      "    \n",
      "     part=[Particula(0,0,0) for i = 1:N] \n",
      "    for i = 1:N\n",
      "    srand\n",
      "   # x=[mod(rand(Float64), abs(c.h[2])), mod(rand(Float64),abs(c.v[2]))] \n",
      "        x=[rand(Float64)*abs(c.h[2]), rand(Float64)*abs(c.v[2])] \n",
      "    v=[rand(Float64),rand(Float64)]  #velocidades positivas\n",
      "    m=1  \n",
      "    part[i]=Particula(x,v,m)\n",
      "    end\n",
      "    Gas(N, part)\n",
      "end"
     ],
     "language": "python",
     "metadata": {},
     "outputs": [
      {
       "metadata": {},
       "output_type": "pyout",
       "prompt_number": 468,
       "text": [
        "Gas (constructor with 5 methods)"
       ]
      }
     ],
     "prompt_number": 468
    },
    {
     "cell_type": "markdown",
     "metadata": {},
     "source": [
      "en realidad no es necesario en esta parte por que rand nos devuelve un n\u00famero aleatorios en [0,1), sin embargo, si deseo utilizar otra funci[on aleatoria para generar las posiciones este m\u00f3delo me ser\u00e1 util."
     ]
    },
    {
     "cell_type": "code",
     "collapsed": false,
     "input": [
      "h=Gas(10)"
     ],
     "language": "python",
     "metadata": {},
     "outputs": [
      {
       "metadata": {},
       "output_type": "pyout",
       "prompt_number": 469,
       "text": [
        "Gas(10,[Particula([0.903392,0.126121],[0.511433,0.600283],1),Particula([0.815907,0.82859],[0.716499,0.369817],1),Particula([0.121568,0.646533],[0.560517,0.128093],1),Particula([0.494822,0.706398],[0.221255,0.419836],1),Particula([0.660389,0.863911],[0.484876,0.807556],1),Particula([0.438867,0.041837],[0.390991,0.785109],1),Particula([0.342839,0.37142],[0.282601,0.658506],1),Particula([0.50535,0.394171],[0.951499,0.352763],1),Particula([0.564209,0.294802],[0.00907152,0.379556],1),Particula([0.802689,0.694993],[0.563454,0.490626],1)])"
       ]
      }
     ],
     "prompt_number": 469
    },
    {
     "cell_type": "markdown",
     "metadata": {},
     "source": [
      "la que si es estrictamente necesario es cambiar la definci\u00f3n de mover!. De modo que la posici\u00f3n de la part\u00edcula siempre est\u00e9 contenida dentro de la caja. Para esto ser\u00e1 necesario tratar por separado la componente *x* y la componente *y* de la posici\u00f3n de la part\u00edcula."
     ]
    },
    {
     "cell_type": "code",
     "collapsed": false,
     "input": [
      "function mover!(p::Particula, t, c::caja)\n",
      "    p.x[1]+=p.v[1]*t\n",
      "    p.x[1]= mod(p.x[1], abs(c.h[2])) \n",
      "    p.x[2]+=p.v[2]*t\n",
      "    p.x[2]= mod(p.x[2], abs(c.v[2]))\n",
      "    p\n",
      "    \n",
      "end  "
     ],
     "language": "python",
     "metadata": {},
     "outputs": [
      {
       "metadata": {},
       "output_type": "pyout",
       "prompt_number": 470,
       "text": [
        "mover! (generic function with 5 methods)"
       ]
      }
     ],
     "prompt_number": 470
    },
    {
     "cell_type": "code",
     "collapsed": false,
     "input": [
      "p= Particula([0.4, 0.5] ,[0.6, 9.0], 1)\n",
      "mover!(p,1, c)"
     ],
     "language": "python",
     "metadata": {},
     "outputs": [
      {
       "metadata": {},
       "output_type": "pyout",
       "prompt_number": 471,
       "text": [
        "Particula([0.0,1.5],[0.6,9.0],1)"
       ]
      }
     ],
     "prompt_number": 471
    },
    {
     "cell_type": "code",
     "collapsed": false,
     "input": [
      "methods(mover!)"
     ],
     "language": "python",
     "metadata": {},
     "outputs": [
      {
       "html": [
        "5 methods for generic function <b>mover!</b>:<ul><li> mover!(p::<b>Particula</b>,t) at In[164]:2<li> mover!(g::<b>Gas</b>,c::<b>caja</b>) at In[169]:2<li> mover!(g::<b>Gas</b>,t) at In[15]:2<li> mover!(p::<b>Particula</b>,t,c::<b>caja</b>) at In[470]:2<li> mover!(g::<b>Gas</b>,t,c::<b>caja</b>) at In[318]:2</ul>"
       ],
       "metadata": {},
       "output_type": "pyout",
       "prompt_number": 472,
       "text": [
        "# 5 methods for generic function \"mover!\":\n",
        "mover!(p::Particula,t) at In[164]:2\n",
        "mover!(g::Gas,c::caja) at In[169]:2\n",
        "mover!(g::Gas,t) at In[15]:2\n",
        "mover!(p::Particula,t,c::caja) at In[470]:2\n",
        "mover!(g::Gas,t,c::caja) at In[318]:2"
       ]
      }
     ],
     "prompt_number": 472
    },
    {
     "cell_type": "code",
     "collapsed": false,
     "input": [
      "function mover!(g::Gas,t,  c::caja)\n",
      "    for i = 1:length (g.particulas)\n",
      "        mover!(g.particulas[i], t, c) \n",
      "    end\n",
      "    g\n",
      "end"
     ],
     "language": "python",
     "metadata": {},
     "outputs": [
      {
       "metadata": {},
       "output_type": "pyout",
       "prompt_number": 473,
       "text": [
        "mover! (generic function with 5 methods)"
       ]
      }
     ],
     "prompt_number": 473
    },
    {
     "cell_type": "code",
     "collapsed": false,
     "input": [
      "mover!(h, 9.0, c)"
     ],
     "language": "python",
     "metadata": {},
     "outputs": [
      {
       "metadata": {},
       "output_type": "pyout",
       "prompt_number": 474,
       "text": [
        "Gas(10,[Particula([0.506286,1.52867],[0.511433,0.600283],1),Particula([0.264398,0.156939],[0.716499,0.369817],1),Particula([0.166225,1.79937],[0.560517,0.128093],1),Particula([0.486118,0.484926],[0.221255,0.419836],1),Particula([0.0242711,0.131915],[0.484876,0.807556],1),Particula([0.957789,1.10782],[0.390991,0.785109],1),Particula([0.886251,0.297974],[0.282601,0.658506],1),Particula([0.0688427,1.56904],[0.951499,0.352763],1),Particula([0.645853,1.7108],[0.00907152,0.379556],1),Particula([0.873772,1.11063],[0.563454,0.490626],1)])"
       ]
      }
     ],
     "prompt_number": 474
    },
    {
     "cell_type": "markdown",
     "metadata": {},
     "source": [
      " Observemos que en efecto las posiciones en x son menores  que 1, mientras que en y son menores que 2. Todo esto me hizo ver que en realidad primero se deb\u00eda hacer la definici\u00f3n de la caja,  luego del gas, as\u00ed como de la funci\u00f3n mover! , en t\u00e9rminos de las dimensiones de la caja."
     ]
    },
    {
     "cell_type": "markdown",
     "metadata": {},
     "source": [
      "Sigo viendole algunos problemas a mi c\u00f3digo, uno de ellos es que en la definici\u00f3n de Gas, a todas las part\u00edculas se les asigna velocidades positivas, lo cua en si resulto mas que nada arbitrario. Una manera de asignar velocidades con direcciones arbitarias es multiplicar por $(-1.0)^ {rand(Int)}$"
     ]
    },
    {
     "cell_type": "code",
     "collapsed": false,
     "input": [
      "function Gas(N, c::caja) #crea un gas de N part\u00edculas\n",
      "    \n",
      "     part=[Particula(0,0,0) for i = 1:N] \n",
      "    for i = 1:N\n",
      "    srand\n",
      "   # x=[mod(rand(Float64), abs(c.h[2])), mod(rand(Float64),abs(c.v[2]))] \n",
      "         x=[rand(Float64)*abs(c.h[2]), rand(Float64)*abs(c.v[2])]  \n",
      "        v=[(-1.0)^rand(Int)*rand(Float64),(-1.0)^rand(Int)*rand(Float64)]  #velocidades positivas y negativas\n",
      "    m=1  \n",
      "    part[i]=Particula(x,v,m)\n",
      "    end\n",
      "    Gas(N, part)\n",
      "end"
     ],
     "language": "python",
     "metadata": {},
     "outputs": [
      {
       "metadata": {},
       "output_type": "pyout",
       "prompt_number": 477,
       "text": [
        "Gas (constructor with 5 methods)"
       ]
      }
     ],
     "prompt_number": 477
    },
    {
     "cell_type": "code",
     "collapsed": false,
     "input": [
      "Gas(9, c)"
     ],
     "language": "python",
     "metadata": {},
     "outputs": [
      {
       "metadata": {},
       "output_type": "pyout",
       "prompt_number": 478,
       "text": [
        "Gas(9,[Particula([0.400206,0.0454821],[-0.0808614,-0.053695],1),Particula([0.696327,0.194652],[-0.442162,-0.655396],1),Particula([0.802315,0.0845981],[-0.978517,-0.69295],1),Particula([0.834373,1.60017],[0.650661,-0.333691],1),Particula([0.13926,0.610652],[0.384226,0.196027],1),Particula([0.0181016,0.123706],[0.99003,-0.960228],1),Particula([0.0328579,0.776108],[-0.00952034,0.488102],1),Particula([0.237048,0.710644],[0.896214,0.313929],1),Particula([0.452592,1.25374],[0.812438,0.578128],1)])"
       ]
      }
     ],
     "prompt_number": 478
    },
    {
     "cell_type": "markdown",
     "metadata": {},
     "source": [
      "Sin embargo esto mete problemas al momento de realizar la funci\u00f3n mover!. Veamos por ejemplo el caso de una part\u00edcula con velocidad negativa en x, $v_x=-1$ y posici\u00f3n inicial 1.6. ($v_y=0, \\,y=0$)."
     ]
    },
    {
     "cell_type": "code",
     "collapsed": false,
     "input": [
      "pi=Particula([1.6,0],[-1.0,0],1)\n",
      "k=caja([0,3],[0,1])"
     ],
     "language": "python",
     "metadata": {},
     "outputs": [
      {
       "metadata": {},
       "output_type": "pyout",
       "prompt_number": 479,
       "text": [
        "caja([0,3],[0,1])"
       ]
      }
     ],
     "prompt_number": 479
    },
    {
     "cell_type": "markdown",
     "metadata": {},
     "source": [
      "Despues de un segundo deber\u00e1 ubicarse en la posicion 0.6 en x. Lo cual f\u00e1cilemente podemos corroborar con la funci\u00f3n mover!."
     ]
    },
    {
     "cell_type": "code",
     "collapsed": false,
     "input": [
      "mover!(pi, 1, c) "
     ],
     "language": "python",
     "metadata": {},
     "outputs": [
      {
       "metadata": {},
       "output_type": "pyout",
       "prompt_number": 480,
       "text": [
        "Particula([0.6,0.0],[-1.0,0.0],1)"
       ]
      }
     ],
     "prompt_number": 480
    },
    {
     "cell_type": "markdown",
     "metadata": {},
     "source": [
      "Sin embargo, en el segundo 2 la part\u00edcula deber\u00e1 colocarse en 2.6. Ya que despu\u00e9s de haber recorrido 0.6 de derecha a izquierda debe entrar por la pared  derecha y recorrer los 0.4 restantes."
     ]
    },
    {
     "cell_type": "code",
     "collapsed": false,
     "input": [
      "pi=Particula([1.6,0],[-1.0,0],1)\n",
      "mover!(pi, 2, c) "
     ],
     "language": "python",
     "metadata": {},
     "outputs": [
      {
       "metadata": {},
       "output_type": "pyout",
       "prompt_number": 481,
       "text": [
        "Particula([0.6,0.0],[-1.0,0.0],1)"
       ]
      }
     ],
     "prompt_number": 481
    },
    {
     "cell_type": "markdown",
     "metadata": {},
     "source": [
      " Pero eso  no es lo que pasa! Se qued\u00f3 en 0.6, por alguna raz\u00f3n."
     ]
    },
    {
     "cell_type": "code",
     "collapsed": false,
     "input": [
      "t=2\n",
      "pi=Particula([1.6,0],[-1.0,0],1)\n",
      "pi.x[1]+=pi.v[1]*t\n",
      "println(pi.x[1])\n",
      "pi.x[1]= mod(pi.x[1], abs(c.h[2])) \n",
      "println(pi.x[1])    #al parecer el problema esta en el momento en el que salco el m\u00f3dulo, para evitar problemas "
     ],
     "language": "python",
     "metadata": {},
     "outputs": [
      {
       "output_type": "stream",
       "stream": "stdout",
       "text": [
        "-"
       ]
      },
      {
       "output_type": "stream",
       "stream": "stdout",
       "text": [
        "0.3999999999999999\n",
        "0.6000000000000001\n"
       ]
      }
     ],
     "prompt_number": 482
    },
    {
     "cell_type": "code",
     "collapsed": false,
     "input": [
      "mod(-0.4, 3) "
     ],
     "language": "python",
     "metadata": {},
     "outputs": [
      {
       "metadata": {},
       "output_type": "pyout",
       "prompt_number": 483,
       "text": [
        "2.6"
       ]
      }
     ],
     "prompt_number": 483
    },
    {
     "cell_type": "markdown",
     "metadata": {},
     "source": [
      "la funci\u00f3n m\u00f3dulo esta bien definida para n\u00fameros negativos, por lo que lo \u00fanico que se me ocurre es que\n",
      "la manera en que estoy \"reciclando\" la variable en *p.x[i]= mod(p.x[i], abs(c.h[j])) * no le gusta al programa , por lo que voy a hacer el calculo introduciendo dos  variables extras a y b."
     ]
    },
    {
     "cell_type": "code",
     "collapsed": false,
     "input": [
      "function mover!(p::Particula, t, c::caja)\n",
      "    a=p.x[1]+p.v[1]*t\n",
      "    p.x[1]= mod(a, abs(c.h[2])) \n",
      "    b=p.x[2]+p.v[2]*t\n",
      "    p.x[2]= mod(b, abs(c.v[2]))\n",
      "    p\n",
      "    \n",
      "end  "
     ],
     "language": "python",
     "metadata": {},
     "outputs": [
      {
       "metadata": {},
       "output_type": "pyout",
       "prompt_number": 484,
       "text": [
        "mover! (generic function with 5 methods)"
       ]
      }
     ],
     "prompt_number": 484
    },
    {
     "cell_type": "code",
     "collapsed": false,
     "input": [
      "pi=Particula([1.6,0],[-1.0,0],1)\n",
      "mover!(pi, 2, k)"
     ],
     "language": "python",
     "metadata": {},
     "outputs": [
      {
       "metadata": {},
       "output_type": "pyout",
       "prompt_number": 485,
       "text": [
        "Particula([2.6,0.0],[-1.0,0.0],1)"
       ]
      }
     ],
     "prompt_number": 485
    },
    {
     "cell_type": "markdown",
     "metadata": {},
     "source": [
      "y ahora si obtenemos lo que esperabamos. Procedo a redefinir mover! para un Gas."
     ]
    },
    {
     "cell_type": "code",
     "collapsed": false,
     "input": [
      "function mover!(g::Gas,t,  c::caja)\n",
      "    for i = 1:length (g.particulas)\n",
      "        mover!(g.particulas[i], t, c) \n",
      "    end\n",
      "    g\n",
      "end"
     ],
     "language": "python",
     "metadata": {},
     "outputs": [
      {
       "metadata": {},
       "output_type": "pyout",
       "prompt_number": 486,
       "text": [
        "mover! (generic function with 5 methods)"
       ]
      }
     ],
     "prompt_number": 486
    },
    {
     "cell_type": "markdown",
     "metadata": {},
     "source": [
      "como puedo visualizar todo esto: utilizo ahora PyPlot y scatter"
     ]
    },
    {
     "cell_type": "code",
     "collapsed": false,
     "input": [
      "using PyPlot\n",
      "N=10\n",
      "#from matplotlib import pyplot as plt\n",
      "g=Gas(N, k)\n",
      "#################\n",
      "#  Create Data  #\n",
      "#################\n",
      "x = [g.particulas[i].x[1] for i =1:N]\n",
      "y = [g.particulas[i].x[2] for i =1:N]\n",
      "masas = [100*g.particulas[i].m for i =1:N];\n",
      "color = [i*255.0 for i in 1:N];\n",
      "fig = figure(\"gas\",figsize=(2*abs(k.h[2]), 2*abs(k.v[2]) ))\n",
      "scatter(x,y,s=masas,alpha=1, c=color)\n",
      "\n",
      "title(\"Gas Ideal\")\n",
      "xlabel(\"X\")\n",
      "xlim(xmax=abs(k.h[2]))\n",
      "xlim(xmin=0)\n",
      "ylabel(\"Y\")\n",
      "ylim(ymax=abs(k.v[2]))\n",
      "ylim(ymin=0);"
     ],
     "language": "python",
     "metadata": {},
     "outputs": [
      {
       "metadata": {},
       "output_type": "display_data",
       "png": "[encoded data removed]",
       "text": [
        "Figure(PyObject <matplotlib.figure.Figure object at 0x000000004FFE6748>)"
       ]
      }
     ],
     "prompt_number": 487
    },
    {
     "cell_type": "markdown",
     "metadata": {},
     "source": [
      "Ahora para un tiempo 0.2 despu\u00e9s."
     ]
    },
    {
     "cell_type": "code",
     "collapsed": false,
     "input": [
      "mover!(g,0.2,k );\n",
      "x = [g.particulas[i].x[1] for i =1:N]\n",
      "y = [g.particulas[i].x[2] for i =1:N]\n",
      "masas = [100*g.particulas[i].m for i =1:N];\n",
      "fig = figure(\"gas\",figsize=(2*abs(k.h[2]), 2*abs(k.v[2]) ))\n",
      "scatter(x,y,s=masas,alpha=1, c=color)\n",
      "title(\"Gas Ideal\")\n",
      "xlabel(\"X\")\n",
      "xlim(xmax=abs(k.h[2]))\n",
      "xlim(xmin=0)\n",
      "ylabel(\"Y\")\n",
      "ylim(ymax=abs(k.v[2]))\n",
      "ylim(ymin=0);"
     ],
     "language": "python",
     "metadata": {},
     "outputs": [
      {
       "metadata": {},
       "output_type": "display_data",
       "png": "[encoded data removed]",
       "text": [
        "Figure(PyObject <matplotlib.figure.Figure object at 0x0000000047CFDFD0>)"
       ]
      }
     ],
     "prompt_number": 488
    },
    {
     "cell_type": "markdown",
     "metadata": {},
     "source": [
      "y ahora una serie de imagenes consecutivas"
     ]
    },
    {
     "cell_type": "code",
     "collapsed": true,
     "input": [
      "for j=1:5\n",
      "mover!(g,0.1,k );\n",
      "x = [g.particulas[i].x[1] for i =1:N]\n",
      "y = [g.particulas[i].x[2] for i =1:N]\n",
      "color = [i*255.0 for i in 1:N];\n",
      "masas = [100*g.particulas[i].m for i =1:N];\n",
      "fig = figure(\"gas$j\",figsize=(2*abs(k.h[2]), 2*abs(k.v[2]) ))\n",
      "    scatter(x,y,s=masas,alpha=1, c=color)\n",
      "title(\"Gas Ideal\")\n",
      "xlabel(\"X\")\n",
      "xlim(xmax=abs(k.h[2]))\n",
      "xlim(xmin=0)\n",
      "ylabel(\"Y\")\n",
      "ylim(ymax=abs(k.v[2]))\n",
      "ylim(ymin=0);\n",
      "    \n",
      "end"
     ],
     "language": "python",
     "metadata": {},
     "outputs": [
      {
       "metadata": {},
       "output_type": "display_data",
       "png": "[encoded data removed]",
       "text": [
        "Figure(PyObject <matplotlib.figure.Figure object at 0x00000000420E2828>)"
       ]
      },
      {
       "metadata": {},
       "output_type": "display_data",
       "png": "[encoded data removed]",
       "text": [
        "Figure(PyObject <matplotlib.figure.Figure object at 0x000000005010A9E8>)"
       ]
      },
      {
       "metadata": {},
       "output_type": "display_data",
       "png": "[encoded data removed]",
       "text": [
        "Figure(PyObject <matplotlib.figure.Figure object at 0x00000000478E4438>)"
       ]
      },
      {
       "metadata": {},
       "output_type": "display_data",
       "png": "[encoded data removed]",
       "text": [
        "Figure(PyObject <matplotlib.figure.Figure object at 0x0000000047808F28>)"
       ]
      },
      {
       "metadata": {},
       "output_type": "display_data",
       "png": "[encoded data removed]",
       "text": [
        "Figure(PyObject <matplotlib.figure.Figure object at 0x0000000047FACF60>)"
       ]
      }
     ],
     "prompt_number": 489
    }
   ],
   "metadata": {}
  }
 ]
}