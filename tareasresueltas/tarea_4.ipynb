{
 "metadata": {
  "language": "Julia",
  "name": "",
  "signature": "sha256:548e1f88f619dc8465d8b4149ba162f6ee08f1d3c8bbd20ff114a1b290f5f83b"
 },
 "nbformat": 3,
 "nbformat_minor": 0,
 "worksheets": [
  {
   "cells": [
    {
     "cell_type": "heading",
     "level": 1,
     "metadata": {},
     "source": [
      "Tipos comp\u00f3sitos"
     ]
    },
    {
     "cell_type": "markdown",
     "metadata": {},
     "source": [
      "[1] (i) \u00bfC\u00f3mo representar\u00edas a una part\u00edcula en 1D con posici\u00f3n, velocidad y masa en Julia?\n",
      "Necesito algunso par\u00e1metros. Idealmente si consideramos part\u00edculas puntuales podemos ahorrarnos el pensar en su extensi\u00f3n espacial, sin embargo debe caracterizarla su masa, velocidad, posicion.\n",
      "\n",
      "\n",
      "\n",
      "\n",
      "(ii) \u00bfC\u00f3mo mover\u00edas la part\u00edcula en un paso $\\delta t$?\n",
      "\n",
      "Definiendo una funci\u00f3n que tome la velocidad,su posici\u00f3n actual y el largo de $\\delta t$\n",
      "\n",
      "\n",
      "function desp(v, $x_0$, $\\delta_t$)\n",
      "  \n",
      "  $x_{0}+(v*\\delta t)$\n",
      "\n",
      "\n",
      "end\n",
      "\n",
      "\n",
      "\n",
      "(iii) \u00bfSi necesitas otra part\u00edcula con las mismas propiedades, qu\u00e9 har\u00edas?\n",
      "\n",
      "definir un nuevo tipo, como el conjunto de las dos part\u00edculas.\n",
      "\n",
      "(iv) Para $N$ tales part\u00edculas, \u00bfqu\u00e9 podr\u00edas hacer?\n",
      "se puede hacer lo mismo que en lo anterior para N particulas.\n",
      "O tambi\u00e9n se me ocurre un arreglo  de N cosas del tipo particle.\n"
     ]
    },
    {
     "cell_type": "markdown",
     "metadata": {},
     "source": [
      "El problema aqu\u00ed es que la representaci\u00f3n del concepto \"part\u00edcula\" est\u00e1 repartida en distintas variables. Julia provee una manera de recolectar la informaci\u00f3n de un \"objeto\", al definir un *tipo comp\u00f3sito* (\"composite type\"):"
     ]
    },
    {
     "cell_type": "code",
     "collapsed": false,
     "input": [
      "type MiTipo\n",
      "    a\n",
      "    b\n",
      "end"
     ],
     "language": "python",
     "metadata": {},
     "outputs": [],
     "prompt_number": 61
    },
    {
     "cell_type": "markdown",
     "metadata": {},
     "source": [
      "Esto define un tipo de objeto llamado `MiTipo`. Cada objeto de este tipo tendr\u00e1 *adentro* su propia copia de una variable llamada `a` y otra llamada `b`."
     ]
    },
    {
     "cell_type": "markdown",
     "metadata": {},
     "source": [
      "[2] Define un tipo que se llama `Particula`, que tiene variables para la posici\u00f3n, velocidad y masa en una dimensi\u00f3n."
     ]
    },
    {
     "cell_type": "heading",
     "level": 6,
     "metadata": {},
     "source": [
      "1. Primero defino el tipo Particle el cual tiene asociada un nombre, masa, velocidad, y posicion inicial. Es posible obtener la funcion desplazamiento de la misma que obtiene la posicion despues de un tiempo \u03b4"
     ]
    },
    {
     "cell_type": "code",
     "collapsed": false,
     "input": [
      "type Particle\n",
      "    n::String\n",
      "    masa::Float64\n",
      "    vel::Float64\n",
      "    xo::Float64\n",
      "    \n",
      "end"
     ],
     "language": "python",
     "metadata": {},
     "outputs": [],
     "prompt_number": 5
    },
    {
     "cell_type": "markdown",
     "metadata": {},
     "source": [
      "[3] Experimenta para ver c\u00f3mo crear un objeto de tipo `Particula`.  [Pista: piensa en funciones]"
     ]
    },
    {
     "cell_type": "code",
     "collapsed": false,
     "input": [
      "type Particle\n",
      "    n::String\n",
      "    masa::Float64\n",
      "    vel::Float64\n",
      "    xo::Float64\n",
      "    desplazamiento::Function\n",
      "    function Particle(n,masa,vel,xo) #la funcion desplazamiento la puedo definir adentro del type\n",
      "        this = new()\n",
      "        this.n = n\n",
      "        this.masa = masa\n",
      "        this.vel = vel\n",
      "        this.xo = xo\n",
      "        # anonymous functions are not known to be fast ;-)\n",
      "        this.desplazamiento =  function() desplazamiento(this) end\n",
      "        this\n",
      "    end\n",
      "end"
     ],
     "language": "python",
     "metadata": {},
     "outputs": [],
     "prompt_number": 63
    },
    {
     "cell_type": "markdown",
     "metadata": {},
     "source": [
      "[4] \u00bfC\u00f3mo podemos definir una funci\u00f3n `mover` que mueve la part\u00edcula en un paso de tiempo $\\delta t$? [Pista: Para especificar que un objeto `t` es de tipo `MiTipo`, usamos la sintaxis `t::MiTipo`.]"
     ]
    },
    {
     "cell_type": "code",
     "collapsed": false,
     "input": [
      "function desplazamiento(p::Particle, d::Float64) #o tambien fuera de la definici\u00f3n del tip\n",
      "    #println(\"nombre:\", p.n, \", masa: \", p.masa, \", velocidad: \",p.vel, \",xo: \", p.xo)\n",
      "   \n",
      "    x=p.xo + p.vel* \u03b4\n",
      "    Particle(p.n, p.masa, p.vel, x )\n",
      "end"
     ],
     "language": "python",
     "metadata": {},
     "outputs": [
      {
       "metadata": {},
       "output_type": "pyout",
       "prompt_number": 9,
       "text": [
        "desplazamiento (generic function with 2 methods)"
       ]
      }
     ],
     "prompt_number": 9
    },
    {
     "cell_type": "code",
     "collapsed": false,
     "input": [
      "cobi = Particle(\"cobi\",19.0,1.0,55.0)"
     ],
     "language": "python",
     "metadata": {},
     "outputs": [
      {
       "metadata": {},
       "output_type": "pyout",
       "prompt_number": 10,
       "text": [
        "Particle(\"cobi\",19.0,1.0,55.0)"
       ]
      }
     ],
     "prompt_number": 10
    },
    {
     "cell_type": "code",
     "collapsed": false,
     "input": [
      "desplazamiento(cobi, 0.55)"
     ],
     "language": "python",
     "metadata": {},
     "outputs": [
      {
       "metadata": {},
       "output_type": "pyout",
       "prompt_number": 11,
       "text": [
        "Particle(\"cobi\",19.0,1.0,55.5)"
       ]
      }
     ],
     "prompt_number": 11
    },
    {
     "cell_type": "markdown",
     "metadata": {},
     "source": [
      "[5] Define un objeto `Gas` que representa $N$ part\u00edculas, as\u00ed como una funci\u00f3n `mover` que mueve el gas."
     ]
    },
    {
     "cell_type": "markdown",
     "metadata": {},
     "source": [
      "como mencione para generalizar esto a n particular ser\u00e1 necesario dar primero n\n",
      "\n"
     ]
    },
    {
     "cell_type": "code",
     "collapsed": false,
     "input": [
      "function GasN(N::Int)\n",
      "\n",
      "GASN=[Particle(\"cobi\", 0,0,0) for i=1:N]\n",
      "    for i in 1:N\n",
      "        GASN[i]=Particle(\"$i\",0.0,rand(Float64),0.0)#conjunto de N particulas, \n",
      "        #masa 0, velocidad aleatoria y que inician en el origen\n",
      "    end\n",
      "    \n",
      "   GASN \n",
      "end\n"
     ],
     "language": "python",
     "metadata": {},
     "outputs": [
      {
       "metadata": {},
       "output_type": "pyout",
       "prompt_number": 43,
       "text": [
        "GasN (generic function with 1 method)"
       ]
      }
     ],
     "prompt_number": 43
    },
    {
     "cell_type": "code",
     "collapsed": false,
     "input": [
      "x=GasN(30)"
     ],
     "language": "python",
     "metadata": {},
     "outputs": [
      {
       "metadata": {},
       "output_type": "pyout",
       "prompt_number": 44,
       "text": [
        "30-element Array{Particle,1}:\n",
        " Particle(\"1\",0.0,0.5838045243104477,0.0)  \n",
        " Particle(\"2\",0.0,0.03475710503681739,0.0) \n",
        " Particle(\"3\",0.0,0.8959303796244633,0.0)  \n",
        " Particle(\"4\",0.0,0.9474339416758031,0.0)  \n",
        " Particle(\"5\",0.0,0.13087982362559925,0.0) \n",
        " Particle(\"6\",0.0,0.9528640408135123,0.0)  \n",
        " Particle(\"7\",0.0,0.5427561331694406,0.0)  \n",
        " Particle(\"8\",0.0,0.7577902670960424,0.0)  \n",
        " Particle(\"9\",0.0,0.676565234900327,0.0)   \n",
        " Particle(\"10\",0.0,0.5868102264529136,0.0) \n",
        " Particle(\"11\",0.0,0.4150565612593182,0.0) \n",
        " Particle(\"12\",0.0,0.6011782513874431,0.0) \n",
        " Particle(\"13\",0.0,0.9046362001520176,0.0) \n",
        " \u22ee                                         \n",
        " Particle(\"19\",0.0,0.3468464918696983,0.0) \n",
        " Particle(\"20\",0.0,0.00904632067356026,0.0)\n",
        " Particle(\"21\",0.0,0.7874655551447185,0.0) \n",
        " Particle(\"22\",0.0,0.5439422227726378,0.0) \n",
        " Particle(\"23\",0.0,0.0719201998800929,0.0) \n",
        " Particle(\"24\",0.0,0.5158460601566672,0.0) \n",
        " Particle(\"25\",0.0,0.9468145160486223,0.0) \n",
        " Particle(\"26\",0.0,0.09346663456260162,0.0)\n",
        " Particle(\"27\",0.0,0.23972118944496446,0.0)\n",
        " Particle(\"28\",0.0,0.1620659684965029,0.0) \n",
        " Particle(\"29\",0.0,0.704668327012032,0.0)  \n",
        " Particle(\"30\",0.0,0.06873865904596665,0.0)"
       ]
      }
     ],
     "prompt_number": 44
    },
    {
     "cell_type": "markdown",
     "metadata": {},
     "source": [
      "ahora hay que implementar la funci\u00f3n mover al gas de N parctiulas."
     ]
    },
    {
     "cell_type": "code",
     "collapsed": false,
     "input": [
      "desplazamiento(x[8], 0.55)"
     ],
     "language": "python",
     "metadata": {},
     "outputs": [
      {
       "metadata": {},
       "output_type": "pyout",
       "prompt_number": 46,
       "text": [
        "Particle(\"8\",0.0,0.7577902670960424,0.3788951335480212)"
       ]
      }
     ],
     "prompt_number": 46
    },
    {
     "cell_type": "code",
     "collapsed": false,
     "input": [
      "function mover(x, d)\n",
      "    N=length(x)\n",
      "    GasNdt=[Particle(\"n\",0.0,0.0,0.0) for i=1:N]\n",
      "    for i in 1:N\n",
      "        GasNdt[i]= desplazamiento(x[i], d)\n",
      "    end\n",
      "    GasNdt\n",
      "end"
     ],
     "language": "python",
     "metadata": {},
     "outputs": [
      {
       "metadata": {},
       "output_type": "pyout",
       "prompt_number": 47,
       "text": [
        "mover (generic function with 3 methods)"
       ]
      }
     ],
     "prompt_number": 47
    },
    {
     "cell_type": "code",
     "collapsed": false,
     "input": [
      "y=GasN(40)\n",
      "mover(y, 8.5)"
     ],
     "language": "python",
     "metadata": {},
     "outputs": [
      {
       "metadata": {},
       "output_type": "pyout",
       "prompt_number": 48,
       "text": [
        "40-element Array{Particle,1}:\n",
        " Particle(\"1\",0.0,0.2940523099017325,0.14702615495086624)  \n",
        " Particle(\"2\",0.0,0.7936888952039811,0.39684444760199056)  \n",
        " Particle(\"3\",0.0,0.594157358067769,0.2970786790338845)    \n",
        " Particle(\"4\",0.0,0.3967791186335312,0.1983895593167656)   \n",
        " Particle(\"5\",0.0,0.1864395006111068,0.0932197503055534)   \n",
        " Particle(\"6\",0.0,0.11911925284551117,0.059559626422755585)\n",
        " Particle(\"7\",0.0,0.9474418814202128,0.4737209407101064)   \n",
        " Particle(\"8\",0.0,0.5932621118244183,0.2966310559122092)   \n",
        " Particle(\"9\",0.0,0.8449497931378729,0.42247489656893644)  \n",
        " Particle(\"10\",0.0,0.4046396880850238,0.2023198440425119)  \n",
        " Particle(\"11\",0.0,0.8795228947479983,0.43976144737399914) \n",
        " Particle(\"12\",0.0,0.40098812925931715,0.20049406462965857)\n",
        " Particle(\"13\",0.0,0.9788148508117287,0.48940742540586435) \n",
        " \u22ee                                                         \n",
        " Particle(\"29\",0.0,0.11936054101800941,0.05968027050900471)\n",
        " Particle(\"30\",0.0,0.5385259031057392,0.2692629515528696)  \n",
        " Particle(\"31\",0.0,0.2766332861741849,0.13831664308709246) \n",
        " Particle(\"32\",0.0,0.8635131853328233,0.43175659266641164) \n",
        " Particle(\"33\",0.0,0.26431667326004393,0.13215833663002197)\n",
        " Particle(\"34\",0.0,0.19131087641950995,0.09565543820975497)\n",
        " Particle(\"35\",0.0,0.48999317020852207,0.24499658510426103)\n",
        " Particle(\"36\",0.0,0.9173363025691623,0.45866815128458116) \n",
        " Particle(\"37\",0.0,0.5471770313161564,0.2735885156580782)  \n",
        " Particle(\"38\",0.0,0.03356523476622342,0.01678261738311171)\n",
        " Particle(\"39\",0.0,0.18932063496356544,0.09466031748178272)\n",
        " Particle(\"40\",0.0,0.9948031423932817,0.49740157119664086) "
       ]
      }
     ],
     "prompt_number": 48
    },
    {
     "cell_type": "heading",
     "level": 1,
     "metadata": {},
     "source": [
      "Aritm\u00e9tica de intervalos"
     ]
    },
    {
     "cell_type": "code",
     "collapsed": false,
     "input": [
      "type inter\n",
      "    f::Float64\n",
      "    d::Float64    \n",
      "end\n",
      "\n",
      "function inter(c)\n",
      "    inter(c,0.0)\n",
      "end"
     ],
     "language": "python",
     "metadata": {},
     "outputs": [
      {
       "metadata": {},
       "output_type": "pyout",
       "prompt_number": 56,
       "text": [
        "inter (constructor with 3 methods)"
       ]
      }
     ],
     "prompt_number": 56
    },
    {
     "cell_type": "markdown",
     "metadata": {},
     "source": [
      "funciones para intervalos"
     ]
    },
    {
     "cell_type": "code",
     "collapsed": false,
     "input": [
      "function +(a::inter, b::inter) #suma de dos intervalos\n",
      "    inter(a.f+b.f,a.d+b.d)\n",
      "end\n",
      "\n",
      "function +(a::inter, b::Real) #suma de un intervalo y  una constante\n",
      "    inter(a.f+b,a.d)\n",
      "end\n",
      "\n",
      "function +(b::Real, a::inter) #suma de una constante y un intervalo\n",
      "inter(a.f+b,a.d)\n",
      "end"
     ],
     "language": "python",
     "metadata": {},
     "outputs": [
      {
       "metadata": {},
       "output_type": "pyout",
       "prompt_number": 2,
       "text": [
        "+ (generic function with 120 methods)"
       ]
      }
     ],
     "prompt_number": 2
    },
    {
     "cell_type": "code",
     "collapsed": false,
     "input": [
      "function -(a::inter, b::inter) #suma de dos intervalos\n",
      "    inter(a.f-b.f,a.d-b.d)\n",
      "end\n",
      "\n",
      "function -(a::inter, b::Real) #suma de un intervalo y  una constante\n",
      "    inter(a.f-b,a.d)\n",
      "end\n",
      "\n",
      "function -(b::Real, a::inter)\n",
      "inter(a.f-b,a.d)\n",
      "end"
     ],
     "language": "python",
     "metadata": {},
     "outputs": [
      {
       "metadata": {},
       "output_type": "pyout",
       "prompt_number": 3,
       "text": [
        "- (generic function with 132 methods)"
       ]
      }
     ],
     "prompt_number": 3
    },
    {
     "cell_type": "code",
     "collapsed": false,
     "input": [
      "inter(0.1,0.3)+inter(9.7,62.0)"
     ],
     "language": "python",
     "metadata": {},
     "outputs": [
      {
       "metadata": {},
       "output_type": "pyout",
       "prompt_number": 6,
       "text": [
        "inter(9.799999999999999,62.3)"
       ]
      }
     ],
     "prompt_number": 6
    },
    {
     "cell_type": "code",
     "collapsed": false,
     "input": [
      "typeof(ans)"
     ],
     "language": "python",
     "metadata": {},
     "outputs": [
      {
       "metadata": {},
       "output_type": "pyout",
       "prompt_number": 7,
       "text": [
        "inter (constructor with 3 methods)"
       ]
      }
     ],
     "prompt_number": 7
    },
    {
     "cell_type": "code",
     "collapsed": false,
     "input": [
      "function *(a::inter, b::inter) #multiplicaciones\n",
      "    inter(a.f*b.f, a.f*b.d+a.d*b.f)\n",
      "end\n",
      "\n",
      "function *(a::inter, b::Real) #suma de un intervalo y  una constante\n",
      "    inter(a.f*b,a.d*b)\n",
      "end\n",
      "\n",
      "function *(b::Real, a::inter)\n",
      "inter(a.f*b,a.d*b)\n",
      "end"
     ],
     "language": "python",
     "metadata": {},
     "outputs": [
      {
       "metadata": {},
       "output_type": "pyout",
       "prompt_number": 8,
       "text": [
        "* (generic function with 118 methods)"
       ]
      }
     ],
     "prompt_number": 8
    },
    {
     "cell_type": "code",
     "collapsed": false,
     "input": [
      "inter(10.0)*inter(0.2,0.8)"
     ],
     "language": "python",
     "metadata": {},
     "outputs": [
      {
       "metadata": {},
       "output_type": "pyout",
       "prompt_number": 9,
       "text": [
        "inter(2.0,8.0)"
       ]
      }
     ],
     "prompt_number": 9
    },
    {
     "cell_type": "code",
     "collapsed": false,
     "input": [
      "function /(a::inter, b::inter)  #division\n",
      "    inter(a.f/b.f, (a.f*b.d-b.f*a.d)/b.d^2 )\n",
      "end\n",
      "\n",
      "function /(a::inter, b::Real) #suma de un intervalo y  una constante\n",
      "    inter(a.f/b,a.d/b)\n",
      "end\n",
      "\n",
      "function /(b::Real, a::inter)\n",
      "inter(a.f/b,a.d/b)\n",
      "end"
     ],
     "language": "python",
     "metadata": {},
     "outputs": [
      {
       "metadata": {},
       "output_type": "pyout",
       "prompt_number": 10,
       "text": [
        "/ (generic function with 48 methods)"
       ]
      }
     ],
     "prompt_number": 10
    },
    {
     "cell_type": "code",
     "collapsed": false,
     "input": [
      "function ^(a::inter, c::Integer)\n",
      "    inter(a.f^c, (c)*a.f^(c-1)*a.d)\n",
      "end"
     ],
     "language": "python",
     "metadata": {},
     "outputs": [
      {
       "metadata": {},
       "output_type": "pyout",
       "prompt_number": 11,
       "text": [
        "^ (generic function with 46 methods)"
       ]
      }
     ],
     "prompt_number": 11
    },
    {
     "cell_type": "code",
     "collapsed": false,
     "input": [
      "inter (9.0, 0.3)/3"
     ],
     "language": "python",
     "metadata": {},
     "outputs": [
      {
       "metadata": {},
       "output_type": "pyout",
       "prompt_number": 12,
       "text": [
        "inter(3.0,0.09999999999999999)"
       ]
      }
     ],
     "prompt_number": 12
    },
    {
     "cell_type": "code",
     "collapsed": false,
     "input": [
      "function pol(x)\n",
      "    x^2+3x+1\n",
      "end\n",
      "x=inter(2.0,1.0)\n",
      "pol(x)"
     ],
     "language": "python",
     "metadata": {},
     "outputs": [
      {
       "metadata": {},
       "output_type": "pyout",
       "prompt_number": 13,
       "text": [
        "inter(11.0,7.0)"
       ]
      }
     ],
     "prompt_number": 13
    },
    {
     "cell_type": "code",
     "collapsed": false,
     "input": [
      "function pol(x)\n",
      "    x^2+3x+1\n",
      "end\n",
      "x=inter(2.0,5.0)\n",
      "pol(x)"
     ],
     "language": "python",
     "metadata": {},
     "outputs": [
      {
       "metadata": {},
       "output_type": "pyout",
       "prompt_number": 14,
       "text": [
        "inter(11.0,35.0)"
       ]
      }
     ],
     "prompt_number": 14
    },
    {
     "cell_type": "markdown",
     "metadata": {},
     "source": [
      "obteniendo la derivada en 2 del polinomio $2x+3|_{x=2}=7$, multiplicada por el tama\u00f1o del intervalo $d_{x}$"
     ]
    },
    {
     "cell_type": "code",
     "collapsed": false,
     "input": [
      "function polqu(x)\n",
      "    (x^7+7*x^3-8*x+2)/(x^3+4*x+5)\n",
      "end\n",
      "\n",
      "x=inter(2.0, 1.0)\n",
      "polqu(x)"
     ],
     "language": "python",
     "metadata": {},
     "outputs": [
      {
       "metadata": {},
       "output_type": "pyout",
       "prompt_number": 15,
       "text": [
        "inter(8.095238095238095,-32.359375)"
       ]
      }
     ],
     "prompt_number": 15
    },
    {
     "cell_type": "code",
     "collapsed": false,
     "input": [
      "a=2.0\n",
      "#la derivada en 2\n",
      "((3a^2+4)*(a^7+7a^3-8a+2)-(7a^6+21a^2-8)*(a^3+4a+5))/(3a^2+4)^2"
     ],
     "language": "python",
     "metadata": {},
     "outputs": [
      {
       "metadata": {},
       "output_type": "pyout",
       "prompt_number": 16,
       "text": [
        "-32.359375"
       ]
      }
     ],
     "prompt_number": 16
    },
    {
     "cell_type": "markdown",
     "metadata": {},
     "source": [
      "vemos que para un cociente de polinomios $d_x$ corresponde a la derivada del cociente."
     ]
    },
    {
     "cell_type": "markdown",
     "metadata": {},
     "source": [
      "Para ahora utilizar esto para funciones mas generales como la exponencial, seno, coseno, logaritmo, observo que es suficiente con asignar a la primera entrada el valor de la finci[on aplicado a x.f, y a la segunda entrada la derivada aplicada a x.f por el ancho del intervalo x,d."
     ]
    },
    {
     "cell_type": "code",
     "collapsed": false,
     "input": [
      "function expo(a::inter)\n",
      "inter(exp(a.f), exp(a.f)*a.d)\n",
      "end"
     ],
     "language": "python",
     "metadata": {},
     "outputs": [
      {
       "metadata": {},
       "output_type": "pyout",
       "prompt_number": 17,
       "text": [
        "expo (generic function with 1 method)"
       ]
      }
     ],
     "prompt_number": 17
    },
    {
     "cell_type": "code",
     "collapsed": false,
     "input": [
      "x=inter(2.0, 0.5)"
     ],
     "language": "python",
     "metadata": {},
     "outputs": [
      {
       "metadata": {},
       "output_type": "pyout",
       "prompt_number": 21,
       "text": [
        "inter(2.0,0.5)"
       ]
      }
     ],
     "prompt_number": 21
    },
    {
     "cell_type": "code",
     "collapsed": false,
     "input": [
      "expo(x)"
     ],
     "language": "python",
     "metadata": {},
     "outputs": [
      {
       "metadata": {},
       "output_type": "pyout",
       "prompt_number": 22,
       "text": [
        "inter(7.38905609893065,3.694528049465325)"
       ]
      }
     ],
     "prompt_number": 22
    },
    {
     "cell_type": "code",
     "collapsed": false,
     "input": [
      "function logaritmo(a::inter)\n",
      "    inter(log(a.f), 1/(a.f)*a.d)\n",
      "end"
     ],
     "language": "python",
     "metadata": {},
     "outputs": [
      {
       "metadata": {},
       "output_type": "pyout",
       "prompt_number": 24,
       "text": [
        "logaritmo (generic function with 1 method)"
       ]
      }
     ],
     "prompt_number": 24
    },
    {
     "cell_type": "code",
     "collapsed": false,
     "input": [
      "function coseno(a::inter)\n",
      "    inter(cos(a.f), -sen(a.f)*a.d)\n",
      "end"
     ],
     "language": "python",
     "metadata": {},
     "outputs": [
      {
       "metadata": {},
       "output_type": "pyout",
       "prompt_number": 27,
       "text": [
        "coseno (generic function with 1 method)"
       ]
      }
     ],
     "prompt_number": 27
    },
    {
     "cell_type": "code",
     "collapsed": false,
     "input": [
      "function seno(a::inter)\n",
      "    inter(sen(a.f), cos(a.f)*a.d)\n",
      "    \n",
      "end"
     ],
     "language": "python",
     "metadata": {},
     "outputs": [
      {
       "metadata": {},
       "output_type": "pyout",
       "prompt_number": 28,
       "text": [
        "seno (generic function with 1 method)"
       ]
      }
     ],
     "prompt_number": 28
    },
    {
     "cell_type": "code",
     "collapsed": false,
     "input": [
      "function tangente(a::inter)\n",
      "    inter(tan(a.f), sec^2(a.f)*a.d)\n",
      "    \n",
      "end"
     ],
     "language": "python",
     "metadata": {},
     "outputs": [
      {
       "metadata": {},
       "output_type": "pyout",
       "prompt_number": 29,
       "text": [
        "tangente (generic function with 1 method)"
       ]
      }
     ],
     "prompt_number": 29
    },
    {
     "cell_type": "markdown",
     "metadata": {},
     "source": [
      "Hasta este punto estuvimos trabajando con intervalos definidos mediante el punto inicial f y un diferencial d, podemos hacerlo de otra manera que es definiendo los puntos extremos del intervalo. La manera en que se opera con intervalos se encuentra en la siguiente liga http://ctt.sbras.ru/interval/Library/InteDiss/Leclerc.pdf y de alguna manera trate de implementarla en la tarea 2 https://github.com/lauper1/tareas_fca_lauraperez/blob/master/tarea_2.ipynb. Ahora con el conocimiento de los tipos compositos espero quede mucho mejor."
     ]
    },
    {
     "cell_type": "code",
     "collapsed": false,
     "input": [
      "type Into\n",
      "    a::Float64\n",
      "    b::Float64\n",
      "end"
     ],
     "language": "python",
     "metadata": {},
     "outputs": [],
     "prompt_number": 33
    },
    {
     "cell_type": "code",
     "collapsed": false,
     "input": [
      "function +(x::Into, y::Into)\n",
      "    Into(x.a+y.a,x.b+y.b)\n",
      "end\n",
      "function+(x::Into, c::Real)\n",
      "    Into(x.a+c, xb+c)\n",
      "end\n",
      "function+(c::Real,x::Into)\n",
      "    Into(x.a+c, xb+c)\n",
      "end"
     ],
     "language": "python",
     "metadata": {},
     "outputs": [
      {
       "metadata": {},
       "output_type": "pyout",
       "prompt_number": 40,
       "text": [
        "+ (generic function with 123 methods)"
       ]
      }
     ],
     "prompt_number": 40
    },
    {
     "cell_type": "code",
     "collapsed": false,
     "input": [
      "Into(9.0,1.0)+Into(-1.0, 2.0)"
     ],
     "language": "python",
     "metadata": {},
     "outputs": [
      {
       "metadata": {},
       "output_type": "pyout",
       "prompt_number": 37,
       "text": [
        "Into(8.0,3.0)"
       ]
      }
     ],
     "prompt_number": 37
    },
    {
     "cell_type": "code",
     "collapsed": false,
     "input": [
      "function -(x::Into, y::Into)\n",
      "    Into(x.a-y.b,x.b-y.a)\n",
      "end\n",
      "function-(x::Into, c::Real)\n",
      "    Into(x.a-c, xb-c)\n",
      "end\n",
      "function-(c::Real,x::Into)\n",
      "    Into(x.a-c, xb-c)\n",
      "end"
     ],
     "language": "python",
     "metadata": {},
     "outputs": [
      {
       "metadata": {},
       "output_type": "pyout",
       "prompt_number": 49,
       "text": [
        "- (generic function with 135 methods)"
       ]
      }
     ],
     "prompt_number": 49
    },
    {
     "cell_type": "code",
     "collapsed": false,
     "input": [
      "function *(x::Into, y::Into)\n",
      "Into(min(x.a*y.b,x.b*y.a, x.a*y.a, x.b*y.b),max(x.a*y.b,x.b*y.a, x.a*y.a, x.b*y.b))\n",
      "end\n"
     ],
     "language": "python",
     "metadata": {},
     "outputs": [
      {
       "metadata": {},
       "output_type": "pyout",
       "prompt_number": 44,
       "text": [
        "* (generic function with 119 methods)"
       ]
      }
     ],
     "prompt_number": 44
    },
    {
     "cell_type": "code",
     "collapsed": false,
     "input": [
      "function /(x::Into, y::Into)#la division se define en terminos de la multiplicacion\n",
      "    Into(x.a,x.b)*Into(1/y.a, 1/y.b)\n",
      "    \n",
      "end"
     ],
     "language": "python",
     "metadata": {},
     "outputs": [
      {
       "metadata": {},
       "output_type": "pyout",
       "prompt_number": 45,
       "text": [
        "/ (generic function with 49 methods)"
       ]
      }
     ],
     "prompt_number": 45
    },
    {
     "cell_type": "markdown",
     "metadata": {},
     "source": [
      "Es posible implementar el redondeo en estas definiciones de modo que los l\u00edmites inferiores de los intervalos resultantes se calculen con Rounddown y los l\u00edmites superiores con RoundUp. De este modo nos estaremos asegurando que definir un intervalo mas conservador y que si contenga  a los valores de la funci\u00f3n.\n"
     ]
    },
    {
     "cell_type": "code",
     "collapsed": false,
     "input": [
      "function +(x::Into, y::Into)\n",
      "    set_rounding(Float64, RoundDown)\n",
      "    j=x.a+y.a\n",
      "    set_rounding(Float64, RoundUp)\n",
      "    i=x.b+y.b\n",
      "    Into(i, j)\n",
      "end\n",
      "function+(x::Into, c::Real)\n",
      "    set_rounding(Float64, RoundDown)\n",
      "    j=x.a+c\n",
      "    set_rounding(Float64, RoundUp)\n",
      "    i=xb+c\n",
      "    Into(i, j)\n",
      "end\n",
      "function+(c::Real,x::Into)\n",
      "    set_rounding(Float64, RoundDown)\n",
      "    j=x.a+c\n",
      "    set_rounding(Float64, RoundUp)\n",
      "    i=xb+c\n",
      "    Into(i, j)\n",
      "end"
     ],
     "language": "python",
     "metadata": {},
     "outputs": [
      {
       "metadata": {},
       "output_type": "pyout",
       "prompt_number": 47,
       "text": [
        "+ (generic function with 123 methods)"
       ]
      }
     ],
     "prompt_number": 47
    },
    {
     "cell_type": "code",
     "collapsed": false,
     "input": [
      "function -(x::Into, y::Into)\n",
      "    set_rounding(Float64, RoundDown)\n",
      "    j=x.a-y.a\n",
      "    set_rounding(Float64, RoundUp)\n",
      "    i=x.b-y.b\n",
      "    Into(i, j)\n",
      "end\n",
      "function-(x::Into, c::Real)\n",
      "    set_rounding(Float64, RoundDown)\n",
      "    j=x.a-c\n",
      "    set_rounding(Float64, RoundUp)\n",
      "    i=xb-c\n",
      "    Into(i, j)\n",
      "end\n",
      "function-(c::Real,x::Into)\n",
      "    set_rounding(Float64, RoundDown)\n",
      "    j=x.a-c\n",
      "    set_rounding(Float64, RoundUp)\n",
      "    i=xb-c\n",
      "    Into(i, j)\n",
      "end"
     ],
     "language": "python",
     "metadata": {},
     "outputs": [
      {
       "metadata": {},
       "output_type": "pyout",
       "prompt_number": 48,
       "text": [
        "- (generic function with 135 methods)"
       ]
      }
     ],
     "prompt_number": 48
    },
    {
     "cell_type": "code",
     "collapsed": false,
     "input": [
      "function *(x::Into, y::Into)\n",
      "     set_rounding(Float64, RoundDown)\n",
      "    i=min(x.a*y.b,x.b*y.a, x.a*y.a, x.b*y.b)\n",
      "    set_rounding(Float64, RoundUp)\n",
      "    j=max(x.a*y.b,x.b*y.a, x.a*y.a, x.b*y.b)\n",
      "    Into(i, j)\n",
      "end\n",
      "function *(x::Into, c::Real)\n",
      "    set_rounding(Float64, RoundDown)\n",
      "    j=x.a*c\n",
      "    set_rounding(Float64, RoundUp)\n",
      "    i=xb*c\n",
      "    Into(i, j)\n",
      "end\n",
      "function *(c::Real, x::Into)\n",
      "   set_rounding(Float64, RoundDown)\n",
      "    j=x.a*c\n",
      "    set_rounding(Float64, RoundUp)\n",
      "    i=xb*c\n",
      "    Into(i, j)\n",
      "end "
     ],
     "language": "python",
     "metadata": {},
     "outputs": [
      {
       "metadata": {},
       "output_type": "pyout",
       "prompt_number": 53,
       "text": [
        "* (generic function with 121 methods)"
       ]
      }
     ],
     "prompt_number": 53
    },
    {
     "cell_type": "code",
     "collapsed": false,
     "input": [
      "function /(x::Into, y::Into)#la division se define en terminos de la multiplicacion\n",
      "    Into(x.a,x.b)*Into(1/y.a, 1/y.b)\n",
      "    \n",
      "end"
     ],
     "language": "python",
     "metadata": {},
     "outputs": [
      {
       "metadata": {},
       "output_type": "pyout",
       "prompt_number": 54,
       "text": [
        "/ (generic function with 49 methods)"
       ]
      }
     ],
     "prompt_number": 54
    }
   ],
   "metadata": {}
  }
 ]
}