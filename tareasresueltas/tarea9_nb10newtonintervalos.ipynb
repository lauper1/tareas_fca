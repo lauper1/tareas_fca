{
 "metadata": {
  "language": "Julia",
  "name": "",
  "signature": "sha256:9374cb4194ee779893a2f6975d224193e0e14c025c7b4bb8f93f63df5f6244da"
 },
 "nbformat": 3,
 "nbformat_minor": 0,
 "worksheets": [
  {
   "cells": [
    {
     "cell_type": "markdown",
     "metadata": {},
     "source": [
      "[1] Escribe una funci\u00f3n que calcule el operador de Newton para un intervalo X, dadas f(x) y f\u2032(x)."
     ]
    },
    {
     "cell_type": "markdown",
     "metadata": {},
     "source": [
      "yo se que el operador de Newton est\u00e1 dado por $N(X):=M\u2212\\frac{F(M)}{F\u2032(X)}$"
     ]
    },
    {
     "cell_type": "code",
     "collapsed": false,
     "input": [
      "push!(LOAD_PATH, \"C:\\\\Users\\\\laura\\\\Desktop\\\\julia\\\\tareas-fca\\\\intervalos\")\n",
      "using Intervalosa\n",
      "using Derivadasa"
     ],
     "language": "python",
     "metadata": {},
     "outputs": [
      {
       "output_type": "stream",
       "stream": "stderr",
       "text": [
        "Warning: New definition \n",
        "    log"
       ]
      },
      {
       "output_type": "stream",
       "stream": "stderr",
       "text": [
        "(Real,Intervalo) at C:\\Users\\laura\\Desktop\\julia\\tareas-fca\\intervalos\\Intervalosa.jl:246\n",
        "is ambiguous with: \n",
        "    log(MathConst{:"
       ]
      },
      {
       "output_type": "stream",
       "stream": "stderr",
       "text": [
        "e},Any) at constants.jl:82.\n",
        "To fix, define \n",
        "    log(MathConst{:e},Intervalo)\n",
        "before the new definition.\n"
       ]
      },
      {
       "output_type": "stream",
       "stream": "stderr",
       "text": [
        "INFO: Loading help data...\n"
       ]
      },
      {
       "output_type": "stream",
       "stream": "stderr",
       "text": [
        "Warning: New definition \n",
        "    ^"
       ]
      },
      {
       "output_type": "stream",
       "stream": "stderr",
       "text": [
        "(fdev,Real) at C:\\Users\\laura\\Desktop\\julia\\tareas-fca\\intervalos\\Derivadasa.jl:72\n",
        "is ambiguous with: \n",
        "    ^(Any,Integer) at intfuncs.jl:86.\n",
        "To fix, define \n",
        "    ^(fdev,Integer)"
       ]
      }
     ],
     "prompt_number": 1
    },
    {
     "cell_type": "code",
     "collapsed": false,
     "input": [
      "function opNEWTON(f::Function, I:: Intervalo)\n",
      "        m=(I.b+I.a)/2\n",
      "        M=Intervalo(m)\n",
      "    x=fdev(I,1) #Intervalo(1))  #para los intervalos el 1 corresponde al Intervalo(1)\n",
      "    M-f(M)/f(x).d\n",
      "end"
     ],
     "language": "python",
     "metadata": {},
     "outputs": [
      {
       "output_type": "stream",
       "stream": "stderr",
       "text": [
        "\n",
        "before the new definition.\n"
       ]
      },
      {
       "metadata": {},
       "output_type": "pyout",
       "prompt_number": 2,
       "text": [
        "opNEWTON (generic function with 1 method)"
       ]
      }
     ],
     "prompt_number": 2
    },
    {
     "cell_type": "code",
     "collapsed": false,
     "input": [
      "f(x)=x^3-6+8x\n",
      "df(x)=3*x^2+8\n",
      "A=Intervalo(1,3)\n",
      "f(fdev(A,1))"
     ],
     "language": "python",
     "metadata": {},
     "outputs": [
      {
       "metadata": {},
       "output_type": "pyout",
       "prompt_number": 3,
       "text": [
        "fdev(Intervalo(3e+00 with 256 bits of precision,4.5e+01 with 256 bits of precision),Intervalo(1.1e+01 with 256 bits of precision,3.5e+01 with 256 bits of precision))"
       ]
      }
     ],
     "prompt_number": 3
    },
    {
     "cell_type": "code",
     "collapsed": false,
     "input": [
      "ans==fdev(f(A),df(A)) #para ver que fdev funciona bien para intervalos"
     ],
     "language": "python",
     "metadata": {},
     "outputs": [
      {
       "metadata": {},
       "output_type": "pyout",
       "prompt_number": 4,
       "text": [
        "true"
       ]
      }
     ],
     "prompt_number": 4
    },
    {
     "cell_type": "markdown",
     "metadata": {},
     "source": [
      "[2] Implementa el m\u00e9todo de Newton para intervalos para encontrar las ra\u00edces de $f(x)=x^3\u22121$ a partir de X=[\u22123,3]. Muestra gr\u00e1ficamente la implementaci\u00f3n del m\u00e9todo. En cada iteraci\u00f3n subsecuente del m\u00e9todo, ilustra qu\u00e9 le pasa al di\u00e1metro de la refincaci\u00f3n del intervalo que vas obteniendo.\n",
      "\n"
     ]
    },
    {
     "cell_type": "markdown",
     "metadata": {},
     "source": [
      "Para esto necesito primero definir la intersecci\u00f3n de intervalos, a pesar de incluirlo en este notebook ya se encuentra en el modulo correspondiente."
     ]
    },
    {
     "cell_type": "raw",
     "metadata": {},
     "source": [
      "function Intrsc(x::Intervalo, y::Intervalo)\n",
      "#seis casos en total\n",
      "##primero ver si es el conjunto vac\u00edo\n",
      "  if x.b<=y.a || y.b<=x.a #dos casos\n",
      "       ans=vacio(0)\n",
      "  elseif x.b> y.a #dos casos\n",
      "    d=max(y.a, x.a)\n",
      "    u=min(x.b, y.b)\n",
      "        ans= Intervalo(u, d)\n",
      "  elseif y.b> x.a\n",
      "      d=max(y.a, x.a)\n",
      "      u=min(y.b, x.b)\n",
      "        ans=Intervalo(u, d)\n",
      "        end\n",
      "    ans\n",
      "end"
     ]
    },
    {
     "cell_type": "code",
     "collapsed": false,
     "input": [
      "x=Intervalo(0,1)\n",
      "y=Intervalo(-1,0)\n",
      "Intrsc(y, x)"
     ],
     "language": "python",
     "metadata": {},
     "outputs": [
      {
       "metadata": {},
       "output_type": "pyout",
       "prompt_number": 5,
       "text": [
        "Intervalo(0e+00 with 256 bits of precision,0e+00 with 256 bits of precision)"
       ]
      }
     ],
     "prompt_number": 5
    },
    {
     "cell_type": "code",
     "collapsed": false,
     "input": [
      "x=Intervalo(0,10)\n",
      "y=Intervalo(3,90)\n",
      "Intrsc(x, y)"
     ],
     "language": "python",
     "metadata": {},
     "outputs": [
      {
       "metadata": {},
       "output_type": "pyout",
       "prompt_number": 6,
       "text": [
        "Intervalo(3e+00 with 256 bits of precision,1e+01 with 256 bits of precision)"
       ]
      }
     ],
     "prompt_number": 6
    },
    {
     "cell_type": "code",
     "collapsed": false,
     "input": [
      "x=Intervalo(0,10) \n",
      "y=Intervalo(-1,2)\n",
      "Intrsc(x, y)"
     ],
     "language": "python",
     "metadata": {},
     "outputs": [
      {
       "metadata": {},
       "output_type": "pyout",
       "prompt_number": 7,
       "text": [
        "Intervalo(0e+00 with 256 bits of precision,2e+00 with 256 bits of precision)"
       ]
      }
     ],
     "prompt_number": 7
    },
    {
     "cell_type": "code",
     "collapsed": false,
     "input": [
      "x=Intervalo(0,10) \n",
      "y=Intervalo(-1,2)\n",
      "Intrsc(y, x)"
     ],
     "language": "python",
     "metadata": {},
     "outputs": [
      {
       "metadata": {},
       "output_type": "pyout",
       "prompt_number": 8,
       "text": [
        "Intervalo(0e+00 with 256 bits of precision,2e+00 with 256 bits of precision)"
       ]
      }
     ],
     "prompt_number": 8
    },
    {
     "cell_type": "markdown",
     "metadata": {},
     "source": [
      "Ahora si, estoy en posibilidad de definir el metodo de Newton encontrar ra\u00edces de funciones, utilizando intervalos."
     ]
    },
    {
     "cell_type": "code",
     "collapsed": false,
     "input": [
      "function NEWTONF(f::Function, I, lim)#::Intervalo, lim)   \n",
      "    j=0\n",
      "    while norm(I)>lim\n",
      "        x=opNEWTON(f, I)\n",
      "        w=Intrsc(x,I)\n",
      "        if w==vacio(0)\n",
      "            println(\"el intervalo no contiene ra\u00edces\")\n",
      "            break\n",
      "            I=Intervalo(0,0)\n",
      "        end\n",
      "        I=w\n",
      "       j=j+1\n",
      "        println(\"despues de $j iteraciones se que la ra\u00edz esta en $I, con  norma $(norm(I))\")\n",
      " \n",
      "    end\n",
      "       I\n",
      "end             "
     ],
     "language": "python",
     "metadata": {},
     "outputs": [
      {
       "metadata": {},
       "output_type": "pyout",
       "prompt_number": 20,
       "text": [
        "NEWTONF (generic function with 1 method)"
       ]
      }
     ],
     "prompt_number": 20
    },
    {
     "cell_type": "code",
     "collapsed": false,
     "input": [
      "function NEWTONF(f::Function, I, lim)#::Intervalo, lim)   \n",
      "    j=0\n",
      "    a=0\n",
      "    while norm(I)>lim\n",
      "        x=opNEWTON(f, I)\n",
      "        w=Intrsc(x,I)\n",
      "        #println(w)\n",
      "        if w==vacio(0)\n",
      "            println(\"la funci\u00f3n no contiene ra\u00edces en $I\")\n",
      "            a=1\n",
      "            I=vacio(0)\n",
      "            break\n",
      "        else\n",
      "           I=w\n",
      "           j=j+1\n",
      "            a=0\n",
      "        \n",
      "        end\n",
      "       \n",
      "    end\n",
      "    if a!=1 \n",
      "        println(\"despues de $j iteraciones se que la ra\u00edz esta en $I, con  norma $(norm(I))\")      \n",
      "    end\n",
      "    I\n",
      "end             "
     ],
     "language": "python",
     "metadata": {},
     "outputs": [
      {
       "metadata": {},
       "output_type": "pyout",
       "prompt_number": 95,
       "text": [
        "NEWTONF (generic function with 1 method)"
       ]
      }
     ],
     "prompt_number": 95
    },
    {
     "cell_type": "code",
     "collapsed": false,
     "input": [
      "f(x)=x^2\n",
      "\n",
      "I=Intervalo(-3, -0.1)\n",
      "\n",
      "NEWTONF(f,I, 0.0000000000000001)"
     ],
     "language": "python",
     "metadata": {},
     "outputs": [
      {
       "output_type": "stream",
       "stream": "stdout",
       "text": [
        "la funci\u00f3n no contiene ra\u00edces en Intervalo(-1.928801857084350102152568430597227124363011965256331211192688382700338829996968e-01 with 256 bits of precision,-1.000000000000000055511151231257827021181583404541015625e-01 with 256 bits of precision)"
       ]
      },
      {
       "output_type": "stream",
       "stream": "stdout",
       "text": [
        "\n"
       ]
      },
      {
       "metadata": {},
       "output_type": "pyout",
       "prompt_number": 96,
       "text": [
        "vacio(0)"
       ]
      }
     ],
     "prompt_number": 96
    },
    {
     "cell_type": "code",
     "collapsed": false,
     "input": [
      "f(x)=x^3-1\n",
      "\n",
      "I=Intervalo(0.1, 3)\n",
      "\n",
      "NEWTONF(f,I, 0.0000000000000001)"
     ],
     "language": "python",
     "metadata": {},
     "outputs": [
      {
       "output_type": "stream",
       "stream": "stdout",
       "text": [
        "despues de 7 iteraciones se que la ra\u00edz esta en Intervalo(9.999999999999999999999999982198344079895427325473298016609682086926528099011714e-01 with 256 bits of precision,1.000000000000000000000000001859848468708849669621025332902428770966579671006857e+00 with 256 bits of precision), con  norma 3.640014060719306937073695531241460562273926861105685866973395948163294267468493e-27"
       ]
      },
      {
       "output_type": "stream",
       "stream": "stdout",
       "text": [
        "\n"
       ]
      },
      {
       "metadata": {},
       "output_type": "pyout",
       "prompt_number": 97,
       "text": [
        "Intervalo(9.999999999999999999999999982198344079895427325473298016609682086926528099011714e-01 with 256 bits of precision,1.000000000000000000000000001859848468708849669621025332902428770966579671006857e+00 with 256 bits of precision)"
       ]
      }
     ],
     "prompt_number": 97
    },
    {
     "cell_type": "markdown",
     "metadata": {},
     "source": [
      "Este solo me sirve para hallar una ra\u00edz y no sirve para el caso en el que $ 0\\in F'(X)$."
     ]
    },
    {
     "cell_type": "markdown",
     "metadata": {},
     "source": [
      "Para poder trabajar con el caso en el que la derivada se haga cero es mejor dividir el intervalo. S\u00f3lo me voy a fiajr si el intervalo contiene al cero, en cuyo caso habra que bisectarlo.\n"
     ]
    },
    {
     "cell_type": "code",
     "collapsed": false,
     "input": [
      "function NEWTONG (f::Function, I, lim)\n",
      "    if sign(I.a*I.b)==1\n",
      "        NEWTONF(f,I,lim)\n",
      "        else \n",
      "        {NEWTONF(f, bisectar(I,1)-eps(0.0), lim), NEWTONF(f, bisectar(I, 2)+eps(0.0), lim)}\n",
      "        end\n",
      "        \n",
      "end"
     ],
     "language": "python",
     "metadata": {},
     "outputs": [
      {
       "metadata": {},
       "output_type": "pyout",
       "prompt_number": 98,
       "text": [
        "NEWTONG (generic function with 1 method)"
       ]
      }
     ],
     "prompt_number": 98
    },
    {
     "cell_type": "code",
     "collapsed": false,
     "input": [
      "f(x)=x^3-1\n",
      "I=Intervalo(-3, 3)\n",
      "NEWTONG(f,I, 0.0000000000000001)"
     ],
     "language": "python",
     "metadata": {},
     "outputs": [
      {
       "output_type": "stream",
       "stream": "stdout",
       "text": [
        "la funci\u00f3n no contiene ra\u00edces en Intervalo(-4.270283576016440605386299682744089939086806142197401082392082659480479589594078e-01 with 256 bits of precision,-4.940656458412465441765687928682213723650598026143247644255856825006755072702088e-324 with 256 bits of precision)"
       ]
      },
      {
       "output_type": "stream",
       "stream": "stdout",
       "text": [
        "\n",
        "despues de 7 iteraciones se que la ra\u00edz esta en Intervalo(9.999999999999999999999999865429727116479393935310221479143372026949837406291259e-01 with 256 bits of precision,1.00000000000000000000000001414163057886212725444813686500770195229157327571382e+00 with 256 bits of precision), con  norma 2.759865786721418786091711471709336474959658953508469412891696740598572611663293e-26\n"
       ]
      },
      {
       "metadata": {},
       "output_type": "pyout",
       "prompt_number": 115,
       "text": [
        "2-element Array{Any,1}:\n",
        " vacio(0)                                                                                                                                                                                                                                 \n",
        " Intervalo(9.999999999999999999999999865429727116479393935310221479143372026949837406291259e-01 with 256 bits of precision,1.00000000000000000000000001414163057886212725444813686500770195229157327571382e+00 with 256 bits of precision)"
       ]
      }
     ],
     "prompt_number": 115
    },
    {
     "cell_type": "code",
     "collapsed": false,
     "input": [
      "f(x)=x^2+1\n",
      "I=Intervalo(-3, 3)\n",
      "NEWTONG(f,I, 0.0000000000000001)"
     ],
     "language": "python",
     "metadata": {},
     "outputs": [
      {
       "output_type": "stream",
       "stream": "stdout",
       "text": [
        "la funci\u00f3n no contiene ra\u00edces en Intervalo(-9.583333333333333333333333333333333333333333333333333333333333333333333333333564e-01 with 256 bits of precision,-4.940656458412465441765687928682213723650598026143247644255856825006755072702088e-324 with 256 bits of precision)"
       ]
      },
      {
       "output_type": "stream",
       "stream": "stdout",
       "text": [
        "\n",
        "la funci\u00f3n no contiene ra\u00edces en Intervalo(4.940656458412465441765687928682213723650598026143247644255856825006755072702088e-324 with 256 bits of precision,9.583333333333333333333333333333333333333333333333333333333333333333333333333564e-01 with 256 bits of precision)\n"
       ]
      },
      {
       "metadata": {},
       "output_type": "pyout",
       "prompt_number": 116,
       "text": [
        "2-element Array{Any,1}:\n",
        " vacio(0)\n",
        " vacio(0)"
       ]
      }
     ],
     "prompt_number": 116
    },
    {
     "cell_type": "markdown",
     "metadata": {},
     "source": [
      "[4] Considera la familia de polinomios de Wilkinson definidos por $W_n(x)=\u220f_{i=1}^n(x\u2212i)$. Partiendo de un intervalo sim\u00e9trico alrededor de cero, implementa el m\u00e9todo de Newton para encontrar sus ra\u00edces, utilizando diferenciaci\u00f3n autom\u00e1tica.\n",
      "\n"
     ]
    },
    {
     "cell_type": "code",
     "collapsed": false,
     "input": [
      "function pwilkinson(x, n)\n",
      "    w=1\n",
      "    for j in 1:n\n",
      "        p=x-j\n",
      "        w=w*p\n",
      "    end\n",
      "    w\n",
      "end    "
     ],
     "language": "python",
     "metadata": {},
     "outputs": [
      {
       "metadata": {},
       "output_type": "pyout",
       "prompt_number": 117,
       "text": [
        "pwilkinson (generic function with 1 method)"
       ]
      }
     ],
     "prompt_number": 117
    },
    {
     "cell_type": "code",
     "collapsed": false,
     "input": [
      "pwilkinson(3,2)"
     ],
     "language": "python",
     "metadata": {},
     "outputs": [
      {
       "metadata": {},
       "output_type": "pyout",
       "prompt_number": 118,
       "text": [
        "2"
       ]
      }
     ],
     "prompt_number": 118
    },
    {
     "cell_type": "code",
     "collapsed": false,
     "input": [
      "p2w(x)=(x-1)*(x-2) #solo para ver que funcion bien"
     ],
     "language": "python",
     "metadata": {},
     "outputs": [
      {
       "metadata": {},
       "output_type": "pyout",
       "prompt_number": 122,
       "text": [
        "p2w (generic function with 1 method)"
       ]
      }
     ],
     "prompt_number": 122
    },
    {
     "cell_type": "code",
     "collapsed": false,
     "input": [
      "p2w(3)"
     ],
     "language": "python",
     "metadata": {},
     "outputs": [
      {
       "metadata": {},
       "output_type": "pyout",
       "prompt_number": 121,
       "text": [
        "2"
       ]
      }
     ],
     "prompt_number": 121
    },
    {
     "cell_type": "code",
     "collapsed": false,
     "input": [
      "g(x)=pwilkinson(x,1)\n",
      "I=Intervalo(-3, 3)\n",
      "NEWTONG(g,I, 0.0000000000000001)"
     ],
     "language": "python",
     "metadata": {},
     "outputs": [
      {
       "output_type": "stream",
       "stream": "stdout",
       "text": [
        "la funci\u00f3n no contiene ra\u00edces en Intervalo(-3.000000000000000000000000000000000000000000000000000000000000000000000000000035e+00 with 256 bits of precision,-4.940656458412465441765687928682213723650598026143247644255856825006755072702088e-324 with 256 bits of precision)"
       ]
      },
      {
       "output_type": "stream",
       "stream": "stdout",
       "text": [
        "\n",
        "despues de 1 iteraciones se que la ra\u00edz esta en Intervalo(1e+00 with 256 bits of precision,1e+00 with 256 bits of precision), con  norma 0e+00\n"
       ]
      },
      {
       "metadata": {},
       "output_type": "pyout",
       "prompt_number": 124,
       "text": [
        "2-element Array{Any,1}:\n",
        " vacio(0)                                                                    \n",
        " Intervalo(1e+00 with 256 bits of precision,1e+00 with 256 bits of precision)"
       ]
      }
     ],
     "prompt_number": 124
    },
    {
     "cell_type": "code",
     "collapsed": false,
     "input": [
      "g(x)=pwilkinson(x,2)\n",
      "I=Intervalo(-3, 3)\n",
      "NEWTONG(g,I, 0.0000000000000001)"
     ],
     "language": "python",
     "metadata": {},
     "outputs": [
      {
       "output_type": "stream",
       "stream": "stdout",
       "text": [
        "la funci\u00f3n no contiene ra\u00edces en Intervalo(-5.277777777777777777777777777777777777777777777777777777777777777777777777778171e-01 with 256 bits of precision,-4.940656458412465441765687928682213723650598026143247644255856825006755072702088e-324 with 256 bits of precision)"
       ]
      },
      {
       "output_type": "stream",
       "stream": "stdout",
       "text": [
        "\n"
       ]
      },
      {
       "ename": "LoadError",
       "evalue": "`opNEWTON` has no method matching opNEWTON(::Function, ::UnionI)\nwhile loading In[127], in expression starting on line 3",
       "output_type": "pyerr",
       "traceback": [
        "`opNEWTON` has no method matching opNEWTON(::Function, ::UnionI)\nwhile loading In[127], in expression starting on line 3",
        "",
        " in NEWTONF at In[95]:5",
        " in NEWTONG at In[98]:5"
       ]
      }
     ],
     "prompt_number": 127
    },
    {
     "cell_type": "markdown",
     "metadata": {},
     "source": [
      "falla porque en este caso g(x)=x^2-3x+2  tiene derivada cero en un punto distinto de cero ($g'(x)=2x-3, g'(3/2)=0$), y al bisectar no nos estamos quitando el punto que era problematico, que en esta caso es 3/2."
     ]
    },
    {
     "cell_type": "code",
     "collapsed": false,
     "input": [
      "g(x)=pwilkinson(x,2)\n",
      "I=Intervalo(3/2+eps(3/2), 5)\n",
      "NEWTONG(g,I, 0.0000000000000001)"
     ],
     "language": "python",
     "metadata": {},
     "outputs": [
      {
       "output_type": "stream",
       "stream": "stdout",
       "text": [
        "despues de 7 iteraciones se que la ra\u00edz esta en Intervalo(1.999999999999999999999999999888529591870301652961449251867664108022197539531587e+00 with 256 bits of precision,2.000000000000000000000000000113592954625443111217691951273417698475110544168085e+00 with 256 bits of precision), con  norma 2.250633627551414582562426994057535904529130046364974521132067998772422226989542e-28"
       ]
      },
      {
       "output_type": "stream",
       "stream": "stdout",
       "text": [
        "\n"
       ]
      },
      {
       "metadata": {},
       "output_type": "pyout",
       "prompt_number": 132,
       "text": [
        "Intervalo(1.999999999999999999999999999888529591870301652961449251867664108022197539531587e+00 with 256 bits of precision,2.000000000000000000000000000113592954625443111217691951273417698475110544168085e+00 with 256 bits of precision)"
       ]
      }
     ],
     "prompt_number": 132
    },
    {
     "cell_type": "code",
     "collapsed": false,
     "input": [
      "g(x)=pwilkinson(x,2)\n",
      "I=Intervalo(-5, 3/2-eps(3/2))\n",
      "NEWTONG(g,I, 0.0000000000000001)"
     ],
     "language": "python",
     "metadata": {},
     "outputs": [
      {
       "output_type": "stream",
       "stream": "stdout",
       "text": [
        "la funci\u00f3n no contiene ra\u00edces en Intervalo(-5.000000000000000000000000000000000000000000000000000000000000000000000000000069e+00 with 256 bits of precision,-1.75000000000000011102230246251565404236316680908203125e+00 with 256 bits of precision)"
       ]
      },
      {
       "output_type": "stream",
       "stream": "stdout",
       "text": [
        "\n",
        "despues de 6 iteraciones se que la ra\u00edz esta en Intervalo(9.999999999999999561284633626740697408624498107630488068605130613484578512409426e-01 with 256 bits of precision,1.000000000000000041224799586566771839642996322443370110288482351969550377303587e+00 with 256 bits of precision), con  norma 8.509633622389270209878054651168032130342796929062109252606264477541802276663375e-17\n"
       ]
      },
      {
       "metadata": {},
       "output_type": "pyout",
       "prompt_number": 133,
       "text": [
        "2-element Array{Any,1}:\n",
        " vacio(0)                                                                                                                                                                                                                                  \n",
        " Intervalo(9.999999999999999561284633626740697408624498107630488068605130613484578512409426e-01 with 256 bits of precision,1.000000000000000041224799586566771839642996322443370110288482351969550377303587e+00 with 256 bits of precision)"
       ]
      }
     ],
     "prompt_number": 133
    },
    {
     "cell_type": "markdown",
     "metadata": {},
     "source": [
      "Encuentra las dos ra\u00edces, 1 y 2."
     ]
    },
    {
     "cell_type": "markdown",
     "metadata": {},
     "source": [
      "De por si este modelo ya  era poco bonito, ya que s\u00f3lo considera dos r\u00e1ices. Para seguir con una analisis mas general es necesario considerar divisi\u00f3n extendida."
     ]
    },
    {
     "cell_type": "heading",
     "level": 1,
     "metadata": {},
     "source": [
      "Divisi\u00f3n extendida"
     ]
    },
    {
     "cell_type": "markdown",
     "metadata": {},
     "source": [
      "Hasta ahora, s\u00f3lo hemos podido tratar el caso en el cual la derivada F\u2032(X) no contiene 0. Sin embargo, resulta que es posible tratar tambi\u00e9n este caso, mediante \"divisi\u00f3n extendida\"."
     ]
    },
    {
     "cell_type": "markdown",
     "metadata": {},
     "source": [
      "[5] Sup\u00f3n que $F\u2032(X)$ sea un intervalo, digamos $F\u2032(X)=[\u2212a,b]$, que contiene $0 (con a,b>0)$.\n",
      "\n",
      "(i) Definiendo $1/A$como el conjunto ${1/x:x\u2208A}$, eval\u00faa $1/F\u2032(X)$.\n",
      "\n",
      "(ii) Define una funci\u00f3n que implementa esta \"divisi\u00f3n extendida\" de intervalos (o, m\u00e1s bien, inversa extendida)."
     ]
    },
    {
     "cell_type": "code",
     "collapsed": false,
     "input": [
      "function divExt(x::Intervalo)\n",
      "    [Intervalo(-inf(BigFloat),(1/Intervalo(x.a)).b),Intervalo((1/Intervalo(x.b)).a,inf(BigFloat))]\n",
      "end"
     ],
     "language": "python",
     "metadata": {},
     "outputs": [
      {
       "metadata": {},
       "output_type": "pyout",
       "prompt_number": 173,
       "text": [
        "divExt (generic function with 1 method)"
       ]
      }
     ],
     "prompt_number": 173
    },
    {
     "cell_type": "code",
     "collapsed": false,
     "input": [
      "divExt(Intervalo(-1,1))"
     ],
     "language": "python",
     "metadata": {},
     "outputs": [
      {
       "metadata": {},
       "output_type": "pyout",
       "prompt_number": 178,
       "text": [
        "2-element Array{Intervalo,1}:\n",
        " Intervalo(-inf with 256 bits of precision,-1e+00 with 256 bits of precision)\n",
        " Intervalo(1e+00 with 256 bits of precision,inf with 256 bits of precision)  "
       ]
      }
     ],
     "prompt_number": 178
    },
    {
     "cell_type": "code",
     "collapsed": false,
     "input": [
      "function opNEWTONext(f::Function, I:: Intervalo)\n",
      "    x=fdev(I,1) #Intervalo(1)) \n",
      "    u=divExt(f(x).d)  \n",
      "    ans=Intervalo[]\n",
      "    m=(I.b+I.a)/2\n",
      "        M=Intervalo(m)\n",
      "    if length(u)==1\n",
      "    \n",
      "        ans=Intrsc(I,M-f(M)*u)\n",
      "    else \n",
      "        for i in 1:length(u)\n",
      "            push!(ans,Intrsc(I, M-f(M)*u[i] ))\n",
      "        end\n",
      "    end\n",
      "    ans\n",
      "end"
     ],
     "language": "python",
     "metadata": {},
     "outputs": [
      {
       "metadata": {},
       "output_type": "pyout",
       "prompt_number": 344,
       "text": [
        "opNEWTONext (generic function with 1 method)"
       ]
      }
     ],
     "prompt_number": 344
    },
    {
     "cell_type": "code",
     "collapsed": false,
     "input": [
      "f(x)=x^2-1\n",
      "I=Intervalo(-1,2)\n",
      "opNEWTONext(f, I)"
     ],
     "language": "python",
     "metadata": {},
     "outputs": [
      {
       "metadata": {},
       "output_type": "pyout",
       "prompt_number": 348,
       "text": [
        "2-element Array{Intervalo,1}:\n",
        " Intervalo(-1e+00 with 256 bits of precision,1.25e-01 with 256 bits of precision)\n",
        " Intervalo(6.875e-01 with 256 bits of precision,2e+00 with 256 bits of precision)"
       ]
      }
     ],
     "prompt_number": 348
    },
    {
     "cell_type": "code",
     "collapsed": false,
     "input": [
      "{ Intervalo(-3e+00 with 256 bits of precision,-1.666666666666666666666666666666666666666666666666666666666666666666666666666652e-01 with 256 bits of precision)\n",
      " Intervalo(1.666666666666666666666666666666666666666666666666666666666666666666666666666674e-01 with 256 bits of precision,3e+00 with 256 bits of precision)  }"
     ],
     "language": "python",
     "metadata": {},
     "outputs": [
      {
       "ename": "LoadError",
       "evalue": "syntax: missing comma or ) in argument list\nwhile loading In[307], in expression starting on line 1",
       "output_type": "pyerr",
       "traceback": [
        "syntax: missing comma or ) in argument list\nwhile loading In[307], in expression starting on line 1",
        ""
       ]
      }
     ],
     "prompt_number": 307
    },
    {
     "cell_type": "code",
     "collapsed": false,
     "input": [
      "u={Intervalo(9,60), Intervalo(1,2)}\n",
      "max({norm(u[k])  for k =1:length(u)})"
     ],
     "language": "python",
     "metadata": {},
     "outputs": [
      {
       "ename": "LoadError",
       "evalue": "`max` has no method matching max(::Array{Any,1})\nwhile loading In[325], in expression starting on line 2",
       "output_type": "pyerr",
       "traceback": [
        "`max` has no method matching max(::Array{Any,1})\nwhile loading In[325], in expression starting on line 2",
        "",
        " in anonymous at no file"
       ]
      }
     ],
     "prompt_number": 325
    },
    {
     "cell_type": "code",
     "collapsed": false,
     "input": [
      "function mnewtonext(f::Function, I::Intervalo, iteraciones, lim)\n",
      "    ans=Intervalo[]\n",
      "    fin=0\n",
      "    a=0   \n",
      "    for i = 1:iteraciones\n",
      "         x=opNEWTONext(f, I)\n",
      "           for j= 1:length(x) \n",
      "            if x[j]==vacio(0)\n",
      "                a=1\n",
      "                I=vacio(0)\n",
      "                break\n",
      "            else\n",
      "                I=x[j];\n",
      "                a=0\n",
      "                if norm(x[j])<lim\n",
      "                    push!(ans, x[j]);\n",
      "                    fin=j\n",
      "                    break\n",
      "                end\n",
      "            end\n",
      "        end\n",
      "    if a!=1 \n",
      "                \n",
      "    end\n",
      "    \n",
      "end \n",
      "    println(\"despues de $fin iteraciones se que la ra\u00edz esta en $ans\")  \n",
      "    ans;\n",
      "end\n",
      "        "
     ],
     "language": "python",
     "metadata": {},
     "outputs": [
      {
       "metadata": {},
       "output_type": "pyout",
       "prompt_number": 331,
       "text": [
        "mnewtonext (generic function with 2 methods)"
       ]
      }
     ],
     "prompt_number": 331
    },
    {
     "cell_type": "code",
     "collapsed": false,
     "input": [
      "I=Intervalo(-2,2)\n",
      "f(x)=x^2-1\n",
      "mnewtonext(f, I, 100, 0.0000000000000000000000000001)"
     ],
     "language": "python",
     "metadata": {},
     "outputs": [
      {
       "output_type": "stream",
       "stream": "stdout",
       "text": [
        "despues de 0 iteraciones se que la ra\u00edz esta en []"
       ]
      },
      {
       "output_type": "stream",
       "stream": "stdout",
       "text": [
        "\n"
       ]
      },
      {
       "metadata": {},
       "output_type": "pyout",
       "prompt_number": 332,
       "text": [
        "0-element Array{Intervalo,1}"
       ]
      }
     ],
     "prompt_number": 332
    },
    {
     "cell_type": "code",
     "collapsed": false,
     "input": [
      "H(x)=pwilkinson(x,5)\n",
      "U=Intervalo(0,9)\n",
      "mnewtonext(H, U, 100, 0.00000001)\n"
     ],
     "language": "python",
     "metadata": {},
     "outputs": [
      {
       "metadata": {},
       "output_type": "pyout",
       "prompt_number": 285,
       "text": [
        "91-element Array{Intervalo,1}:\n",
        " Intervalo(4.999999999644957313434160842063348193617119783443069980198281971334314808788216e+00 with 256 bits of precision,5.00000000935798839575364818097912234182738967309192323699413578066558544414592e+00 with 256 bits of precision)\n",
        " Intervalo(4.999999999999999951125649976377815163015210829188435854030411262831502937995748e+00 with 256 bits of precision,5.00000000935798839575364818097912234182738967309192323699413578066558544414592e+00 with 256 bits of precision)\n",
        " Intervalo(4.999999999999999954389610408012917238215684958264644967927591628290232190366925e+00 with 256 bits of precision,5.00000000935798839575364818097912234182738967309192323699413578066558544414592e+00 with 256 bits of precision)\n",
        " Intervalo(4.99999999999999995438961043982969247408355885893475285171242063728993139333129e+00 with 256 bits of precision,5.00000000935798839575364818097912234182738967309192323699413578066558544414592e+00 with 256 bits of precision) \n",
        " Intervalo(4.999999999999999954389610439829692784230451918001433150341709381890096037706992e+00 with 256 bits of precision,5.00000000935798839575364818097912234182738967309192323699413578066558544414592e+00 with 256 bits of precision)\n",
        " Intervalo(4.99999999999999995438961043982969278423045494128379162623884690863354200869044e+00 with 256 bits of precision,5.00000000935798839575364818097912234182738967309192323699413578066558544414592e+00 with 256 bits of precision) \n",
        " Intervalo(4.999999999999999954389610439829692784230454941283821096907177385342396151163618e+00 with 256 bits of precision,5.00000000935798839575364818097912234182738967309192323699413578066558544414592e+00 with 256 bits of precision)\n",
        " Intervalo(4.9999999999999999543896104398296927842304549412838210969074646626089108153613e+00 with 256 bits of precision,5.00000000935798839575364818097912234182738967309192323699413578066558544414592e+00 with 256 bits of precision)  \n",
        " Intervalo(4.999999999999999954389610439829692784230454941283821096907464662611711166779569e+00 with 256 bits of precision,5.00000000935798839575364818097912234182738967309192323699413578066558544414592e+00 with 256 bits of precision)\n",
        " Intervalo(4.999999999999999954389610439829692784230454941283821096907464662611711166806859e+00 with 256 bits of precision,5.00000000935798839575364818097912234182738967309192323699413578066558544414592e+00 with 256 bits of precision)\n",
        " Intervalo(4.999999999999999954389610439829692784230454941283821096907464662611711166806859e+00 with 256 bits of precision,5.00000000935798839575364818097912234182738967309192323699413578066558544414592e+00 with 256 bits of precision)\n",
        " Intervalo(4.999999999999999954389610439829692784230454941283821096907464662611711166806859e+00 with 256 bits of precision,5.00000000935798839575364818097912234182738967309192323699413578066558544414592e+00 with 256 bits of precision)\n",
        " Intervalo(4.999999999999999954389610439829692784230454941283821096907464662611711166806859e+00 with 256 bits of precision,5.00000000935798839575364818097912234182738967309192323699413578066558544414592e+00 with 256 bits of precision)\n",
        " \u22ee                                                                                                                                                                                                                                        \n",
        " Intervalo(4.999999999999999954389610439829692784230454941283821096907464662611711166806859e+00 with 256 bits of precision,5.00000000935798839575364818097912234182738967309192323699413578066558544414592e+00 with 256 bits of precision)\n",
        " Intervalo(4.999999999999999954389610439829692784230454941283821096907464662611711166806859e+00 with 256 bits of precision,5.00000000935798839575364818097912234182738967309192323699413578066558544414592e+00 with 256 bits of precision)\n",
        " Intervalo(4.999999999999999954389610439829692784230454941283821096907464662611711166806859e+00 with 256 bits of precision,5.00000000935798839575364818097912234182738967309192323699413578066558544414592e+00 with 256 bits of precision)\n",
        " Intervalo(4.999999999999999954389610439829692784230454941283821096907464662611711166806859e+00 with 256 bits of precision,5.00000000935798839575364818097912234182738967309192323699413578066558544414592e+00 with 256 bits of precision)\n",
        " Intervalo(4.999999999999999954389610439829692784230454941283821096907464662611711166806859e+00 with 256 bits of precision,5.00000000935798839575364818097912234182738967309192323699413578066558544414592e+00 with 256 bits of precision)\n",
        " Intervalo(4.999999999999999954389610439829692784230454941283821096907464662611711166806859e+00 with 256 bits of precision,5.00000000935798839575364818097912234182738967309192323699413578066558544414592e+00 with 256 bits of precision)\n",
        " Intervalo(4.999999999999999954389610439829692784230454941283821096907464662611711166806859e+00 with 256 bits of precision,5.00000000935798839575364818097912234182738967309192323699413578066558544414592e+00 with 256 bits of precision)\n",
        " Intervalo(4.999999999999999954389610439829692784230454941283821096907464662611711166806859e+00 with 256 bits of precision,5.00000000935798839575364818097912234182738967309192323699413578066558544414592e+00 with 256 bits of precision)\n",
        " Intervalo(4.999999999999999954389610439829692784230454941283821096907464662611711166806859e+00 with 256 bits of precision,5.00000000935798839575364818097912234182738967309192323699413578066558544414592e+00 with 256 bits of precision)\n",
        " Intervalo(4.999999999999999954389610439829692784230454941283821096907464662611711166806859e+00 with 256 bits of precision,5.00000000935798839575364818097912234182738967309192323699413578066558544414592e+00 with 256 bits of precision)\n",
        " Intervalo(4.999999999999999954389610439829692784230454941283821096907464662611711166806859e+00 with 256 bits of precision,5.00000000935798839575364818097912234182738967309192323699413578066558544414592e+00 with 256 bits of precision)\n",
        " Intervalo(4.999999999999999954389610439829692784230454941283821096907464662611711166806859e+00 with 256 bits of precision,5.00000000935798839575364818097912234182738967309192323699413578066558544414592e+00 with 256 bits of precision)"
       ]
      }
     ],
     "prompt_number": 285
    },
    {
     "cell_type": "markdown",
     "metadata": {},
     "source": [
      "[6] Resulta que el m\u00e9todo de Newton sigue funcionando si utilizamos esta divisi\u00f3n extendida cu\u00e1ndo sea apropiado. Implem\u00e9ntalo para encontrar todas las ra\u00edces de una funci\u00f3n en un intervalo dado."
     ]
    },
    {
     "cell_type": "markdown",
     "metadata": {},
     "source": [
      "Nota que hay casos en los cuales no ocurre ninguna de las posibilidades (1) ni (2) en el teorema del m\u00e9todo de Newton para intervalos. \u00bfQu\u00e9 se puede hacer en este caso?\n",
      "\n",
      "[7] Implementa pruebas (tests) para tu c\u00f3digo."
     ]
    },
    {
     "cell_type": "code",
     "collapsed": false,
     "input": [
      "g(x)=pwilkinson(x,2)\n",
      "I=Intervalo(-3, 3)\n",
      "NEWTONEXT(g,I, 0.0000000000000001)"
     ],
     "language": "python",
     "metadata": {},
     "outputs": [
      {
       "ename": "LoadError",
       "evalue": "`norm` has no method matching norm(::Array{None,1})\nyou may have intended to import Base.norm\nwhile loading In[169], in expression starting on line 3",
       "output_type": "pyerr",
       "traceback": [
        "`norm` has no method matching norm(::Array{None,1})\nyou may have intended to import Base.norm\nwhile loading In[169], in expression starting on line 3",
        "",
        " in NEWTONEXT at In[168]:4"
       ]
      }
     ],
     "prompt_number": 169
    }
   ],
   "metadata": {}
  }
 ]
}