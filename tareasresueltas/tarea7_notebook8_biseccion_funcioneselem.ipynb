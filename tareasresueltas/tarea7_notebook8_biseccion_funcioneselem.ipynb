{
 "metadata": {
  "language": "Julia",
  "name": "",
  "signature": "sha256:4f3c9a861338b452afa37f4877b9137fd0e6431458bc5d5c31da35a0e37bc25d"
 },
 "nbformat": 3,
 "nbformat_minor": 0,
 "worksheets": [
  {
   "cells": [
    {
     "cell_type": "markdown",
     "metadata": {},
     "source": [
      "[1] Ampl\u00eda tu m\u00f3dulo de intervalos para que incluya la extensi\u00f3n de las funciones est\u00e1ndres mon\u00f3tonas a intervalos. En el caso de las potencias, exti\u00e9nde lo que ya hayas hecho para que incluya potencias reales. Incluye algunas pruebas en pruebas.jl que muestren que lo que has hecho funciona bien."
     ]
    },
    {
     "cell_type": "code",
     "collapsed": false,
     "input": [
      "push!(LOAD_PATH, \"C:\\\\Users\\\\laura\\\\Desktop\\\\julia\\\\tareas-fca\\\\intervalos\\\\\")\n",
      "using Intervalosa\n",
      "include(\"C:\\\\Users\\\\laura\\\\Desktop\\\\julia\\\\tareas-fca\\\\intervalos\\\\Testa.jl\")"
     ],
     "language": "python",
     "metadata": {},
     "outputs": [
      {
       "output_type": "stream",
       "stream": "stdout",
       "text": [
        "definici\u00f3n correcta de intervalos, prop elementales\n"
       ]
      },
      {
       "output_type": "stream",
       "stream": "stdout",
       "text": [
        "8 facts verified.\n"
       ]
      },
      {
       "output_type": "stream",
       "stream": "stdout",
       "text": [
        "sumas, restas, multiplicaciones, divisiones\n"
       ]
      },
      {
       "output_type": "stream",
       "stream": "stdout",
       "text": [
        "8 facts verified.\n",
        "funciones elementales\n",
        "3 facts verified.\n"
       ]
      },
      {
       "metadata": {},
       "output_type": "pyout",
       "prompt_number": 2,
       "text": [
        "delayed_handler (generic function with 4 methods)"
       ]
      }
     ],
     "prompt_number": 2
    },
    {
     "cell_type": "code",
     "collapsed": false,
     "input": [
      "g=Intervalo(1,2)"
     ],
     "language": "python",
     "metadata": {},
     "outputs": [
      {
       "metadata": {},
       "output_type": "pyout",
       "prompt_number": 3,
       "text": [
        "Intervalo(1e+00 with 256 bits of precision,2e+00 with 256 bits of precision)"
       ]
      }
     ],
     "prompt_number": 3
    },
    {
     "cell_type": "code",
     "collapsed": false,
     "input": [
      "p1(x)=x/(1+x^2)"
     ],
     "language": "python",
     "metadata": {},
     "outputs": [
      {
       "metadata": {},
       "output_type": "pyout",
       "prompt_number": 4,
       "text": [
        "p1 (generic function with 1 method)"
       ]
      }
     ],
     "prompt_number": 4
    },
    {
     "cell_type": "code",
     "collapsed": false,
     "input": [
      "p1(g)"
     ],
     "language": "python",
     "metadata": {},
     "outputs": [
      {
       "metadata": {},
       "output_type": "pyout",
       "prompt_number": 5,
       "text": [
        "Intervalo(2.000000000000000000000000000000000000000000000000000000000000000000000000000004e-01 with 256 bits of precision,1e+00 with 256 bits of precision)"
       ]
      }
     ],
     "prompt_number": 5
    },
    {
     "cell_type": "code",
     "collapsed": false,
     "input": [
      "grafica(1,2, p1)"
     ],
     "language": "python",
     "metadata": {},
     "outputs": [
      {
       "metadata": {},
       "output_type": "display_data",
       "png": "[encoded data removed]",
       "text": [
        "Figure(PyObject <matplotlib.figure.Figure object at 0x0000000020895240>)"
       ]
      },
      {
       "metadata": {},
       "output_type": "pyout",
       "prompt_number": 6,
       "text": [
        "PyObject <matplotlib.collections.PolyCollection object at 0x000000002739AC88>"
       ]
      }
     ],
     "prompt_number": 6
    },
    {
     "cell_type": "markdown",
     "metadata": {},
     "source": [
      "como podemos observar  el rango de la funci\u00f3n se halla contenido en $F(x)$."
     ]
    },
    {
     "cell_type": "markdown",
     "metadata": {},
     "source": [
      "Para funciones elementales pero que no son mon\u00f3tonas ser\u00e1 un poco mas complicado."
     ]
    },
    {
     "cell_type": "markdown",
     "metadata": {},
     "source": [
      "Por ejemplo para la funci\u00f3n coseno si el rango es mayor que 2\u03c0, automaticamente marcar\u00e1 que la funci\u00f3n cubre todo el codominio de la funci\u00f3n coseno, \u00e9sto mismo pasar\u00e1 para todas las funciones trigonom\u00e9tricas."
     ]
    },
    {
     "cell_type": "code",
     "collapsed": false,
     "input": [
      "cos(Intervalo(0,3))"
     ],
     "language": "python",
     "metadata": {},
     "outputs": [
      {
       "metadata": {},
       "output_type": "pyout",
       "prompt_number": 7,
       "text": [
        "Intervalo(-9.899924966004454572715727947312613023936790966155883288140859329283291975131371e-01 with 256 bits of precision,1e+00 with 256 bits of precision)"
       ]
      }
     ],
     "prompt_number": 7
    },
    {
     "cell_type": "code",
     "collapsed": false,
     "input": [
      "cos(Intervalo(0.1, 4))"
     ],
     "language": "python",
     "metadata": {},
     "outputs": [
      {
       "metadata": {},
       "output_type": "pyout",
       "prompt_number": 8,
       "text": [
        "Intervalo(-6.536436208636119146391681830977503814241335966462182470070102838527376558106047e-01 with 256 bits of precision,9.950041652780257655413751988623452563480800835152772679246254399627449636439038e-01 with 256 bits of precision)"
       ]
      }
     ],
     "prompt_number": 8
    },
    {
     "cell_type": "heading",
     "level": 1,
     "metadata": {},
     "source": [
      "Encontrar ra\u00edces de una funci\u00f3n en un intervalo dado."
     ]
    },
    {
     "cell_type": "code",
     "collapsed": false,
     "input": [
      "function dividir(x::Intervalo, n::Integer)  #el entero me esta indicando en que intervalo voy a buscar\n",
      "    b=x.a+(x.b-x.a)/2\n",
      "    if n==1\n",
      "        Intervalo(x.a,b)\n",
      "    elseif n==2\n",
      "        Intervalo(b, x.b)\n",
      "    else \n",
      "        return error\n",
      "        \n",
      "    end\n",
      "end"
     ],
     "language": "python",
     "metadata": {},
     "outputs": [
      {
       "metadata": {},
       "output_type": "pyout",
       "prompt_number": 9,
       "text": [
        "dividir (generic function with 1 method)"
       ]
      }
     ],
     "prompt_number": 9
    },
    {
     "cell_type": "code",
     "collapsed": false,
     "input": [
      "function raiz(x::Intervalo, f::Function, lim) #encuentra UNA RAIZ\n",
      "tol=norm(x)\n",
      "    if tol>lim \n",
      "        if 0 \u2209 f(x)\n",
      "        return \"La funci\u00f3n no tiene ceros en el intervalo dado\"\n",
      "        end\n",
      "    y=Intervalo(0)\n",
      "        \n",
      "    #ahora si lo tiene hay que buscar donde se encuentra para eso hay que empezar a dividir el intervalo iterativamente\n",
      "\n",
      "    for i=1:2 \n",
      "       \n",
      "             y=dividir(x,i)\n",
      "             if \u2209 (0, f(y))==true\n",
      "               # println( \"La funcion no tiene ceros en  ($(y.a), $(y.b))\")\n",
      "\n",
      "            else \n",
      "                println( \"vamos a buscar en $y\")\n",
      "                 x=y\n",
      "                raiz(y, f, lim)\n",
      "                end #del if\n",
      "             tol=norm(y)\n",
      "           # println(\"tol $tol\")\n",
      "            end #del for\n",
      "        end #del if \n",
      "    println(\"Encontre raiz en $x\")\n",
      "    x\n",
      "end #end de function"
     ],
     "language": "python",
     "metadata": {},
     "outputs": [
      {
       "metadata": {},
       "output_type": "pyout",
       "prompt_number": 10,
       "text": [
        "raiz (generic function with 1 method)"
       ]
      }
     ],
     "prompt_number": 10
    },
    {
     "cell_type": "code",
     "collapsed": false,
     "input": [
      "function raiz1(x::Intervalo, f::Function, lim, n)\n",
      "    v=[]\n",
      "    if tol>lim\n",
      "        raiz1()  \n",
      "    else\n",
      "        return \"Encontr\u00e9 una raiz en x\"\n",
      "        push!(v, x)\n",
      "    end\n",
      "        \n",
      "        \n",
      "        \n",
      "end"
     ],
     "language": "python",
     "metadata": {},
     "outputs": [
      {
       "metadata": {},
       "output_type": "pyout",
       "prompt_number": 11,
       "text": [
        "raiz1 (generic function with 1 method)"
       ]
      }
     ],
     "prompt_number": 11
    },
    {
     "cell_type": "code",
     "collapsed": false,
     "input": [
      "function raices (x::Intervalo, f::Function, lim) #halla dos ra\u00edces\n",
      "    c=x.a+(x.b-x.a)/2\n",
      "    y=Intervalo(0)\n",
      "    a=[Intervalo(0) for i in 1:2]\n",
      "    if f(c)==0 \n",
      "        \n",
      "        return \"$c es una raiz \"\n",
      "    end\n",
      "    for i=1:2\n",
      "        y=dividir(x,i)\n",
      "        a[i]=raiz(y, f, lim)\n",
      "    \n",
      "    end\n",
      "    a\n",
      " end  "
     ],
     "language": "python",
     "metadata": {},
     "outputs": [
      {
       "metadata": {},
       "output_type": "pyout",
       "prompt_number": 12,
       "text": [
        "raices (generic function with 1 method)"
       ]
      }
     ],
     "prompt_number": 12
    },
    {
     "cell_type": "code",
     "collapsed": false,
     "input": [
      "f(x)=x^2-1"
     ],
     "language": "python",
     "metadata": {},
     "outputs": [
      {
       "metadata": {},
       "output_type": "pyout",
       "prompt_number": 13,
       "text": [
        "f (generic function with 1 method)"
       ]
      }
     ],
     "prompt_number": 13
    },
    {
     "cell_type": "code",
     "collapsed": false,
     "input": [
      "a=raiz(Intervalo(-2,2),f, 0.01)"
     ],
     "language": "python",
     "metadata": {},
     "outputs": [
      {
       "output_type": "stream",
       "stream": "stdout",
       "text": [
        "vamos a buscar en Intervalo(-2e+00 with 256 bits of precision,0e+00 with 256 bits of precision)"
       ]
      },
      {
       "output_type": "stream",
       "stream": "stdout",
       "text": [
        "\n",
        "vamos a buscar en Intervalo(-2e+00 with 256 bits of precision,-1e+00 with 256 bits of precision)\n",
        "vamos a buscar en Intervalo(-1.5e+00 with 256 bits of precision,-1e+00 with 256 bits of precision)\n",
        "vamos a buscar en Intervalo(-1.25e+00 with 256 bits of precision,-1e+00 with 256 bits of precision)\n",
        "vamos a buscar en Intervalo(-1.125e+00 with 256 bits of precision,-1e+00 with 256 bits of precision)\n",
        "vamos a buscar en Intervalo(-1.0625e+00 with 256 bits of precision,-1e+00 with 256 bits of precision)\n",
        "vamos a buscar en Intervalo(-1.03125e+00 with 256 bits of precision,-1e+00 with 256 bits of precision)\n",
        "vamos a buscar en Intervalo(-1.015625e+00 with 256 bits of precision,-1e+00 with 256 bits of precision)\n",
        "vamos a buscar en Intervalo(-1.0078125e+00 with 256 bits of precision,-1e+00 with 256 bits of precision)\n",
        "Encontre raiz en Intervalo(-1.0078125e+00 with 256 bits of precision,-1e+00 with 256 bits of precision)\n",
        "Encontre raiz en Intervalo(-1.0078125e+00 with 256 bits of precision,-1e+00 with 256 bits of precision)\n",
        "Encontre raiz en Intervalo(-1.015625e+00 with 256 bits of precision,-1e+00 with 256 bits of precision)\n",
        "Encontre raiz en Intervalo(-1.03125e+00 with 256 bits of precision,-1e+00 with 256 bits of precision)\n",
        "Encontre raiz en Intervalo(-1.0625e+00 with 256 bits of precision,-1e+00 with 256 bits of precision)\n",
        "Encontre raiz en Intervalo(-1.125e+00 with 256 bits of precision,-1e+00 with 256 bits of precision)\n",
        "Encontre raiz en Intervalo(-1.25e+00 with 256 bits of precision,-1e+00 with 256 bits of precision)\n",
        "Encontre raiz en Intervalo(-1.5e+00 with 256 bits of precision,-1e+00 with 256 bits of precision)\n",
        "vamos a buscar en Intervalo(-1.5e+00 with 256 bits of precision,-1e+00 with 256 bits of precision)\n",
        "vamos a buscar en Intervalo(-1.25e+00 with 256 bits of precision,-1e+00 with 256 bits of precision)\n",
        "vamos a buscar en Intervalo(-1.125e+00 with 256 bits of precision,-1e+00 with 256 bits of precision)\n",
        "vamos a buscar en Intervalo(-1.0625e+00 with 256 bits of precision,-1e+00 with 256 bits of precision)\n",
        "vamos a buscar en Intervalo(-1.03125e+00 with 256 bits of precision,-1e+00 with 256 bits of precision)\n",
        "vamos a buscar en Intervalo(-1.015625e+00 with 256 bits of precision,-1e+00 with 256 bits of precision)\n",
        "vamos a buscar en Intervalo(-1.0078125e+00 with 256 bits of precision,-1e+00 with 256 bits of precision)\n",
        "Encontre raiz en Intervalo(-1.0078125e+00 with 256 bits of precision,-1e+00 with 256 bits of precision)\n",
        "Encontre raiz en Intervalo(-1.0078125e+00 with 256 bits of precision,-1e+00 with 256 bits of precision)\n",
        "Encontre raiz en Intervalo(-1.015625e+00 with 256 bits of precision,-1e+00 with 256 bits of precision)\n",
        "Encontre raiz en Intervalo(-1.03125e+00 with 256 bits of precision,-1e+00 with 256 bits of precision)\n",
        "Encontre raiz en Intervalo(-1.0625e+00 with 256 bits of precision,-1e+00 with 256 bits of precision)\n",
        "Encontre raiz en Intervalo(-1.125e+00 with 256 bits of precision,-1e+00 with 256 bits of precision)\n",
        "Encontre raiz en Intervalo(-1.25e+00 with 256 bits of precision,-1e+00 with 256 bits of precision)\n",
        "Encontre raiz en Intervalo(-1.5e+00 with 256 bits of precision,-1e+00 with 256 bits of precision)\n",
        "vamos a buscar en Intervalo(-1e+00 with 256 bits of precision,0e+00 with 256 bits of precision)\n",
        "vamos a buscar en Intervalo(-1e+00 with 256 bits of precision,-5e-01 with 256 bits of precision)\n",
        "vamos a buscar en Intervalo(-1e+00 with 256 bits of precision,-7.5e-01 with 256 bits of precision)\n",
        "vamos a buscar en Intervalo(-1e+00 with 256 bits of precision,-8.75e-01 with 256 bits of precision)\n",
        "vamos a buscar en Intervalo(-1e+00 with 256 bits of precision,-9.375e-01 with 256 bits of precision)\n",
        "vamos a buscar en Intervalo(-1e+00 with 256 bits of precision,-9.6875e-01 with 256 bits of precision)\n",
        "vamos a buscar en Intervalo(-1e+00 with 256 bits of precision,-9.84375e-01 with 256 bits of precision)\n",
        "vamos a buscar en Intervalo(-1e+00 with 256 bits of precision,-9.921875e-01 with 256 bits of precision)\n",
        "Encontre raiz en Intervalo(-1e+00 with 256 bits of precision,-9.921875e-01 with 256 bits of precision)\n",
        "Encontre raiz en Intervalo(-1e+00 with 256 bits of precision,-9.921875e-01 with 256 bits of precision)\n",
        "Encontre raiz en Intervalo(-1e+00 with 256 bits of precision,-9.84375e-01 with 256 bits of precision)\n",
        "Encontre raiz en Intervalo(-1e+00 with 256 bits of precision,-9.6875e-01 with 256 bits of precision)\n",
        "Encontre raiz en Intervalo(-1e+00 with 256 bits of precision,-9.375e-01 with 256 bits of precision)\n",
        "Encontre raiz en Intervalo(-1e+00 with 256 bits of precision,-8.75e-01 with 256 bits of precision)\n",
        "Encontre raiz en Intervalo(-1e+00 with 256 bits of precision,-7.5e-01 with 256 bits of precision)\n",
        "Encontre raiz en Intervalo(-1e+00 with 256 bits of precision,-5e-01 with 256 bits of precision)\n",
        "Encontre raiz en Intervalo(-1e+00 with 256 bits of precision,0e+00 with 256 bits of precision)\n"
       ]
      },
      {
       "metadata": {},
       "output_type": "pyout",
       "prompt_number": 14,
       "text": [
        "Intervalo(-1e+00 with 256 bits of precision,0e+00 with 256 bits of precision)"
       ]
      }
     ],
     "prompt_number": 14
    },
    {
     "cell_type": "code",
     "collapsed": false,
     "input": [
      "b=raices(Intervalo(-2,2), f, 0.01)"
     ],
     "language": "python",
     "metadata": {},
     "outputs": [
      {
       "output_type": "stream",
       "stream": "stdout",
       "text": [
        "vamos a buscar en Intervalo(-2e+00 with 256 bits of precision,-1e+00 with 256 bits of precision)"
       ]
      },
      {
       "output_type": "stream",
       "stream": "stdout",
       "text": [
        "\n",
        "vamos a buscar en Intervalo(-1.5e+00 with 256 bits of precision,-1e+00 with 256 bits of precision)\n",
        "vamos a buscar en Intervalo(-1.25e+00 with 256 bits of precision,-1e+00 with 256 bits of precision)\n",
        "vamos a buscar en Intervalo(-1.125e+00 with 256 bits of precision,-1e+00 with 256 bits of precision)\n",
        "vamos a buscar en Intervalo(-1.0625e+00 with 256 bits of precision,-1e+00 with 256 bits of precision)\n",
        "vamos a buscar en Intervalo(-1.03125e+00 with 256 bits of precision,-1e+00 with 256 bits of precision)\n",
        "vamos a buscar en Intervalo(-1.015625e+00 with 256 bits of precision,-1e+00 with 256 bits of precision)\n",
        "vamos a buscar en Intervalo(-1.0078125e+00 with 256 bits of precision,-1e+00 with 256 bits of precision)\n",
        "Encontre raiz en Intervalo(-1.0078125e+00 with 256 bits of precision,-1e+00 with 256 bits of precision)\n",
        "Encontre raiz en Intervalo(-1.0078125e+00 with 256 bits of precision,-1e+00 with 256 bits of precision)\n",
        "Encontre raiz en Intervalo(-1.015625e+00 with 256 bits of precision,-1e+00 with 256 bits of precision)\n",
        "Encontre raiz en Intervalo(-1.03125e+00 with 256 bits of precision,-1e+00 with 256 bits of precision)\n",
        "Encontre raiz en Intervalo(-1.0625e+00 with 256 bits of precision,-1e+00 with 256 bits of precision)\n",
        "Encontre raiz en Intervalo(-1.125e+00 with 256 bits of precision,-1e+00 with 256 bits of precision)\n",
        "Encontre raiz en Intervalo(-1.25e+00 with 256 bits of precision,-1e+00 with 256 bits of precision)\n",
        "Encontre raiz en Intervalo(-1.5e+00 with 256 bits of precision,-1e+00 with 256 bits of precision)\n",
        "vamos a buscar en Intervalo(-1.5e+00 with 256 bits of precision,-1e+00 with 256 bits of precision)\n",
        "vamos a buscar en Intervalo(-1.25e+00 with 256 bits of precision,-1e+00 with 256 bits of precision)\n",
        "vamos a buscar en Intervalo(-1.125e+00 with 256 bits of precision,-1e+00 with 256 bits of precision)\n",
        "vamos a buscar en Intervalo(-1.0625e+00 with 256 bits of precision,-1e+00 with 256 bits of precision)\n",
        "vamos a buscar en Intervalo(-1.03125e+00 with 256 bits of precision,-1e+00 with 256 bits of precision)\n",
        "vamos a buscar en Intervalo(-1.015625e+00 with 256 bits of precision,-1e+00 with 256 bits of precision)\n",
        "vamos a buscar en Intervalo(-1.0078125e+00 with 256 bits of precision,-1e+00 with 256 bits of precision)\n",
        "Encontre raiz en Intervalo(-1.0078125e+00 with 256 bits of precision,-1e+00 with 256 bits of precision)\n",
        "Encontre raiz en Intervalo(-1.0078125e+00 with 256 bits of precision,-1e+00 with 256 bits of precision)\n",
        "Encontre raiz en Intervalo(-1.015625e+00 with 256 bits of precision,-1e+00 with 256 bits of precision)\n",
        "Encontre raiz en Intervalo(-1.03125e+00 with 256 bits of precision,-1e+00 with 256 bits of precision)\n",
        "Encontre raiz en Intervalo(-1.0625e+00 with 256 bits of precision,-1e+00 with 256 bits of precision)\n",
        "Encontre raiz en Intervalo(-1.125e+00 with 256 bits of precision,-1e+00 with 256 bits of precision)\n",
        "Encontre raiz en Intervalo(-1.25e+00 with 256 bits of precision,-1e+00 with 256 bits of precision)\n",
        "Encontre raiz en Intervalo(-1.5e+00 with 256 bits of precision,-1e+00 with 256 bits of precision)\n",
        "vamos a buscar en Intervalo(0e+00 with 256 bits of precision,1e+00 with 256 bits of precision)\n",
        "vamos a buscar en Intervalo(5e-01 with 256 bits of precision,1e+00 with 256 bits of precision)\n",
        "vamos a buscar en Intervalo(7.5e-01 with 256 bits of precision,1e+00 with 256 bits of precision)\n",
        "vamos a buscar en Intervalo(8.75e-01 with 256 bits of precision,1e+00 with 256 bits of precision)\n",
        "vamos a buscar en Intervalo(9.375e-01 with 256 bits of precision,1e+00 with 256 bits of precision)\n",
        "vamos a buscar en Intervalo(9.6875e-01 with 256 bits of precision,1e+00 with 256 bits of precision)\n",
        "vamos a buscar en Intervalo(9.84375e-01 with 256 bits of precision,1e+00 with 256 bits of precision)\n",
        "vamos a buscar en Intervalo(9.921875e-01 with 256 bits of precision,1e+00 with 256 bits of precision)\n",
        "Encontre raiz en Intervalo(9.921875e-01 with 256 bits of precision,1e+00 with 256 bits of precision)\n",
        "Encontre raiz en Intervalo(9.921875e-01 with 256 bits of precision,1e+00 with 256 bits of precision)\n",
        "Encontre raiz en Intervalo(9.84375e-01 with 256 bits of precision,1e+00 with 256 bits of precision)\n",
        "Encontre raiz en Intervalo(9.6875e-01 with 256 bits of precision,1e+00 with 256 bits of precision)\n",
        "Encontre raiz en Intervalo(9.375e-01 with 256 bits of precision,1e+00 with 256 bits of precision)\n",
        "Encontre raiz en Intervalo(8.75e-01 with 256 bits of precision,1e+00 with 256 bits of precision)\n",
        "Encontre raiz en Intervalo(7.5e-01 with 256 bits of precision,1e+00 with 256 bits of precision)\n",
        "Encontre raiz en Intervalo(5e-01 with 256 bits of precision,1e+00 with 256 bits of precision)\n",
        "vamos a buscar en Intervalo(5e-01 with 256 bits of precision,1e+00 with 256 bits of precision)\n",
        "vamos a buscar en Intervalo(7.5e-01 with 256 bits of precision,1e+00 with 256 bits of precision)\n",
        "vamos a buscar en Intervalo(8.75e-01 with 256 bits of precision,1e+00 with 256 bits of precision)\n",
        "vamos a buscar en Intervalo(9.375e-01 with 256 bits of precision,1e+00 with 256 bits of precision)\n",
        "vamos a buscar en Intervalo(9.6875e-01 with 256 bits of precision,1e+00 with 256 bits of precision)\n",
        "vamos a buscar en Intervalo(9.84375e-01 with 256 bits of precision,1e+00 with 256 bits of precision)\n",
        "vamos a buscar en Intervalo(9.921875e-01 with 256 bits of precision,1e+00 with 256 bits of precision)\n",
        "Encontre raiz en Intervalo(9.921875e-01 with 256 bits of precision,1e+00 with 256 bits of precision)\n",
        "Encontre raiz en Intervalo(9.921875e-01 with 256 bits of precision,1e+00 with 256 bits of precision)\n",
        "Encontre raiz en Intervalo(9.84375e-01 with 256 bits of precision,1e+00 with 256 bits of precision)\n",
        "Encontre raiz en Intervalo(9.6875e-01 with 256 bits of precision,1e+00 with 256 bits of precision)\n",
        "Encontre raiz en Intervalo(9.375e-01 with 256 bits of precision,1e+00 with 256 bits of precision)\n",
        "Encontre raiz en Intervalo(8.75e-01 with 256 bits of precision,1e+00 with 256 bits of precision)\n",
        "Encontre raiz en Intervalo(7.5e-01 with 256 bits of precision,1e+00 with 256 bits of precision)\n",
        "Encontre raiz en Intervalo(5e-01 with 256 bits of precision,1e+00 with 256 bits of precision)\n"
       ]
      },
      {
       "metadata": {},
       "output_type": "pyout",
       "prompt_number": 15,
       "text": [
        "2-element Array{Intervalo,1}:\n",
        " Intervalo(-1.5e+00 with 256 bits of precision,-1e+00 with 256 bits of precision)\n",
        " Intervalo(5e-01 with 256 bits of precision,1e+00 with 256 bits of precision)    "
       ]
      }
     ],
     "prompt_number": 15
    },
    {
     "cell_type": "markdown",
     "metadata": {},
     "source": [
      "pero hay que pensar que hacer para funciones como:"
     ]
    },
    {
     "cell_type": "code",
     "collapsed": false,
     "input": [
      "h(x)=2x^4+x^3-20x^2+3"
     ],
     "language": "python",
     "metadata": {},
     "outputs": [
      {
       "metadata": {},
       "output_type": "pyout",
       "prompt_number": 16,
       "text": [
        "h (generic function with 1 method)"
       ]
      }
     ],
     "prompt_number": 16
    },
    {
     "cell_type": "code",
     "collapsed": false,
     "input": [
      "grafica(-5,5,h)"
     ],
     "language": "python",
     "metadata": {},
     "outputs": [
      {
       "metadata": {},
       "output_type": "display_data",
       "png": "[encoded data removed]",
       "text": [
        "Figure(PyObject <matplotlib.figure.Figure object at 0x0000000027050DD8>)"
       ]
      },
      {
       "metadata": {},
       "output_type": "pyout",
       "prompt_number": 17,
       "text": [
        "PyObject <matplotlib.collections.PolyCollection object at 0x000000002BBB6CC0>"
       ]
      }
     ],
     "prompt_number": 17
    },
    {
     "cell_type": "code",
     "collapsed": false,
     "input": [
      "b=raices(Intervalo(-5,5), f, 0.01)"
     ],
     "language": "python",
     "metadata": {},
     "outputs": [
      {
       "output_type": "stream",
       "stream": "stdout",
       "text": [
        "vamos a buscar en Intervalo(-2.5e+00 with 256 bits of precision,0e+00 with 256 bits of precision)"
       ]
      },
      {
       "output_type": "stream",
       "stream": "stdout",
       "text": [
        "\n",
        "vamos a buscar en Intervalo(-1.25e+00 with 256 bits of precision,0e+00 with 256 bits of precision)\n",
        "vamos a buscar en Intervalo(-1.25e+00 with 256 bits of precision,-6.25e-01 with 256 bits of precision)\n",
        "vamos a buscar en Intervalo(-1.25e+00 with 256 bits of precision,-9.375e-01 with 256 bits of precision)\n",
        "vamos a buscar en Intervalo(-1.09375e+00 with 256 bits of precision,-9.375e-01 with 256 bits of precision)\n",
        "vamos a buscar en Intervalo(-1.015625e+00 with 256 bits of precision,-9.375e-01 with 256 bits of precision)\n",
        "vamos a buscar en Intervalo(-1.015625e+00 with 256 bits of precision,-9.765625e-01 with 256 bits of precision)\n",
        "vamos a buscar en Intervalo(-1.015625e+00 with 256 bits of precision,-9.9609375e-01 with 256 bits of precision)\n",
        "vamos a buscar en Intervalo(-1.005859375e+00 with 256 bits of precision,-9.9609375e-01 with 256 bits of precision)\n",
        "Encontre raiz en Intervalo(-1.005859375e+00 with 256 bits of precision,-9.9609375e-01 with 256 bits of precision)\n",
        "Encontre raiz en Intervalo(-1.005859375e+00 with 256 bits of precision,-9.9609375e-01 with 256 bits of precision)\n",
        "vamos a buscar en Intervalo(-1.005859375e+00 with 256 bits of precision,-9.9609375e-01 with 256 bits of precision)\n",
        "Encontre raiz en Intervalo(-1.005859375e+00 with 256 bits of precision,-9.9609375e-01 with 256 bits of precision)\n",
        "Encontre raiz en Intervalo(-1.005859375e+00 with 256 bits of precision,-9.9609375e-01 with 256 bits of precision)\n",
        "Encontre raiz en Intervalo(-1.015625e+00 with 256 bits of precision,-9.765625e-01 with 256 bits of precision)\n",
        "Encontre raiz en Intervalo(-1.015625e+00 with 256 bits of precision,-9.375e-01 with 256 bits of precision)\n",
        "Encontre raiz en Intervalo(-1.09375e+00 with 256 bits of precision,-9.375e-01 with 256 bits of precision)\n",
        "vamos a buscar en Intervalo(-1.09375e+00 with 256 bits of precision,-9.375e-01 with 256 bits of precision)\n",
        "vamos a buscar en Intervalo(-1.015625e+00 with 256 bits of precision,-9.375e-01 with 256 bits of precision)\n",
        "vamos a buscar en Intervalo(-1.015625e+00 with 256 bits of precision,-9.765625e-01 with 256 bits of precision)\n",
        "vamos a buscar en Intervalo(-1.015625e+00 with 256 bits of precision,-9.9609375e-01 with 256 bits of precision)\n",
        "vamos a buscar en Intervalo(-1.005859375e+00 with 256 bits of precision,-9.9609375e-01 with 256 bits of precision)\n",
        "Encontre raiz en Intervalo(-1.005859375e+00 with 256 bits of precision,-9.9609375e-01 with 256 bits of precision)\n",
        "Encontre raiz en Intervalo(-1.005859375e+00 with 256 bits of precision,-9.9609375e-01 with 256 bits of precision)\n",
        "vamos a buscar en Intervalo(-1.005859375e+00 with 256 bits of precision,-9.9609375e-01 with 256 bits of precision)\n",
        "Encontre raiz en Intervalo(-1.005859375e+00 with 256 bits of precision,-9.9609375e-01 with 256 bits of precision)\n",
        "Encontre raiz en Intervalo(-1.005859375e+00 with 256 bits of precision,-9.9609375e-01 with 256 bits of precision)\n",
        "Encontre raiz en Intervalo(-1.015625e+00 with 256 bits of precision,-9.765625e-01 with 256 bits of precision)\n",
        "Encontre raiz en Intervalo(-1.015625e+00 with 256 bits of precision,-9.375e-01 with 256 bits of precision)\n",
        "Encontre raiz en Intervalo(-1.09375e+00 with 256 bits of precision,-9.375e-01 with 256 bits of precision)\n",
        "Encontre raiz en Intervalo(-1.25e+00 with 256 bits of precision,-6.25e-01 with 256 bits of precision)\n",
        "Encontre raiz en Intervalo(-1.25e+00 with 256 bits of precision,0e+00 with 256 bits of precision)\n",
        "Encontre raiz en Intervalo(-2.5e+00 with 256 bits of precision,0e+00 with 256 bits of precision)\n",
        "vamos a buscar en Intervalo(0e+00 with 256 bits of precision,2.5e+00 with 256 bits of precision)\n",
        "vamos a buscar en Intervalo(0e+00 with 256 bits of precision,1.25e+00 with 256 bits of precision)\n",
        "vamos a buscar en Intervalo(6.25e-01 with 256 bits of precision,1.25e+00 with 256 bits of precision)\n",
        "vamos a buscar en Intervalo(9.375e-01 with 256 bits of precision,1.25e+00 with 256 bits of precision)\n",
        "vamos a buscar en Intervalo(9.375e-01 with 256 bits of precision,1.09375e+00 with 256 bits of precision)\n",
        "vamos a buscar en Intervalo(9.375e-01 with 256 bits of precision,1.015625e+00 with 256 bits of precision)\n",
        "vamos a buscar en Intervalo(9.765625e-01 with 256 bits of precision,1.015625e+00 with 256 bits of precision)\n",
        "vamos a buscar en Intervalo(9.9609375e-01 with 256 bits of precision,1.015625e+00 with 256 bits of precision)\n",
        "vamos a buscar en Intervalo(9.9609375e-01 with 256 bits of precision,1.005859375e+00 with 256 bits of precision)\n",
        "Encontre raiz en Intervalo(9.9609375e-01 with 256 bits of precision,1.005859375e+00 with 256 bits of precision)\n",
        "Encontre raiz en Intervalo(9.9609375e-01 with 256 bits of precision,1.005859375e+00 with 256 bits of precision)\n",
        "Encontre raiz en Intervalo(9.9609375e-01 with 256 bits of precision,1.015625e+00 with 256 bits of precision)\n",
        "Encontre raiz en Intervalo(9.765625e-01 with 256 bits of precision,1.015625e+00 with 256 bits of precision)\n",
        "vamos a buscar en Intervalo(9.765625e-01 with 256 bits of precision,1.015625e+00 with 256 bits of precision)\n",
        "vamos a buscar en Intervalo(9.9609375e-01 with 256 bits of precision,1.015625e+00 with 256 bits of precision)\n",
        "vamos a buscar en Intervalo(9.9609375e-01 with 256 bits of precision,1.005859375e+00 with 256 bits of precision)\n",
        "Encontre raiz en Intervalo(9.9609375e-01 with 256 bits of precision,1.005859375e+00 with 256 bits of precision)\n",
        "Encontre raiz en Intervalo(9.9609375e-01 with 256 bits of precision,1.005859375e+00 with 256 bits of precision)\n",
        "Encontre raiz en Intervalo(9.9609375e-01 with 256 bits of precision,1.015625e+00 with 256 bits of precision)\n",
        "Encontre raiz en Intervalo(9.765625e-01 with 256 bits of precision,1.015625e+00 with 256 bits of precision)\n",
        "Encontre raiz en Intervalo(9.375e-01 with 256 bits of precision,1.09375e+00 with 256 bits of precision)\n",
        "Encontre raiz en Intervalo(9.375e-01 with 256 bits of precision,1.25e+00 with 256 bits of precision)\n",
        "Encontre raiz en Intervalo(6.25e-01 with 256 bits of precision,1.25e+00 with 256 bits of precision)\n",
        "vamos a buscar en Intervalo(6.25e-01 with 256 bits of precision,1.25e+00 with 256 bits of precision)\n",
        "vamos a buscar en Intervalo(9.375e-01 with 256 bits of precision,1.25e+00 with 256 bits of precision)\n",
        "vamos a buscar en Intervalo(9.375e-01 with 256 bits of precision,1.09375e+00 with 256 bits of precision)\n",
        "vamos a buscar en Intervalo(9.375e-01 with 256 bits of precision,1.015625e+00 with 256 bits of precision)\n",
        "vamos a buscar en Intervalo(9.765625e-01 with 256 bits of precision,1.015625e+00 with 256 bits of precision)\n",
        "vamos a buscar en Intervalo(9.9609375e-01 with 256 bits of precision,1.015625e+00 with 256 bits of precision)\n",
        "vamos a buscar en Intervalo(9.9609375e-01 with 256 bits of precision,1.005859375e+00 with 256 bits of precision)\n",
        "Encontre raiz en Intervalo(9.9609375e-01 with 256 bits of precision,1.005859375e+00 with 256 bits of precision)\n",
        "Encontre raiz en Intervalo(9.9609375e-01 with 256 bits of precision,1.005859375e+00 with 256 bits of precision)\n",
        "Encontre raiz en Intervalo(9.9609375e-01 with 256 bits of precision,1.015625e+00 with 256 bits of precision)\n",
        "Encontre raiz en Intervalo(9.765625e-01 with 256 bits of precision,1.015625e+00 with 256 bits of precision)\n",
        "vamos a buscar en Intervalo(9.765625e-01 with 256 bits of precision,1.015625e+00 with 256 bits of precision)\n",
        "vamos a buscar en Intervalo(9.9609375e-01 with 256 bits of precision,1.015625e+00 with 256 bits of precision)\n",
        "vamos a buscar en Intervalo(9.9609375e-01 with 256 bits of precision,1.005859375e+00 with 256 bits of precision)\n",
        "Encontre raiz en Intervalo(9.9609375e-01 with 256 bits of precision,1.005859375e+00 with 256 bits of precision)\n",
        "Encontre raiz en Intervalo(9.9609375e-01 with 256 bits of precision,1.005859375e+00 with 256 bits of precision)\n",
        "Encontre raiz en Intervalo(9.9609375e-01 with 256 bits of precision,1.015625e+00 with 256 bits of precision)\n",
        "Encontre raiz en Intervalo(9.765625e-01 with 256 bits of precision,1.015625e+00 with 256 bits of precision)\n",
        "Encontre raiz en Intervalo(9.375e-01 with 256 bits of precision,1.09375e+00 with 256 bits of precision)\n",
        "Encontre raiz en Intervalo(9.375e-01 with 256 bits of precision,1.25e+00 with 256 bits of precision)\n",
        "Encontre raiz en Intervalo(6.25e-01 with 256 bits of precision,1.25e+00 with 256 bits of precision)\n",
        "Encontre raiz en Intervalo(0e+00 with 256 bits of precision,2.5e+00 with 256 bits of precision)\n"
       ]
      },
      {
       "metadata": {},
       "output_type": "pyout",
       "prompt_number": 18,
       "text": [
        "2-element Array{Intervalo,1}:\n",
        " Intervalo(-2.5e+00 with 256 bits of precision,0e+00 with 256 bits of precision)\n",
        " Intervalo(0e+00 with 256 bits of precision,2.5e+00 with 256 bits of precision) "
       ]
      }
     ],
     "prompt_number": 18
    },
    {
     "cell_type": "code",
     "collapsed": false,
     "input": [],
     "language": "python",
     "metadata": {},
     "outputs": []
    }
   ],
   "metadata": {}
  }
 ]
}