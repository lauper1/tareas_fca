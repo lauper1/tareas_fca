{
 "metadata": {
  "language": "Julia",
  "name": "",
  "signature": "sha256:35fa101c904965823c3152601806e51d6a9ca3e7bb4f0f68e15b78c667a454a1"
 },
 "nbformat": 3,
 "nbformat_minor": 0,
 "worksheets": [
  {
   "cells": [
    {
     "cell_type": "heading",
     "level": 1,
     "metadata": {},
     "source": [
      "Enteros"
     ]
    },
    {
     "cell_type": "markdown",
     "metadata": {},
     "source": [
      "Para escribir 314159 en terminos de potencias de diez notamos que las unidades corresponden a $10^0$, las decenas a $10^1$ y as\u00ed sucesivamente, de modo que:\n",
      "\n",
      "  $314159_{10}= 3 \\times  10^5+ 1 \\times 10^4 +4 \\times  10 ^3+ 1 \\times 10^2+5 \\times 10^1+9 \\times 10^0$\n",
      "\n",
      "\n",
      "Podemos calcular directamente la representaci\u00f3n binaria del n\u00famero $50_{10}$ con la funci\u00f3n \"bits\":"
     ]
    },
    {
     "cell_type": "markdown",
     "metadata": {},
     "source": [
      "Sin embargo, ser\u00eda interesante ver como se realiza la representaci\u00f3n en binario. La representaci\u00f3n basicamente consiste en dividir el n\u00famero en cuesti\u00f3n entre dos varias veces hasta que alcancemos la unidad, de modo que los residuos obtenidos en cada paso corresponden a las cifras que reprensentan al n\u00famero en binario. Se ejemplifica con 50:\n",
      "\n",
      "1. divido 50 entre 2, da 25 y el residuo es $0=a_{0}$\n",
      "2. divido 25 entre 2, da 12 y el residuo es $1=a_{1}$\n",
      "3. divido 12 entre 2, da 6 y el residuo es $0=a_{2}$\n",
      "4. divido 6 entre 2, da 3 y el residuo es $0=a_{3}$\n",
      "5. divido 3 entre 2, da 1 y el residuo es $1=a_{4}$\n",
      "\n",
      "\n",
      "de modo que el n\u00famero $50_{10}$ se representa en base 2 como:\n",
      "\n",
      "$a_{0} \\times 2^0+a_{1} \\times 2^1+ a_{2} \\times 2^2+ a_{3} \\times 2^3 +a_{4} \\times 2^4=  0 \\times 2^0+1 \\times 2^1+0 \\times 2^2+ 0 \\times 2^3 +1 \\times 2^4$\n",
      "\n",
      "\n",
      "Para automatizar este proceso escrib\u00ed el programa \"lbits10a2\", el cual recibe un n\u00famero entero y devuelve su representaci\u00f3n en binario en forma de una cadena de car\u00e1cteres"
     ]
    },
    {
     "cell_type": "code",
     "collapsed": false,
     "input": [
      "function input(prompt::String=\"\")   # es necesario definir esta funci\u00f3n para poder pedir inputs al usuario\n",
      "         print(prompt)\n",
      "         chomp(readline())\n",
      "       end"
     ],
     "language": "python",
     "metadata": {},
     "outputs": [
      {
       "metadata": {},
       "output_type": "pyout",
       "prompt_number": 51,
       "text": [
        "input (generic function with 2 methods)"
       ]
      }
     ],
     "prompt_number": 51
    },
    {
     "cell_type": "code",
     "collapsed": false,
     "input": [
      "function lbits10a2(w)\n",
      "op=input(\"Deseas que el programa muestre los subpasos, si [s]/ no [n]\");\n",
      "G=\"\" #aqu\u00ed ir\u00e1 escribiendo los car\u00e1cteres correspondientes a las  $a_{n}$\n",
      "      while w>=1   #como vimos es un proceso iterativo que se repite hasta que el n\u00famero que se divide es igual a la unidad\n",
      "        y=mod(w,2)  #obtengo el residuo de dividir entre doS\n",
      "        w=div(w,2)\n",
      "        op==\"s\" ? println(\"El residuo de dividir $(2*w+y) entre 2 es  $y y da $w\"): print(\"\")\n",
      "        G=\"$y\"*G\n",
      "    end\n",
      "    print(\" la representaci\u00f3n en binario es $G\")\n",
      "end"
     ],
     "language": "python",
     "metadata": {},
     "outputs": [
      {
       "metadata": {},
       "output_type": "pyout",
       "prompt_number": 198,
       "text": [
        "lbits10a2 (generic function with 1 method)"
       ]
      }
     ],
     "prompt_number": 198
    },
    {
     "cell_type": "code",
     "collapsed": false,
     "input": [
      "lbits10a2(50)"
     ],
     "language": "python",
     "metadata": {},
     "outputs": [
      {
       "output_type": "stream",
       "stream": "stdout",
       "text": [
        "Deseas que el programa muestre los subpasos, si [s]/ no [n]"
       ]
      },
      {
       "name": "stdout",
       "output_type": "stream",
       "stream": "stdout",
       "text": [
        "STDIN> n\n"
       ]
      },
      {
       "output_type": "stream",
       "stream": "stdout",
       "text": [
        " la representaci\u00f3n en binario es 110010"
       ]
      }
     ],
     "prompt_number": 199
    },
    {
     "cell_type": "code",
     "collapsed": false,
     "input": [
      "lbits10a2(121)"
     ],
     "language": "python",
     "metadata": {},
     "outputs": [
      {
       "output_type": "stream",
       "stream": "stdout",
       "text": [
        "Deseas que el programa muestre los subpasos, si [s]/ no [n]"
       ]
      },
      {
       "name": "stdout",
       "output_type": "stream",
       "stream": "stdout",
       "text": [
        "STDIN> n\n"
       ]
      },
      {
       "output_type": "stream",
       "stream": "stdout",
       "text": [
        " la representaci\u00f3n en binario es 1111001"
       ]
      }
     ],
     "prompt_number": 200
    },
    {
     "cell_type": "markdown",
     "metadata": {},
     "source": [
      "Antes de continuar comparo con \"bits\"."
     ]
    },
    {
     "cell_type": "code",
     "collapsed": false,
     "input": [
      "bits(121)"
     ],
     "language": "python",
     "metadata": {},
     "outputs": [
      {
       "metadata": {},
       "output_type": "pyout",
       "prompt_number": 201,
       "text": [
        "\"0000000000000000000000000000000000000000000000000000000001111001\""
       ]
      }
     ],
     "prompt_number": 201
    },
    {
     "cell_type": "markdown",
     "metadata": {},
     "source": [
      "Ahora muestro la funci\u00f3n \"bintodec\" que realiza el proceso inverso, es decir, pasa de una cadena en binario(entero) a su representaci\u00f3n en decimal.\n",
      "\n",
      "Este programa  va asignando a las correspondientes cifras en la cadena binaria el valor con el que contibuyen al n\u00famero, es decir, la cifra (0 o 1) multiplicada por la potencia de dos correspondiente, posteriormente suma cada una de estas contribuciones y obtiene la expresi\u00f3n en decimal del entero."
     ]
    },
    {
     "cell_type": "code",
     "collapsed": false,
     "input": [
      "function bintodec(x)\n",
      "    a=0\n",
      "    op=input(\"Deseas que el programa muestre los subpasos, si [s]/ no [n]\");\n",
      "    go=length(x)\n",
      "    op==\"s\" ? println(\"x tiene $go cifras\"):  print(\"\")\n",
      "    for k in [1:go]\n",
      "        op==\"s\" ?  print(\"la cifra en el lugar $k es $(x[go-k+1]), \"): print(\"\")\n",
      "        pot=parseint((x[go-k+1])) #extrae el n\u00famero de la cadena x\n",
      "        a=a+pot*2^(k-1)   #va sumando las contribuciones correspondientes a cada potencia\n",
      "        op==\"s\" ?  println(\"hasta aqui la suma va en $a\") : print(\"\")    \n",
      "    end\n",
      "    print(\"la representaci\u00f3n en decimal es $a\")\n",
      "end"
     ],
     "language": "python",
     "metadata": {},
     "outputs": [
      {
       "metadata": {},
       "output_type": "pyout",
       "prompt_number": 204,
       "text": [
        "bintodec (generic function with 1 method)"
       ]
      }
     ],
     "prompt_number": 204
    },
    {
     "cell_type": "code",
     "collapsed": false,
     "input": [
      "bintodec(\"100010\")"
     ],
     "language": "python",
     "metadata": {},
     "outputs": [
      {
       "output_type": "stream",
       "stream": "stdout",
       "text": [
        "Deseas que el programa muestre los subpasos, si [s]/ no [n]"
       ]
      },
      {
       "name": "stdout",
       "output_type": "stream",
       "stream": "stdout",
       "text": [
        "STDIN> n\n"
       ]
      },
      {
       "output_type": "stream",
       "stream": "stdout",
       "text": [
        "la representaci\u00f3n en decimal es 34"
       ]
      }
     ],
     "prompt_number": 205
    },
    {
     "cell_type": "code",
     "collapsed": false,
     "input": [
      "bits(34)"
     ],
     "language": "python",
     "metadata": {},
     "outputs": [
      {
       "metadata": {},
       "output_type": "pyout",
       "prompt_number": 206,
       "text": [
        "\"0000000000000000000000000000000000000000000000000000000000100010\""
       ]
      }
     ],
     "prompt_number": 206
    },
    {
     "cell_type": "markdown",
     "metadata": {},
     "source": [
      "y nuevamente checo con la funci\u00f3n \"bits\""
     ]
    },
    {
     "cell_type": "heading",
     "level": 1,
     "metadata": {},
     "source": [
      "Reales"
     ]
    },
    {
     "cell_type": "markdown",
     "metadata": {},
     "source": [
      "Ahora generalizamos los programas escritos anteriormente para n\u00fameros con un punto, tanto en binario como en decimal. Lo primero es observar que el n\u00famero  $31.4159_{10}= 3 \\times  10^1+ 1 \\times 10^0 +4 \\times  10 ^{-1}+ 1 \\times 10^{-2}+5 \\times 10^{-3}+9 \\times 10^{-4}$. Como vimos las computadoras trabajan con potencias de dos, en ese sentido el n\u00famero $101.0101_{2}$, considerar\u00e1 las cifras despu\u00e9s del punto como potencias negativas de 2, es decir, $101.0101_{2}=1 \\times 2^2+ 0 \\times 2^1 + 1 \\times 2^0+0 \\times 2^{-1}+1\\times 2^{-2}+ 0 \\times 2^{-3} +1 \\times 2^{-4} $.La funci\u00f3n  \"binpntodec\" toma una cadena en binario y regresa el real correspondiente, para ello separa la parte entera de la fraccionaria y opera con ellas por separado."
     ]
    },
    {
     "cell_type": "code",
     "collapsed": false,
     "input": [
      "function binpntodec(y)\n",
      "   op=input(\"Deseas que el programa muestre los subpasos, si [s]/ no [n]\");\n",
      "    a=0 #para potencias positivas\n",
      "    b=0 #para potencias negativas \n",
      "    go=length(y)\n",
      "    d=0\n",
      "    w=\"\"\n",
      "    m=\"\"\n",
      "    #primero hay que buscar el punto decimal en la cadena binaria\n",
      "     for k in [1:go]#length(\"y\")]\n",
      "        if (y[k])=='.'\n",
      "            d=k   #esto me va marcar un desfase para poder poner la cifra del punto donde va\n",
      "          end \n",
      "     end \n",
      "    op==\"s\"? println(\" el punto se halla en el lugar $d\"): print(\"\")\n",
      "       \n",
      "    #ahora algo que ya vaya obtieniendo y multiplicando los coeficientes con las potencias de dos correspondientes \n",
      "    \n",
      "    for k in [1:d-1] #potencias positivas de 2\n",
      "        pot=parseint(\"$(y[k])\")\n",
      "        op==\"s\"? println(\"estamos en la componente $k de y, a  $(d-k) lugares a la izquierda del punto decimal, y[k] vale $(y[k]) y la potencia correspondiente es $(d-k-1) \"): print(\"\")\n",
      "        a=a+pot*2.0^(d-k-1)#va sumando las contribuciones correspondientes a cada cifra\n",
      "        op==\"s\"? println(\" la parte entera hasta ahora es $a\") : print(\"\")   \n",
      "    end\n",
      "    \n",
      "    \n",
      "    for k in [d+1:go] #potencias negativas de 2\n",
      "        pot=parseint(\"$(y[k])\")\n",
      "        op==\"s\"? println(\" estamos en la componente $k de y, a  $(k-d) lugares a la derecha del punto decimal, y[k] vale $(y[k]) y la potencia  correspondiente es - $(k-d) \") : print(\"\")\n",
      "        b=b+pot*2.0^-(k-d) #va sumando las contribuciones correspondientes a cada cifra\n",
      "        op==\"s\"? println(\" la parte fraccionaria hasta ahora es $b\")  : print(\"\")\n",
      "    end\n",
      "      op == \"s\" ? println(\" la parte entera es $a\"): print(\"\")\n",
      "      op == \"s\" ?println(\" la parte fraccionaria es $b\"): print(\"\")\n",
      "      c=a+b \n",
      "      println(\"el n\u00famero real en decimal es $c\")\n",
      "end"
     ],
     "language": "python",
     "metadata": {},
     "outputs": [
      {
       "metadata": {},
       "output_type": "pyout",
       "prompt_number": 207,
       "text": [
        "binpntodec (generic function with 1 method)"
       ]
      }
     ],
     "prompt_number": 207
    },
    {
     "cell_type": "code",
     "collapsed": false,
     "input": [
      "binpntodec(\"010101.010101\")"
     ],
     "language": "python",
     "metadata": {},
     "outputs": [
      {
       "output_type": "stream",
       "stream": "stdout",
       "text": [
        "Deseas que el programa muestre los subpasos, si [s]/ no [n]"
       ]
      },
      {
       "name": "stdout",
       "output_type": "stream",
       "stream": "stdout",
       "text": [
        "STDIN> n\n"
       ]
      },
      {
       "output_type": "stream",
       "stream": "stdout",
       "text": [
        "el n\u00famero real en decimal es 21.328125"
       ]
      },
      {
       "output_type": "stream",
       "stream": "stdout",
       "text": [
        "\n"
       ]
      }
     ],
     "prompt_number": 208
    },
    {
     "cell_type": "markdown",
     "metadata": {},
     "source": [
      "Ahora un programa que toma un n\u00famero  con punto en forma decimal y construye la cadena en binario con un punto."
     ]
    },
    {
     "cell_type": "code",
     "collapsed": false,
     "input": [
      "function  decpntobin(x)\n",
      "    op=input(\"Deseas que el programa muestre los subpasos, si [s]/ no [n]\");\n",
      "   #extraer parte entera y parte decimal\n",
      "    pe=div(x, 1)#parte entera\n",
      "    op== \"s\"? println(\"la parte  en sistema decimal entera es $pe\"):print(\"\") \n",
      "    pd=mod(x,1) #parte decimal\n",
      "    op==\"s\"? println(\"la parte  en sistema decimal fraccionaria es $pd\"):print(\"\")\n",
      "    mo=\"\" \n",
      "    \n",
      "    \n",
      "    #operando con los enteros\n",
      "    while pe>=1 \n",
      "        y=int(mod(pe,2))\n",
      "        pe=div(pe,2)\n",
      "        op==\"s\" ? println(\"El residuo de dividir $(2*pe+y) entre 2 es  $y y da $pe\"): print(\"\")\n",
      "        mo=\"$y\"*mo\n",
      "    end\n",
      "    \n",
      "    #esto es necesario si el n\u00famero solo tiene parte fraccionaria\n",
      "    if pe==0.0\n",
      "        mo=\"0\" \n",
      "    end\n",
      "    \n",
      "    op==\"s\"? println(\"la cadena correspondiente a los enteros en binario es $mo\"): print(\"\")\n",
      "\n",
      "    \n",
      "    #para la parte fraccionaria\n",
      "    \n",
      "G=\"\"\n",
      "while pd!=0\n",
      "        h=pd*2\n",
      "        if h<1\n",
      "            b=0 \n",
      "            op==\"s\" ? println(\"Como $h<1 el d\u00edgito asignado es 0\"): print(\"\")\n",
      "            pd=h\n",
      "            G=G*\"$b\"      \n",
      "         else\n",
      "            b=1\n",
      "            op==\"s\" ? println(\"Como $h >1 el d\u00edgito asignado es 1\"): print(\"\")\n",
      "            pd=mod(h,1)\n",
      "            G=G*\"$b\"\n",
      "        end\n",
      "end \n",
      "    op==\"s\"? println(\"la cadena correspondiente a la parte fraccionaria en binario es $G\"): print(\"\")\n",
      "   \n",
      " bin=mo*\".\"*G \n",
      "    print(\"La cadena en binario es  $bin \")   \n",
      "end"
     ],
     "language": "python",
     "metadata": {},
     "outputs": [
      {
       "metadata": {},
       "output_type": "pyout",
       "prompt_number": 209,
       "text": [
        "decpntobin (generic function with 1 method)"
       ]
      }
     ],
     "prompt_number": 209
    },
    {
     "cell_type": "code",
     "collapsed": false,
     "input": [
      "decpntobin(0.25)"
     ],
     "language": "python",
     "metadata": {},
     "outputs": [
      {
       "output_type": "stream",
       "stream": "stdout",
       "text": [
        "Deseas que el programa muestre los subpasos, si [s]/ no [n]"
       ]
      },
      {
       "name": "stdout",
       "output_type": "stream",
       "stream": "stdout",
       "text": [
        "STDIN> n\n"
       ]
      },
      {
       "output_type": "stream",
       "stream": "stdout",
       "text": [
        "La cadena en binario es  0.01 "
       ]
      }
     ],
     "prompt_number": 210
    },
    {
     "cell_type": "heading",
     "level": 1,
     "metadata": {},
     "source": [
      "La representaci\u00f3n \"punto flotante\""
     ]
    },
    {
     "cell_type": "markdown",
     "metadata": {},
     "source": [
      "En realidad la manera en que hemos representado los n\u00fameros reales con parte fraccionaria en binario no es la forma en que realmente trabaja una computadora, en su lugar utiliza una representaci\u00f3n llamada de punto flotante. En esta representaci\u00f3n hay un conjunto finito de n\u00fameros para representar la infinidad de n\u00fameros reales que existen. Un ejemplo de esto se observa en una de las secciones de la \u00faltima funci\u00f3n que present\u00e9  \"decpntobin\". Al ingresar un n\u00famero real separa la parte entera de la fraccionaria. "
     ]
    },
    {
     "cell_type": "code",
     "collapsed": false,
     "input": [
      "function separa(x)\n",
      "pe=div(x, 1)\n",
      "println(\"la parte entera es $pe\")\n",
      "pd=mod(x,1)\n",
      "println(\"la parte fraccionaria es $pd\")\n",
      "end"
     ],
     "language": "python",
     "metadata": {},
     "outputs": [
      {
       "metadata": {},
       "output_type": "pyout",
       "prompt_number": 65,
       "text": [
        "separa (generic function with 1 method)"
       ]
      }
     ],
     "prompt_number": 65
    },
    {
     "cell_type": "code",
     "collapsed": false,
     "input": [
      "separa(8.9)"
     ],
     "language": "python",
     "metadata": {},
     "outputs": [
      {
       "output_type": "stream",
       "stream": "stdout",
       "text": [
        "la parte entera es 8.0"
       ]
      },
      {
       "output_type": "stream",
       "stream": "stdout",
       "text": [
        "\n",
        "la parte fraccionaria es 0.9000000000000004\n"
       ]
      }
     ],
     "prompt_number": 62
    },
    {
     "cell_type": "markdown",
     "metadata": {},
     "source": [
      "Y como vemos no extrae exactamente la parte fraccionaria del  n\u00famero, sino un poco mas o un poco menos. Para conocer la representaci\u00f3n en punto flotante, Julia tiene la funci\u00f3n bits, que me muestra la cadena correspondiente de  un n\u00famero real.\n"
     ]
    },
    {
     "cell_type": "code",
     "collapsed": false,
     "input": [
      "bits(0.9)"
     ],
     "language": "python",
     "metadata": {},
     "outputs": [
      {
       "metadata": {},
       "output_type": "pyout",
       "prompt_number": 115,
       "text": [
        "\"0011111111101100110011001100110011001100110011001100110011001101\""
       ]
      }
     ],
     "prompt_number": 115
    },
    {
     "cell_type": "markdown",
     "metadata": {},
     "source": [
      "En este caso las cadenas de punto flotante utilizan 64 d\u00edgitos para representar un n\u00famero real, lo que corresponde a formato double. Esto lo podemos comprobar con la funci\u00f3n \"lengtn\" o \"typeof\""
     ]
    },
    {
     "cell_type": "code",
     "collapsed": false,
     "input": [
      "length(ans)"
     ],
     "language": "python",
     "metadata": {},
     "outputs": [
      {
       "metadata": {},
       "output_type": "pyout",
       "prompt_number": 87,
       "text": [
        "64"
       ]
      }
     ],
     "prompt_number": 87
    },
    {
     "cell_type": "code",
     "collapsed": false,
     "input": [
      "typeof(64.5)"
     ],
     "language": "python",
     "metadata": {},
     "outputs": [
      {
       "metadata": {},
       "output_type": "pyout",
       "prompt_number": 83,
       "text": [
        "Float64"
       ]
      }
     ],
     "prompt_number": 83
    },
    {
     "cell_type": "code",
     "collapsed": false,
     "input": [
      "typeof(65)"
     ],
     "language": "python",
     "metadata": {},
     "outputs": [
      {
       "metadata": {},
       "output_type": "pyout",
       "prompt_number": 88,
       "text": [
        "Int64"
       ]
      }
     ],
     "prompt_number": 88
    },
    {
     "cell_type": "markdown",
     "metadata": {},
     "source": [
      "Ahora bien, \u00bfqu\u00e9 significa cada uno de los 0's y 1's en la cadena de punto flotante de un n\u00famero real?  La representaci\u00f3n en punto flotante es como una notaci\u00f3n cient\u00edfica pero en base dos, en lugar de base decimal como com\u00fanmente la conocemos.\n",
      " \n",
      "En el formato double el primer d\u00edgito  corresponde al signo del n\u00famero real (0 es positivo y 1 es negativo), los siguientes 11 d\u00edgitos corresponden al exponente al que se elevar\u00e1 dos y que a su vez multiplicar\u00e1 a la parte significativa de la representaci\u00f3n. \n",
      "\n",
      "La parte significativa esta formada por 52 d\u00edgitos."
     ]
    }
   ],
   "metadata": {}
  }
 ]
}