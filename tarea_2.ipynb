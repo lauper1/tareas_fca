{
 "metadata": {
  "language": "Julia",
  "name": "",
  "signature": "sha256:996e6de08793a302e696da8518066fa60818c3d241339c24b261516535676f8a"
 },
 "nbformat": 3,
 "nbformat_minor": 0,
 "worksheets": [
  {
   "cells": [
    {
     "cell_type": "code",
     "collapsed": false,
     "input": [
      "function binpntodec(y)\n",
      "  a=0 #para potencias positivas\n",
      "    b=0 #para potencias negativas \n",
      "    go=length(y)\n",
      "    d=0\n",
      "    w=\"\"\n",
      "    m=\"\"\n",
      "    #primero hay que buscar el punto decimal en la cadena binaria\n",
      "     for k in [1:go]#length(\"y\")]\n",
      "        if (y[k])=='.'\n",
      "\n",
      "            d=k   #esto me va marcar un desfase para poder poner la cifra del punto donde va\n",
      "          end \n",
      "     end \n",
      "   #println(\" el punto se halla en el lugar $d\")\n",
      "       \n",
      "    #ahora algo que ya vaya obtieniendo y multiplicando los coeficientes con las potencias de dos correspondientes \n",
      "    \n",
      "    for k in [1:d-1] #potencias positivas de 2\n",
      "        pot=parseint(\"$(y[k])\")\n",
      "        #println(\"estamos en la componente $k de y, a  $(d-k) lugares a la izquierda del punto decimal, y[k] vale $(y[k]) y la potencia correspondiente es $(d-k-1) \"): print(\"\")\n",
      "        a=a+pot*2.0^(d-k-1)#va sumando las contribuciones correspondientes a cada cifra\n",
      "         #println(\" la parte entera hasta ahora es $a\") \n",
      "    end\n",
      "    \n",
      "    \n",
      "    for k in [d+1:go] #potencias negativas de 2\n",
      "        pot=parseint(\"$(y[k])\")\n",
      "        #println(\" estamos en la componente $k de y, a  $(k-d) lugares a la derecha del punto decimal, y[k] vale $(y[k]) y la potencia  correspondiente es - $(k-d) \") : print(\"\")\n",
      "        b=b+pot*2.0^-(k-d) #va sumando las contribuciones correspondientes a cada cifra\n",
      "        #op==\"s\"? println(\" la parte fraccionaria hasta ahora es $b\")  : print(\"\")\n",
      "    end\n",
      "      #op == \"s\" ? println(\" la parte entera es $a\"): print(\"\")\n",
      "      #op == \"s\" ?println(\" la parte fraccionaria es $b\"): print(\"\")\n",
      "      c=a+b \n",
      "      #println(\"el n\u00famero real en decimal es $c\")\n",
      "end"
     ],
     "language": "python",
     "metadata": {},
     "outputs": [
      {
       "metadata": {},
       "output_type": "pyout",
       "prompt_number": 1,
       "text": [
        "binpntodec (generic function with 1 method)"
       ]
      }
     ],
     "prompt_number": 1
    },
    {
     "cell_type": "code",
     "collapsed": false,
     "input": [
      "function bintodec(x)\n",
      "    a=0\n",
      "    #op=input(\"Deseas que el programa muestre los subpasos, si [s]/ no [n]\");\n",
      "    go=length(x)\n",
      "    #op==\"s\" ? println(\"x tiene $go cifras\"):  print(\"\")\n",
      "    for k in [1:go]\n",
      "     #   op==\"s\" ?  print(\"la cifra en el lugar $k es $(x[go-k+1]), \"): print(\"\")\n",
      "        pot=parseint((x[go-k+1])) #extrae el n\u00famero de la cadena x\n",
      "        a=a+pot*2^(k-1)   #va sumando las contribuciones correspondientes a cada potencia\n",
      "      #  op==\"s\" ?  println(\"hasta aqui la suma va en $a\") : print(\"\")    \n",
      "    end\n",
      "    #print(\"la representaci\u00f3n en decimal es $a\")\n",
      "    a\n",
      "end"
     ],
     "language": "python",
     "metadata": {},
     "outputs": [
      {
       "metadata": {},
       "output_type": "pyout",
       "prompt_number": 397,
       "text": [
        "bintodec (generic function with 1 method)"
       ]
      }
     ],
     "prompt_number": 397
    },
    {
     "cell_type": "heading",
     "level": 4,
     "metadata": {},
     "source": [
      "\n",
      "Ejercicio 1."
     ]
    },
    {
     "cell_type": "markdown",
     "metadata": {},
     "source": [
      "\n",
      "Encontrar una expresi\u00f3n general para el n\u00famero de n\u00fameros normalizados que se pueden representar dada una base $\\beta$, un n\u00famero fijo de d\u00edgitos significativos $p$ y un rango de exponentes disponibles, definidos por $e_{min}$ y $e_{max}$. Para guiar la respuesta utilizamos  $\\beta=2$ base binaria, $p=2$ es decir tres cifras significativas y $e_{max}=2$ y $e_{min}=-1$.\n",
      "\n",
      "Primero ver\u00e9 de cuantos d\u00edgitos se compondr\u00e1 un n\u00famero de este tipo:\n",
      "\n",
      "- un d\u00edgito para el signo 0 si es positivo y 1 si es negativo (2 opciones, 0 1)\n",
      "\n",
      "- dos d\u00edgitos para las cifras significativas. En realidad son tres, pero, $b_{0}=1$ siempre por lo que se omite. (4 opciones, $1.00_2=1_{10}$, $1.01_{2}=1.25_{10}$, $1.10_{2}=1.5_{10}$, $1.11_{2}=1.75_{10}$ recordando que el 2 antes del punto se omite por la convenci\u00f3n del bit escondido)\n",
      "\n",
      "- tres d\u00edgitos para el exponente. Uno para el signo del exponente y los otros dos para poder expresar su valor ab $-1_{10}=101_{2}$, $0_{0}=000_{2}$, $1_{10}=001_{2}$ y $2_{10}=010_{2}$. (4 opciones)\n",
      "\n",
      "\n",
      "Son seis d\u00edgitos en total, pero, en realidad podemos generar 32 n\u00fameros diferentes aunque en principio deber\u00edan ser $64 (2^6)$."
     ]
    },
    {
     "cell_type": "markdown",
     "metadata": {},
     "source": [
      "$2\u03b2^{(p-1)} ((e_{max}-e_{min})+1)$   \n",
      "\n",
      "\n",
      "el dos es por los dos signos que puede tomar la representaci\u00f3n\n",
      "la base es porque dependiendo de la misma podemos tener ya sea dos d\u00edgitos(0 , 1) ,tres(0,1,2), etc  estos podemos escribirlos en p-1 lugares\n",
      "\n",
      "finalmente se multiplica por el n\u00famero de exponentes disponibles  que va desde $e_{max}$ a $e_{min}$ contando el cero"
     ]
    },
    {
     "cell_type": "heading",
     "level": 4,
     "metadata": {},
     "source": [
      "Ejercicio 2."
     ]
    },
    {
     "cell_type": "markdown",
     "metadata": {},
     "source": [
      "No se puede representar el cero en el conjunto de numeros normalizados.\n",
      "El n\u00famero mas peque\u00f1o que se puede representar es el 0 00 101 (el primer cero es del signo, los siguientes dos corresponde por la regla del bit escondido al $1.00_2=1_{10}$, finalmente los \u00faltimos tres d\u00edgitos son el 101 que corresponde al $e_{min}$ ($2^{-1}$) "
     ]
    },
    {
     "cell_type": "markdown",
     "metadata": {},
     "source": [
      "$1.0* 2^{e_{min}}= 1.0 *0.5=0.5$"
     ]
    },
    {
     "cell_type": "markdown",
     "metadata": {},
     "source": [
      "Vemos que de acuerdo a la regla del bit escondido siempre se estar\u00e1 multiplicando por 1 que es el valor mas peque\u00f1o en cualquier base, distinto de cero. Por la base elevada al exponente menor.\n",
      "\n",
      "$1.0 * \\beta^{e_{min}}= \\beta^{e_{min}}$\n",
      "\n",
      "La regla del bit escondido ya no funciona para $\\beta>2$ dado que ahora hay  $\\beta-1$ posibilidades para  ocupar el $b_{0}$ para los n\u00fameros normalizados. En $\\beta=2$ funciona porque la unica opci\u00f3n para n\u00fameros normalizados es que $b_{0}=1$, pero, por ejemplo para $\\beta=3$ el $b_{0}$ puede ser 1 o 2."
     ]
    },
    {
     "cell_type": "heading",
     "level": 4,
     "metadata": {},
     "source": [
      "Ejercicio 3."
     ]
    },
    {
     "cell_type": "markdown",
     "metadata": {},
     "source": [
      "Al ahora incluir n\u00fameros subnormales estamos incluyendo las cifras significativas siguientes:\n",
      "$0.01_{2}=0.25_{10}$,   $0.10_{2}=0.5_{10},    0.11_{2}=0.75_{10},  0.00_{2}=0_{10}$"
     ]
    },
    {
     "cell_type": "code",
     "collapsed": false,
     "input": [
      "for x in [\"0.01\", \"0.10\", \"0.11\", \"0.00\"]\n",
      "    y=binpntodec(x)#aqui obtiene la cifra correspondiente a la mantisa\n",
      "    println(\"la mantisa es $y\")\n",
      "    for e in [-1,0, 1, 2] \n",
      "        w=y*2.0^e #lo va multiplicando por las potencias de dos que tenemos disponibles\n",
      "       println(w)\n",
      "    end\n",
      "end    "
     ],
     "language": "python",
     "metadata": {},
     "outputs": [
      {
       "output_type": "stream",
       "stream": "stdout",
       "text": [
        "la mantisa es 0.25"
       ]
      },
      {
       "output_type": "stream",
       "stream": "stdout",
       "text": [
        "\n",
        "0.125\n",
        "0.25\n",
        "0.5\n",
        "1.0\n",
        "la mantisa es 0.5\n",
        "0.25\n",
        "0.5\n",
        "1.0\n",
        "2.0\n",
        "la mantisa es 0.75\n",
        "0.375\n",
        "0.75\n",
        "1.5\n",
        "3.0\n",
        "la mantisa es 0.0\n",
        "0.0\n",
        "0.0\n",
        "0.0\n",
        "0.0\n"
       ]
      }
     ],
     "prompt_number": 332
    },
    {
     "cell_type": "markdown",
     "metadata": {},
     "source": [
      "el espaciamiento es igual, uniforme"
     ]
    },
    {
     "cell_type": "heading",
     "level": 4,
     "metadata": {},
     "source": [
      "Ejercicio 4"
     ]
    },
    {
     "cell_type": "markdown",
     "metadata": {},
     "source": [
      "El n\u00famero mas peque\u00f1o se construye con:\n",
      "\n",
      "- la mantisa mas peque\u00f1a, en nuestro ejemplo 0.01, que en forma general ser\u00eda $\\beta^{-(p)}$\n",
      "- el exponente m\u00ednimo $e_{min}$\n",
      "\n",
      "$N_{min}=  \\beta^{-(p-1)} \\times \\beta^{e_{min}}= \\beta^{-p+1+e_{min}}$\n",
      "\n",
      "el n\u00famero mas grande se construye con:\n",
      "- la mantisa mas grande, en nuestro ejemplo 1.11, que en forma general ser\u00eda   $\\sum_{k=0}^{k=p} (\\beta-1) \\times \\beta^{-k}$\n",
      "- el exponente maximo, $e_{max}$\n",
      "\n",
      "$N_{max}= \\beta^{e_{max}} \\sum_{k=0}^{k=p} (\\beta-1) \\times \\beta^{-k}$\n"
     ]
    },
    {
     "cell_type": "heading",
     "level": 4,
     "metadata": {},
     "source": [
      "Ejercicio 5"
     ]
    },
    {
     "cell_type": "markdown",
     "metadata": {},
     "source": [
      "\u00bfc\u00f3mo representa la computadora los distintos n\u00fameros? Primero construir\u00e9 una funci\u00f3n que separe las distintas partes de un n\u00famero flotante. Yo se que el primer d\u00edgito corresponde al signo (0 positivo, 1 negativo), los siguientes 11 d\u00edgitos corresponde al exponente y los siguientes 52 restantes son la mantisa.\n",
      "\n",
      "   Notemos que para que un n\u00famero sea subnormal, el exponente m\u00ednimo no es lo suficientemente peque\u00f1o para que $b_{0} \\neq  0$, por lo que necesariamente el exponente debe ser  el m\u00ednimo posible, en el caso de 64 bits -1073.\n",
      "   \n",
      "   \n",
      "   "
     ]
    },
    {
     "cell_type": "code",
     "collapsed": false,
     "input": [
      "function dis(x)\n",
      "    y=bits(x)\n",
      "    e=y[1] \n",
      "    println(e)\n",
      "    w=y[2:12]\n",
      "    println(w)\n",
      "    m=y[13:end]\n",
      "    \n",
      "end  "
     ],
     "language": "python",
     "metadata": {},
     "outputs": [
      {
       "metadata": {},
       "output_type": "pyout",
       "prompt_number": 333,
       "text": [
        "dis (generic function with 1 method)"
       ]
      }
     ],
     "prompt_number": 333
    },
    {
     "cell_type": "markdown",
     "metadata": {},
     "source": [
      "Voy a probar esta funci\u00f3n con algunos n\u00fameros de inter\u00e9s particular:\n",
      "- realmin(Float64)\n",
      "\n"
     ]
    },
    {
     "cell_type": "code",
     "collapsed": false,
     "input": [
      "dis(realmin(Float64))"
     ],
     "language": "python",
     "metadata": {},
     "outputs": [
      {
       "output_type": "stream",
       "stream": "stdout",
       "text": [
        "0"
       ]
      },
      {
       "output_type": "stream",
       "stream": "stdout",
       "text": [
        "\n",
        "00000000001\n"
       ]
      },
      {
       "metadata": {},
       "output_type": "pyout",
       "prompt_number": 334,
       "text": [
        "\"0000000000000000000000000000000000000000000000000000\""
       ]
      }
     ],
     "prompt_number": 334
    },
    {
     "cell_type": "markdown",
     "metadata": {},
     "source": [
      "si ahora tomo ese n\u00famero entre dos\n"
     ]
    },
    {
     "cell_type": "code",
     "collapsed": false,
     "input": [
      "dis(realmin(Float64)/2)"
     ],
     "language": "python",
     "metadata": {},
     "outputs": [
      {
       "output_type": "stream",
       "stream": "stdout",
       "text": [
        "0"
       ]
      },
      {
       "output_type": "stream",
       "stream": "stdout",
       "text": [
        "\n",
        "00000000000\n"
       ]
      },
      {
       "metadata": {},
       "output_type": "pyout",
       "prompt_number": 335,
       "text": [
        "\"1000000000000000000000000000000000000000000000000000\""
       ]
      }
     ],
     "prompt_number": 335
    },
    {
     "cell_type": "markdown",
     "metadata": {},
     "source": [
      "ya no es un n\u00famero normal, sino subnormal, el exponente es igual a 0. Ahora probemos con el flotante mas grande"
     ]
    },
    {
     "cell_type": "code",
     "collapsed": false,
     "input": [
      "realmax(Float64)"
     ],
     "language": "python",
     "metadata": {},
     "outputs": [
      {
       "metadata": {},
       "output_type": "pyout",
       "prompt_number": 336,
       "text": [
        "1.7976931348623157e308"
       ]
      }
     ],
     "prompt_number": 336
    },
    {
     "cell_type": "code",
     "collapsed": false,
     "input": [
      "dis(realmax(Float64))"
     ],
     "language": "python",
     "metadata": {},
     "outputs": [
      {
       "output_type": "stream",
       "stream": "stdout",
       "text": [
        "0"
       ]
      },
      {
       "output_type": "stream",
       "stream": "stdout",
       "text": [
        "\n",
        "11111111110\n"
       ]
      },
      {
       "metadata": {},
       "output_type": "pyout",
       "prompt_number": 337,
       "text": [
        "\"1111111111111111111111111111111111111111111111111111\""
       ]
      }
     ],
     "prompt_number": 337
    },
    {
     "cell_type": "markdown",
     "metadata": {},
     "source": [
      "Vemos que ha guardado un bit en el exponente, no utiliz\u00f3 el mas grande que pod\u00eda. \u00bfPARA QUI\u00c9N LO GUARDA?"
     ]
    },
    {
     "cell_type": "code",
     "collapsed": false,
     "input": [
      "realmax(Float64)*2.0"
     ],
     "language": "python",
     "metadata": {},
     "outputs": [
      {
       "metadata": {},
       "output_type": "pyout",
       "prompt_number": 338,
       "text": [
        "Inf"
       ]
      }
     ],
     "prompt_number": 338
    },
    {
     "cell_type": "code",
     "collapsed": false,
     "input": [
      "dis(realmax(Float64)*2.0)"
     ],
     "language": "python",
     "metadata": {},
     "outputs": [
      {
       "output_type": "stream",
       "stream": "stdout",
       "text": [
        "0"
       ]
      },
      {
       "output_type": "stream",
       "stream": "stdout",
       "text": [
        "\n",
        "11111111111\n"
       ]
      },
      {
       "metadata": {},
       "output_type": "pyout",
       "prompt_number": 339,
       "text": [
        "\"0000000000000000000000000000000000000000000000000000\""
       ]
      }
     ],
     "prompt_number": 339
    },
    {
     "cell_type": "markdown",
     "metadata": {},
     "source": [
      "vemos que en este caso para infinito ocupa el bit para tener entonces el exponente mas grande."
     ]
    },
    {
     "cell_type": "code",
     "collapsed": false,
     "input": [
      "Inf+Inf"
     ],
     "language": "python",
     "metadata": {},
     "outputs": [
      {
       "metadata": {},
       "output_type": "pyout",
       "prompt_number": 340,
       "text": [
        "Inf"
       ]
      }
     ],
     "prompt_number": 340
    },
    {
     "cell_type": "code",
     "collapsed": false,
     "input": [
      "Inf-Inf"
     ],
     "language": "python",
     "metadata": {},
     "outputs": [
      {
       "metadata": {},
       "output_type": "pyout",
       "prompt_number": 341,
       "text": [
        "NaN"
       ]
      }
     ],
     "prompt_number": 341
    },
    {
     "cell_type": "markdown",
     "metadata": {},
     "source": [
      "\u00bfc\u00f3mo representa a NaN?"
     ]
    },
    {
     "cell_type": "code",
     "collapsed": false,
     "input": [
      "dis(NaN*4)"
     ],
     "language": "python",
     "metadata": {},
     "outputs": [
      {
       "output_type": "stream",
       "stream": "stdout",
       "text": [
        "0"
       ]
      },
      {
       "output_type": "stream",
       "stream": "stdout",
       "text": [
        "\n",
        "11111111111\n"
       ]
      },
      {
       "metadata": {},
       "output_type": "pyout",
       "prompt_number": 1119,
       "text": [
        "\"1000000000000000000000000000000000000000000000000000\""
       ]
      }
     ],
     "prompt_number": 1119
    },
    {
     "cell_type": "markdown",
     "metadata": {},
     "source": [
      "Entonces los normales se caracterizan por representacion de sus exponentes distintos de cero,  va desde  00000000001 a 11111111110.\n",
      "\n",
      "Los subnormales tienen una representaci\u00f3n de sus exponentes con unicamente ceros: 00000000000. El cero es subnormal.\n",
      "\n",
      "Sin embargo hay dos d\u00edgitos del exponente que se guardan para Inf y NaN.\n",
      "\n",
      "Inf tiene exponente 11111111111, as\u00ed como NaN.\n",
      "Sin embargo es posible operar con Inf y con NaN no."
     ]
    },
    {
     "cell_type": "markdown",
     "metadata": {},
     "source": [
      "2^(1.0)"
     ]
    },
    {
     "cell_type": "code",
     "collapsed": false,
     "input": [
      "dis(2.0^(-1074)/2)"
     ],
     "language": "python",
     "metadata": {},
     "outputs": [
      {
       "output_type": "stream",
       "stream": "stdout",
       "text": [
        "0"
       ]
      },
      {
       "output_type": "stream",
       "stream": "stdout",
       "text": [
        "\n",
        "00000000000\n"
       ]
      },
      {
       "metadata": {},
       "output_type": "pyout",
       "prompt_number": 343,
       "text": [
        "\"0000000000000000000000000000000000000000000000000000\""
       ]
      }
     ],
     "prompt_number": 343
    },
    {
     "cell_type": "code",
     "collapsed": false,
     "input": [
      "dis(2.0^(-1074))"
     ],
     "language": "python",
     "metadata": {},
     "outputs": [
      {
       "output_type": "stream",
       "stream": "stdout",
       "text": [
        "0"
       ]
      },
      {
       "output_type": "stream",
       "stream": "stdout",
       "text": [
        "\n",
        "00000000000\n"
       ]
      },
      {
       "metadata": {},
       "output_type": "pyout",
       "prompt_number": 1120,
       "text": [
        "\"0000000000000000000000000000000000000000000000000001\""
       ]
      }
     ],
     "prompt_number": 1120
    },
    {
     "cell_type": "markdown",
     "metadata": {},
     "source": [
      "finalmente acabamos de mostrar que  2.0^(-1074) es el positivo mas peque\u00f1o."
     ]
    },
    {
     "cell_type": "heading",
     "level": 4,
     "metadata": {},
     "source": [
      "Ejercicio 6."
     ]
    },
    {
     "cell_type": "markdown",
     "metadata": {},
     "source": [
      "Dos n\u00fameros binarios consecutivos. El hecho de que un n\u00famero en la representaci\u00f3n binaria sea consecutivo de otro se ver\u00e1 reflejado en la mantisa con la regla de la suma para n\u00fameros binarios, de modo que el siguiente de 0001 es 0010. \n",
      "\n",
      "Para esto me ser\u00e1 \u00fatil una funci\u00f3n que partiendo de una representaci\u00f3n en bits me devuelva el n\u00famero flotante en decimal."
     ]
    },
    {
     "cell_type": "code",
     "collapsed": false,
     "input": [
      "function   float(x)\n",
      "    sig= parseint(x[1])\n",
      "    #println(sig)\n",
      "    exp=x[2:12]\n",
      "    mant=x[13:end]\n",
      "    #println(exp)\n",
      "    #println(mant)\n",
      "    if exp ==\"00000000000\"\n",
      "        ex=0-1022\n",
      "        hiddenbit=\"0.\"\n",
      "    else\n",
      "        ex=bintodec(exp)-1023\n",
      "        hiddenbit=\"1.\"\n",
      "    end\n",
      "    (-1)^sig*binpntodec(hiddenbit*mant)*2.0^ex\n",
      "end"
     ],
     "language": "python",
     "metadata": {},
     "outputs": [
      {
       "metadata": {},
       "output_type": "pyout",
       "prompt_number": 421,
       "text": [
        "float (generic function with 1 method)"
       ]
      }
     ],
     "prompt_number": 421
    },
    {
     "cell_type": "code",
     "collapsed": false,
     "input": [
      "bits(9.0)"
     ],
     "language": "python",
     "metadata": {},
     "outputs": [
      {
       "metadata": {},
       "output_type": "pyout",
       "prompt_number": 463,
       "text": [
        "\"0100000000100010000000000000000000000000000000000000000000000000\""
       ]
      }
     ],
     "prompt_number": 463
    },
    {
     "cell_type": "code",
     "collapsed": false,
     "input": [
      "float(ans)"
     ],
     "language": "python",
     "metadata": {},
     "outputs": [
      {
       "metadata": {},
       "output_type": "pyout",
       "prompt_number": 464,
       "text": [
        "9.0"
       ]
      }
     ],
     "prompt_number": 464
    },
    {
     "cell_type": "markdown",
     "metadata": {},
     "source": [
      "La aplicaci\u00f3n de bits, seguida de float, parecer\u00eda dejar igual al n\u00famero, sin embargo esta creando el n\u00famero flotante mas cercano al n\u00famero que introducimos. Por ejemplo para el n\u00famero $2^(-1074)$ el mas peque\u00f1o de los flotantes que se pueden generar."
     ]
    },
    {
     "cell_type": "code",
     "collapsed": false,
     "input": [
      "x=2.0^(-1074)\n",
      "y=float(bits(x))\n",
      "print(y)\n",
      "x==y"
     ],
     "language": "python",
     "metadata": {},
     "outputs": [
      {
       "output_type": "stream",
       "stream": "stdout",
       "text": [
        "5"
       ]
      },
      {
       "output_type": "stream",
       "stream": "stdout",
       "text": [
        ".0e-324"
       ]
      },
      {
       "metadata": {},
       "output_type": "pyout",
       "prompt_number": 1122,
       "text": [
        "true"
       ]
      }
     ],
     "prompt_number": 1122
    },
    {
     "cell_type": "markdown",
     "metadata": {},
     "source": [
      "Sin embargo cuando introduzco un n\u00famero mas peque\u00f1o que ese lo mandar\u00e1 a cero:"
     ]
    },
    {
     "cell_type": "code",
     "collapsed": false,
     "input": [
      "x=2.0^(-1074)/5\n",
      "y=float(bits(x))\n",
      "print(y)\n",
      "x==y"
     ],
     "language": "python",
     "metadata": {},
     "outputs": [
      {
       "output_type": "stream",
       "stream": "stdout",
       "text": [
        "0"
       ]
      },
      {
       "output_type": "stream",
       "stream": "stdout",
       "text": [
        ".0"
       ]
      },
      {
       "metadata": {},
       "output_type": "pyout",
       "prompt_number": 1123,
       "text": [
        "true"
       ]
      }
     ],
     "prompt_number": 1123
    },
    {
     "cell_type": "markdown",
     "metadata": {},
     "source": [
      "Ahora vamos a introducir la funci\u00f3n eps(x), esta se encuentra en las librer\u00edas que tengo instaladas de julia y me regresa un flotante, tal que x+eps(x) es el flotante que mayor a x, que es inmediato. Como prueba, vemos que en efecto el siguiente positivo ($2^{-1074}$) despu\u00e9s de 0 se puede obtener con eps"
     ]
    },
    {
     "cell_type": "code",
     "collapsed": false,
     "input": [
      "0.0+eps(0.0)== 2.0^(-1074)"
     ],
     "language": "python",
     "metadata": {},
     "outputs": [
      {
       "metadata": {},
       "output_type": "pyout",
       "prompt_number": 468,
       "text": [
        "true"
       ]
      }
     ],
     "prompt_number": 468
    },
    {
     "cell_type": "markdown",
     "metadata": {},
     "source": [
      "La siguiente funci\u00f3n \"prom\" recibe un n\u00famero flotante, calcula su representaci\u00f3n  en flotantes. Posteriormente, obtiene el flotante siguiente con eps y finalmente calcula el promedio."
     ]
    },
    {
     "cell_type": "code",
     "collapsed": false,
     "input": [
      "function prom(x)\n",
      "    y=bits(x)\n",
      "    yu=float(y)\n",
      "    su=yu+eps(yu)\n",
      "    sub= bits(su)\n",
      "    p=(su+yu)/2    \n",
      "    println(\"el flotante  $yu se representa por $y\")\n",
      "    println(\"el sucesor es $su y se representa por $sub\")\n",
      "    println( \"el promedio es  $p y su representaci\u00f3n es $bits(p)\")\n",
      "end\n",
      "    "
     ],
     "language": "python",
     "metadata": {},
     "outputs": [
      {
       "metadata": {},
       "output_type": "pyout",
       "prompt_number": 521,
       "text": [
        "prom (generic function with 1 method)"
       ]
      }
     ],
     "prompt_number": 521
    },
    {
     "cell_type": "code",
     "collapsed": false,
     "input": [
      "prom(5.4500071)"
     ],
     "language": "python",
     "metadata": {},
     "outputs": [
      {
       "output_type": "stream",
       "stream": "stdout",
       "text": [
        "el flotante  5.4500071 se representa por 0100000000010101110011001100111010101001010001011101111100000111"
       ]
      },
      {
       "output_type": "stream",
       "stream": "stdout",
       "text": [
        "\n",
        "el sucesor es 5.4500071000000005 y se representa por 0100000000010101110011001100111010101001010001011101111100001000\n",
        "el promedio es  5.4500071000000005 y su representaci\u00f3n es bits(p)\n"
       ]
      }
     ],
     "prompt_number": 522
    },
    {
     "cell_type": "code",
     "collapsed": false,
     "input": [
      "prom(5.450003)"
     ],
     "language": "python",
     "metadata": {},
     "outputs": [
      {
       "output_type": "stream",
       "stream": "stdout",
       "text": [
        "el flotante  5.450003 se representa por 0100000000010101110011001100110110010110001000000110100001010101"
       ]
      },
      {
       "output_type": "stream",
       "stream": "stdout",
       "text": [
        "\n",
        "el sucesor es 5.450003000000001 y se representa por 0100000000010101110011001100110110010110001000000110100001010110\n",
        "el promedio es  5.450003000000001 y su representaci\u00f3n es bits(p)\n"
       ]
      }
     ],
     "prompt_number": 523
    },
    {
     "cell_type": "markdown",
     "metadata": {},
     "source": [
      "vemos que en realidad al estar realizando el promedio de dos n\u00fameros consecutivos , no existe un tercero entre los dos tal que pueda representar al promedio.\n",
      "De modo que escoge uno u otro, si x tiene como ultima cifra un n\u00famero par entonces escoge x.\n",
      "Si x tiene como \u00faltima cifra un n\u00famero impar, entonces escoge x+eps(x)"
     ]
    },
    {
     "cell_type": "code",
     "collapsed": false,
     "input": [
      "function resta(x)\n",
      "    y=bits(x)\n",
      "    yu=float(y)\n",
      "    su=yu+eps(yu)\n",
      "    sub= bits(su)\n",
      "    p=su-yu\n",
      "    pp=bits(p)\n",
      "    println(\"el flotante  $yu se representa por $y\")\n",
      "    println(\"el sucesor es $su y se representa por $sub\")\n",
      "    println(\"la resta es $p y se representa por $pp\")\n",
      "end"
     ],
     "language": "python",
     "metadata": {},
     "outputs": [
      {
       "metadata": {},
       "output_type": "pyout",
       "prompt_number": 529,
       "text": [
        "resta (generic function with 1 method)"
       ]
      }
     ],
     "prompt_number": 529
    },
    {
     "cell_type": "code",
     "collapsed": false,
     "input": [
      "resta(9.0)"
     ],
     "language": "python",
     "metadata": {},
     "outputs": [
      {
       "output_type": "stream",
       "stream": "stdout",
       "text": [
        "el flotante  9.0 se representa por 0100000000100010000000000000000000000000000000000000000000000000"
       ]
      },
      {
       "output_type": "stream",
       "stream": "stdout",
       "text": [
        "\n",
        "el sucesor es 9.000000000000002 y se representa por 0100000000100010000000000000000000000000000000000000000000000001\n",
        "la resta es 1.7763568394002505e-15 y se representa por 0011110011100000000000000000000000000000000000000000000000000000\n"
       ]
      }
     ],
     "prompt_number": 530
    },
    {
     "cell_type": "code",
     "collapsed": false,
     "input": [
      "bintodec(\"01111001110\")-1023"
     ],
     "language": "python",
     "metadata": {},
     "outputs": [
      {
       "metadata": {},
       "output_type": "pyout",
       "prompt_number": 813,
       "text": [
        "-49"
       ]
      }
     ],
     "prompt_number": 813
    },
    {
     "cell_type": "code",
     "collapsed": false,
     "input": [
      "2.0^(-49.0)"
     ],
     "language": "python",
     "metadata": {},
     "outputs": [
      {
       "metadata": {},
       "output_type": "pyout",
       "prompt_number": 815,
       "text": [
        "1.7763568394002505e-15"
       ]
      }
     ],
     "prompt_number": 815
    },
    {
     "cell_type": "code",
     "collapsed": false,
     "input": [
      "bits(eps(9.0))"
     ],
     "language": "python",
     "metadata": {},
     "outputs": [
      {
       "metadata": {},
       "output_type": "pyout",
       "prompt_number": 816,
       "text": [
        "\"0011110011100000000000000000000000000000000000000000000000000000\""
       ]
      }
     ],
     "prompt_number": 816
    },
    {
     "cell_type": "markdown",
     "metadata": {},
     "source": [
      "De aqu\u00ed observo que la representaci\u00f3n binaria de la resta de dos consecutivos, corresponde unicamente a la distancia que hay entre n\u00fameros con el  exponente=exp(multiplicado por la mantisa 1.0, bajo la regla del bit escondido) tal que $2^{exp}=(x+eps(x))-x= eps(x)$."
     ]
    },
    {
     "cell_type": "markdown",
     "metadata": {},
     "source": [
      "---\n",
      "\n",
      "**Ejercicio 7** Donde *todo esto*, y mucho m\u00e1s, puede ser importante...\n",
      "\n",
      "Escribe una funci\u00f3n que eval\u00fae\n",
      "\n",
      "\\begin{equation}\n",
      "f(x,y) = 333.75 y^6 + x^2 (11 x^2 y^2 - y^6 - 121 y^4 - 2) + 5.5 y^8 + \\frac{x}{2y}\n",
      "\\end{equation}\n",
      "\n",
      "Usando esta funci\u00f3n, *demuestra* que $f(x=77617, y=33096) = -0.8273960599468214$.\n",
      "\n",
      "**NOTA** Los n\u00fameros han sido verificados y *son correctos* :-)."
     ]
    },
    {
     "cell_type": "markdown",
     "metadata": {},
     "source": [
      "Primero veamos porque no se puede utilizar  la funci\u00f3n \"normalmente\"."
     ]
    },
    {
     "cell_type": "code",
     "collapsed": false,
     "input": [
      "function f(x,y)\n",
      "    333.75*y^6 + x^2*(11*x^2*y^2 - y^6 - 121*y^4 - 2) + 5.5*y^8 + x/(2y)\n",
      "end"
     ],
     "language": "python",
     "metadata": {},
     "outputs": [
      {
       "metadata": {},
       "output_type": "pyout",
       "prompt_number": 817,
       "text": [
        "f (generic function with 1 method)"
       ]
      }
     ],
     "prompt_number": 817
    },
    {
     "cell_type": "code",
     "collapsed": false,
     "input": [
      "f(77617.0, 33096.0)"
     ],
     "language": "python",
     "metadata": {},
     "outputs": [
      {
       "metadata": {},
       "output_type": "pyout",
       "prompt_number": 818,
       "text": [
        "-1.1805916207174113e21"
       ]
      }
     ],
     "prompt_number": 818
    },
    {
     "cell_type": "code",
     "collapsed": false,
     "input": [
      "77617.0+eps(77617.0)"
     ],
     "language": "python",
     "metadata": {},
     "outputs": [
      {
       "metadata": {},
       "output_type": "pyout",
       "prompt_number": 819,
       "text": [
        "77617.00000000001"
       ]
      }
     ],
     "prompt_number": 819
    },
    {
     "cell_type": "code",
     "collapsed": false,
     "input": [
      "33096.0+eps(33096.0)"
     ],
     "language": "python",
     "metadata": {},
     "outputs": [
      {
       "metadata": {},
       "output_type": "pyout",
       "prompt_number": 820,
       "text": [
        "33096.00000000001"
       ]
      }
     ],
     "prompt_number": 820
    },
    {
     "cell_type": "markdown",
     "metadata": {},
     "source": [
      "sabiendo que $x=77617.0 \\in (77617.0, 77617.00000000001)$ y que $y=33096.0 \\in (33096.0, 33096.00000000001)$. Si yo nombro a $x_1=77617.0$ y $x_2= 77617.00000000001$, $y_1=33096.0$ y $y_2=33096.00000000001$.\n",
      "\n",
      "$f(x,y) \\in   333.750[y_1,y_2]^6 + [x_1,x_2]^2 *(11 [x_1,x_2]^2 [y_1,y_2]^2 - [y_1, y_2]^6 - 121 [y_1, y_2]^4 - 2) + 5.5 [y_1, y_2]^8 + \\frac{[x_1,x_2]}{2[y_1,y_2]}$.\n",
      "Las reglas para operar con intervalos se encuentran en la siguiente liga http://ctt.sbras.ru/interval/Library/InteDiss/Leclerc.pdf."
     ]
    },
    {
     "cell_type": "code",
     "collapsed": false,
     "input": [
      "function sumint(x1,x2,y1,y2,ex) # da los limites del intervalo de la suma de dos intervalos, ex=\"i\" inferior,  ex=\"s\" superior \n",
      "    if ex==\"i\"\n",
      "        min(x1+y1, x2+y2)\n",
      "    else\n",
      "         max(x1+y1, x2+y2)\n",
      "    end\n",
      "end"
     ],
     "language": "python",
     "metadata": {},
     "outputs": [
      {
       "metadata": {},
       "output_type": "pyout",
       "prompt_number": 821,
       "text": [
        "sumint (generic function with 1 method)"
       ]
      }
     ],
     "prompt_number": 821
    },
    {
     "cell_type": "code",
     "collapsed": false,
     "input": [
      "sumint(2.3, 2.4, 8.2, 8.7, \"s\")"
     ],
     "language": "python",
     "metadata": {},
     "outputs": [
      {
       "metadata": {},
       "output_type": "pyout",
       "prompt_number": 822,
       "text": [
        "11.1"
       ]
      }
     ],
     "prompt_number": 822
    },
    {
     "cell_type": "code",
     "collapsed": false,
     "input": [
      "sumint(2.3, 2.4, 8.2, 8.7, \"i\")"
     ],
     "language": "python",
     "metadata": {},
     "outputs": [
      {
       "metadata": {},
       "output_type": "pyout",
       "prompt_number": 823,
       "text": [
        "10.5"
       ]
      }
     ],
     "prompt_number": 823
    },
    {
     "cell_type": "code",
     "collapsed": false,
     "input": [
      "function potint(x1,x2, a, ex)\n",
      "    if ex==\"i\"\n",
      "        min(x1^a, x2^a)\n",
      "    else\n",
      "        max(x1^a, x2^a)\n",
      "    end\n",
      "end"
     ],
     "language": "python",
     "metadata": {},
     "outputs": [
      {
       "metadata": {},
       "output_type": "pyout",
       "prompt_number": 824,
       "text": [
        "potint (generic function with 1 method)"
       ]
      }
     ],
     "prompt_number": 824
    },
    {
     "cell_type": "code",
     "collapsed": false,
     "input": [
      "potint(7.01, 8.003, 4.0, \"s\")"
     ],
     "language": "python",
     "metadata": {},
     "outputs": [
      {
       "metadata": {},
       "output_type": "pyout",
       "prompt_number": 825,
       "text": [
        "4102.147456864082"
       ]
      }
     ],
     "prompt_number": 825
    },
    {
     "cell_type": "code",
     "collapsed": false,
     "input": [
      "potint(7.01, 8.003, 4.0, \"i\")"
     ],
     "language": "python",
     "metadata": {},
     "outputs": [
      {
       "metadata": {},
       "output_type": "pyout",
       "prompt_number": 826,
       "text": [
        "2414.7494280099995"
       ]
      }
     ],
     "prompt_number": 826
    },
    {
     "cell_type": "code",
     "collapsed": false,
     "input": [
      "function multint(x1,x2,y1,y2 ,ex)\n",
      "    if ex==\"i\"\n",
      "        min(x1*y1, x1*y2, x2*y1, x2*y2)\n",
      "    else\n",
      "        max(x1*y1, x1*y2, x2*y1, x2*y2)\n",
      "    end\n",
      "end   "
     ],
     "language": "python",
     "metadata": {},
     "outputs": [
      {
       "metadata": {},
       "output_type": "pyout",
       "prompt_number": 827,
       "text": [
        "multint (generic function with 1 method)"
       ]
      }
     ],
     "prompt_number": 827
    },
    {
     "cell_type": "code",
     "collapsed": false,
     "input": [
      "multint(1.0, 2.0, 3.0, 4.0, \"i\")"
     ],
     "language": "python",
     "metadata": {},
     "outputs": [
      {
       "metadata": {},
       "output_type": "pyout",
       "prompt_number": 828,
       "text": [
        "3.0"
       ]
      }
     ],
     "prompt_number": 828
    },
    {
     "cell_type": "code",
     "collapsed": false,
     "input": [
      "multint(1.0, 2.0, 3.0, 4.0, \"s\")"
     ],
     "language": "python",
     "metadata": {},
     "outputs": [
      {
       "metadata": {},
       "output_type": "pyout",
       "prompt_number": 829,
       "text": [
        "8.0"
       ]
      }
     ],
     "prompt_number": 829
    },
    {
     "cell_type": "code",
     "collapsed": false,
     "input": [
      "function  f1(x1, x2, y1,y2)\n",
      "    #primero las potencias de y por aparte\n",
      "    #y^6\n",
      "    y61=potint(y1,y2, 6, \"i\")\n",
      "    y62=potint(y1,y2, 6, \"s\")\n",
      "    #println(\" y^6 $y61 $y62\")\n",
      "    \n",
      "    #y^2\n",
      "    y21=potint(y1,y2, 2, \"i\")\n",
      "    y22=potint(y1,y2, 2, \"s\")\n",
      "     #println(\" y^2 $y21 $y22\")\n",
      "    \n",
      "    #y^4\n",
      "    y41=potint(y1,y2, 4, \"i\")\n",
      "    y42=potint(y1,y2, 4, \"s\")\n",
      "     #println(\" y^4 $y41 $y42\")\n",
      "    \n",
      "    #y^8\n",
      "    y81=potint(y1,y2, 8, \"i\")\n",
      "    y82=potint(y1,y2, 8, \"s\")\n",
      "     #println(\" y^8 $y81 $y82\")\n",
      "    \n",
      "    #las potencias de x ahora\n",
      "    #x^2\n",
      "    x21=potint(x1,x2, 2, \"i\")\n",
      "    x22=potint(x1,x2, 2, \"s\")\n",
      "   # println(\" x^2 $x21 $x22\")\n",
      "    \n",
      "    #x^2y^2\n",
      "    \n",
      "    a1=multint(y21, y22, x21, x22, \"i\")\n",
      "    a2=multint(y21, y22, x21, x22, \"s\")\n",
      "    #println(\" a $a1 $a2\")\n",
      "    \n",
      "    #la division\n",
      "    w1 =min(multint(x1, x2, 1.0/(2*y1), 1.0/(2*y2), \"i\"),multint(x1, x2, 1/y1, 1/y2, \"s\"))\n",
      "    w2 =max(multint(x1, x2, 1.0/(2*y1), 1.0/(2*y2), \"i\"),multint(x1, x2, 1/y1, 1/y2, \"s\"))\n",
      "   # println(\" w $w1 $w2\")\n",
      "    \n",
      "    \n",
      "    #la suma del segundo t\u00e9rmino, se debe ir haciendo por partes\n",
      "    b1=min (sumint(11.0*a1, 11.0*a2, -1.0*y61, -1.0*y62, \"i\"), sumint(11.0*a1, 11.0*a2, -1.0*y61, -1.0*y62, \"s\"))\n",
      "    b2=max (sumint(11.0*a1, 11.0*a2, -1.0*y61, -1.0*y62, \"i\"), sumint(11.0*a1, 11.0*a2, -1.0*y61, -1.0*y62, \"s\"))\n",
      "    #println(\" b $b1 $b2\")\n",
      "    \n",
      "    c1=min (sumint(b1, b2, -121.0*y41, -121.0*y42, \"i\"), sumint(b1, b2, -121.0*y41, -121.0*y42, \"s\"))-2\n",
      "    c2=max (sumint(b1, b2, -121.0*y41, -121.0*y42, \"i\"), sumint(b1, b2, -121.0*y41, -121.0*y42, \"s\"))-2\n",
      "    #println(\" c $c1 $c2\")\n",
      " \n",
      "    #la multiplicacion del segundo termino\n",
      "    d1=multint(c1,c2, x21, x22, \"i\")\n",
      "    d2=multint(c1,c2, x21, x22, \"s\")\n",
      "    #println(\" d $d1 $d2\")\n",
      "    \n",
      "    #la suma de todo\n",
      "    u1=min(sumint(333.75*y61, 333.75*y62, d1, d2, \"i\"), sumint(333.75*y61, 333.75*y62, d1, d2, \"s\")) \n",
      "    u2=max(sumint(333.75*y61, 333.75*y62, d1, d2, \"i\"), sumint(333.75*y61, 333.75*y62, d1, d2, \"s\")) \n",
      "   \n",
      "    q1=min(sumint(u1, u2, 5.5*y81, 5.5*y81, \"i\") , sumint(u1, u2, 5.5*y81, 5.5*y81, \"s\") )\n",
      "    q2=max(sumint(u1, u2, 5.5*y81, 5.5*y81, \"i\") , sumint(u1, u2, 5.5*y81, 5.5*y81, \"s\") )\n",
      "    #println(\" q $q1 $q2\")\n",
      "    \n",
      "    t1=min(sumint(q1,q2, w1, w2, \"i\"),sumint(q1,q2, w1, w2, \"s\") )\n",
      "    t2=max(sumint(q1,q2, w1, w2, \"i\"),sumint(q1,q2, w1, w2, \"s\") )\n",
      "    print(\" la funci\u00f3n evaluada est\u00e1 entre ($t1,$t2)\")\n",
      "end"
     ],
     "language": "python",
     "metadata": {},
     "outputs": [
      {
       "metadata": {},
       "output_type": "pyout",
       "prompt_number": 830,
       "text": [
        "f1 (generic function with 1 method)"
       ]
      }
     ],
     "prompt_number": 830
    },
    {
     "cell_type": "code",
     "collapsed": false,
     "input": [
      "f1(77617.0,77617.00000000001,33096.0,33096.00000000001)"
     ],
     "language": "python",
     "metadata": {},
     "outputs": [
      {
       "output_type": "stream",
       "stream": "stdout",
       "text": [
        " la funci\u00f3n evaluada est\u00e1 entre (-1.2986507827891524e22,-1.1805916207174113e21)"
       ]
      }
     ],
     "prompt_number": 831
    },
    {
     "cell_type": "markdown",
     "metadata": {},
     "source": [
      "Desgraciadamente vuelve a darnos en uno de los extremos el resultado err\u00f3neo previamente obtenido. La solucion era mucho mas sencilla, unicamente aplicar la exponenciaci\u00f3n con big"
     ]
    },
    {
     "cell_type": "code",
     "collapsed": false,
     "input": [
      "function f2(x,y)\n",
      "    333.75*big(y)^6 + big(x)^2*(11*big(x)^2*big(y)^2 - big(y)^6 - 121*big(y)^4 - 2) + 5.5*big(y)^8 + x/(2y)\n",
      "end"
     ],
     "language": "python",
     "metadata": {},
     "outputs": [
      {
       "metadata": {},
       "output_type": "pyout",
       "prompt_number": 832,
       "text": [
        "f2 (generic function with 1 method)"
       ]
      }
     ],
     "prompt_number": 832
    },
    {
     "cell_type": "code",
     "collapsed": false,
     "input": [
      "f2(77617.0, 33096.0)"
     ],
     "language": "python",
     "metadata": {},
     "outputs": [
      {
       "metadata": {},
       "output_type": "pyout",
       "prompt_number": 833,
       "text": [
        "-8.273960599468213050755593940266408026218414306640625e-01 with 256 bits of precision"
       ]
      }
     ],
     "prompt_number": 833
    },
    {
     "cell_type": "markdown",
     "metadata": {},
     "source": [
      "---\n",
      "**Ejercicio 8**\n",
      "\n",
      "Pensando en que vas a generar datos para hacer una gr\u00e1fica (con suficientes puntos), genera dichos datos para los *polinomios* $f(x) = (1-x)^6$ y $g(x) = x^6 -6x^5 + 15x^4 -20 x^3 + 15x^2 - 6 x + 1$, en el dominio $0.995 \\leq x \\leq 1.005$. \u00bfHay algo sorprendente en esto?"
     ]
    },
    {
     "cell_type": "markdown",
     "metadata": {},
     "source": [
      "primero voy a definir el tama\u00f1o de paso. $2^{-13}$"
     ]
    },
    {
     "cell_type": "code",
     "collapsed": false,
     "input": [
      "2.0^(-15.0)"
     ],
     "language": "python",
     "metadata": {},
     "outputs": [
      {
       "metadata": {},
       "output_type": "pyout",
       "prompt_number": 1096,
       "text": [
        "3.0517578125e-5"
       ]
      }
     ],
     "prompt_number": 1096
    },
    {
     "cell_type": "markdown",
     "metadata": {},
     "source": [
      "De ese modo tendr\u00e9 un n\u00famero de puntos dado por:"
     ]
    },
    {
     "cell_type": "code",
     "collapsed": false,
     "input": [
      "(1.005-0.995)/3.0517578125e-5"
     ],
     "language": "python",
     "metadata": {},
     "outputs": [
      {
       "metadata": {},
       "output_type": "pyout",
       "prompt_number": 1100,
       "text": [
        "327.67999999999665"
       ]
      }
     ],
     "prompt_number": 1100
    },
    {
     "cell_type": "code",
     "collapsed": false,
     "input": [
      "using PyPlot\n",
      "a =[0.995: 3.0517578125e-5: 1.005]\n",
      "plot(a, a.^6 - 6.0*a.^5 + 15.0*a.^4 -20.0*a.^3 + 15.0*a.^2 - 6*a +1, \".g\" )\n",
      "hold(2==2)\n",
      "plot(a,(1.0-a).^6.0, \"*r\")"
     ],
     "language": "python",
     "metadata": {},
     "outputs": [
      {
       "metadata": {},
       "output_type": "display_data",
       "png": "[encoded data removed]",
       "text": [
        "Figure(PyObject <matplotlib.figure.Figure object at 0x0000000032391F28>)"
       ]
      },
      {
       "metadata": {},
       "output_type": "pyout",
       "prompt_number": 1105,
       "text": [
        "1-element Array{Any,1}:\n",
        " PyObject <matplotlib.lines.Line2D object at 0x000000003252C080>"
       ]
      }
     ],
     "prompt_number": 1105
    },
    {
     "cell_type": "markdown",
     "metadata": {},
     "source": [
      "Es sorprendente? si, que a pesar de ser la misma funci\u00f3n el hecho de estar realizando muchas operaci\u00f3nes provoca que los errores de redondeo sean mayores.\n",
      "\n",
      "En si, el problema es que en estas regiones se estan obteniendo n\u00fameros muy peque\u00f1os, entonces al realizar sumas y restas de estos se pierde informaci\u00f3n de las cifras significativas, provocando que al realizar el redondeo no se sujete a la funci\u00f3n exactamente (en el caso de g(x))."
     ]
    },
    {
     "cell_type": "markdown",
     "metadata": {},
     "source": [
      "\n",
      "Ejercicio 9\n",
      "Explica por qu\u00e9 es mala idea usar como paso de integraci\u00f3n 0.1 o 0.01, u otros valores de este estilo. \u00bfQu\u00e9 pasa con el tiempo que vas calculando en cada paso de la integraci\u00f3n?"
     ]
    },
    {
     "cell_type": "markdown",
     "metadata": {},
     "source": [
      "Al no ser una potencia negativa de dos, estos tienen una representaci\u00f3n en binario mucho mas complicada que las potencias negativas de 2.\n",
      "\n",
      "Por otro lado, no son n\u00fameros que se representen exactamente en IEEE, por lo que los problemas por redondeo ser\u00e1n mayores."
     ]
    }
   ],
   "metadata": {}
  }
 ]
}