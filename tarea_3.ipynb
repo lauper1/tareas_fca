{
 "metadata": {
  "language": "Julia",
  "name": "",
  "signature": "sha256:30ab0b75b2081f68c980c56ea11ceb2e41dbd4236cf8c3bfa23292665d38ef5b"
 },
 "nbformat": 3,
 "nbformat_minor": 0,
 "worksheets": [
  {
   "cells": [
    {
     "cell_type": "heading",
     "level": 1,
     "metadata": {},
     "source": [
      "Redondeo"
     ]
    },
    {
     "cell_type": "markdown",
     "metadata": {},
     "source": [
      "$\\newcommand{\\RR}{\\mathbb{R}}$\n",
      "$\\newcommand{\\FF}{\\mathbb{F}}$\n",
      "\n",
      "Tenemos una representaci\u00f3n del conjunto no-numerable $\\RR$ a trav\u00e9s del conjunto finito $\\FF$. \u00bfC\u00f3mo podemos pasar de un n\u00famero real a un n\u00famero flotante, si el n\u00famero real no es exactamente representable (lo cual es el caso para \u00a1*casi todos* los n\u00fameros reales!)? Extenderemos para este fin los n\u00fameros reales y los flotantes con $\\pm \\infty$, y hablaremos de los reales extendidos $\\RR^* := \\RR \\cup \\{-\\infty, +\\infty \\}$  y $\\FF^* := \\FF \\cup \\{-\\infty, +\\infty \\}$.\n",
      "\n",
      "Un mapeo $\\bigcirc: \\RR^* \\to \\FF^*$ es una *operaci\u00f3n de redondeo* si \n",
      "\n",
      "- Para toda $x \\in \\FF^*$, $\\bigcirc(x) = x$.\n",
      "- Si $x, y \\in \\RR^*$, y $x \\le y$, entonces $\\bigcirc(x) \\le \\bigcirc(y)$.\n",
      "\n",
      "Es decir, el redondeo deja invariantes los n\u00fameros representables en el sistema de punto flotante, y preserva el orden."
     ]
    },
    {
     "cell_type": "markdown",
     "metadata": {},
     "source": [
      "Utilizaremos dos modos de redondeo: $\\bigtriangleup$, que redondea para arriba (hacia $+\\infty$), y $\\bigtriangledown$, que redondea para abajo (hacia $-\\infty$). Se definen como sigue:\n",
      "\n",
      "- $\\bigtriangleup \\! (x) := \\min \\{y \\in \\FF^*: y \\ge x \\}$\n",
      "- $\\bigtriangledown(x) := \\max \\{y \\in \\FF^*: y \\le x \\}$\n",
      "\n",
      "Hablamos de $x$ redondeado para arriba y $x$ redondeado para abajo, respectivamente; estos dos modos de redondeo se llaman modos de redondeo *dirigidos*.\n",
      "\n",
      "Nota que no es evidente c\u00f3mo implementar estas operaciones en la computadora, ya que \u00a1*no podemos representar los n\u00fameros reales originales*!"
     ]
    },
    {
     "cell_type": "markdown",
     "metadata": {},
     "source": [
      "[1] Encuentra $\\bigtriangleup(0.1)$ y $\\bigtriangledown(0.1)$ para aritm\u00e9tica flotante de IEEE. \u00bfEn cu\u00e1nto difieren? \u00bfQu\u00e9 podemos decir sobre el *error de redondeo*?\n",
      "\n",
      "[2] \u00bfQu\u00e9 pasa con $\\bigtriangleup(x)$ y $\\bigtriangledown(x)$ si $x \\in \\FF^*$?\n",
      "\n",
      "[3] \u00bfCu\u00e1l es la relaci\u00f3n entre $\\bigtriangleup(-x)$ y $\\bigtriangledown(x)$?\n"
     ]
    },
    {
     "cell_type": "code",
     "collapsed": false,
     "input": [
      "function floath(x)  #esta versi\u00f3n de float es mas precisa, ya que implementa la mantisa con big\n",
      "    sig= parseint(x[1])\n",
      "    #println(sig)\n",
      "    exp=x[2:12]\n",
      "    mant=x[13:end]\n",
      "    #println(exp)\n",
      "    #println(mant)\n",
      "    if exp ==\"00000000000\"\n",
      "        ex=0-1022\n",
      "        hiddenbit=\"0.\"\n",
      "    else\n",
      "        ex=bintodec(exp)-1023\n",
      "        hiddenbit=\"1.\"\n",
      "    end\n",
      "    (-1)^sig*big(binpntodec(hiddenbit*mant))*2.0^ex\n",
      "end"
     ],
     "language": "python",
     "metadata": {},
     "outputs": [
      {
       "metadata": {},
       "output_type": "pyout",
       "prompt_number": 23,
       "text": [
        "floath (generic function with 1 method)"
       ]
      }
     ],
     "prompt_number": 23
    },
    {
     "cell_type": "code",
     "collapsed": false,
     "input": [
      "bits(1/10)"
     ],
     "language": "python",
     "metadata": {},
     "outputs": [
      {
       "metadata": {},
       "output_type": "pyout",
       "prompt_number": 24,
       "text": [
        "\"0011111110111001100110011001100110011001100110011001100110011010\""
       ]
      }
     ],
     "prompt_number": 24
    },
    {
     "cell_type": "markdown",
     "metadata": {},
     "source": [
      "Yo se que la representacion en bits de 0.1 con un n\u00famero infinito de bits es peri\u00f3dica e infinita, de modo que no hay manera de tener una expresi\u00f3n exacta de 0.1 con un n\u00famero finito (64, 128, etc) de bits. "
     ]
    },
    {
     "cell_type": "code",
     "collapsed": false,
     "input": [
      "dis(0.1)"
     ],
     "language": "python",
     "metadata": {},
     "outputs": [
      {
       "output_type": "stream",
       "stream": "stdout",
       "text": [
        "0"
       ]
      },
      {
       "output_type": "stream",
       "stream": "stdout",
       "text": [
        "\n",
        "01111111011\n",
        "mantisa 1001100110011001100110011001100110011001100110011010"
       ]
      }
     ],
     "prompt_number": 25
    },
    {
     "cell_type": "markdown",
     "metadata": {},
     "source": [
      "        La mantisa de 0.1 deber\u00eda ser 10011001100110011001100110011001100110011001100110011001100110011..... en lugar de \n",
      "                                      1001100110011001100110011001100110011001100110011010\n"
     ]
    },
    {
     "cell_type": "markdown",
     "metadata": {},
     "source": [
      "       De esto observo que los ultimos 5 d\u00edgtos de la mantisa del flotante con el que se representa a 0.1 son   11010 \n",
      "                      La forma exacta de la mantisa deber\u00eda tener un n\u00famero infinito de d\u00edgitos y continuar con 11001  10011 0011 0011 0011..... \n",
      "       De modo que el redondeo  para 0.1 es hacia arriba. Finalmente checar\u00e9 que as\u00ed sea, trabajando con la funci\u00f3n floath cuyos bits de precisi\u00f3n son mayores que los 64 con los que se construyen los Float64, por lo que puedo utilizarlo como un control."
     ]
    },
    {
     "cell_type": "code",
     "collapsed": false,
     "input": [
      "z=floath(bits(0.1))"
     ],
     "language": "python",
     "metadata": {},
     "outputs": [
      {
       "metadata": {},
       "output_type": "pyout",
       "prompt_number": 26,
       "text": [
        "1.000000000000000055511151231257827021181583404541015625e-01 with 256 bits of precision"
       ]
      }
     ],
     "prompt_number": 26
    },
    {
     "cell_type": "markdown",
     "metadata": {},
     "source": [
      "En efecto, el flotante que representa a 0.1 con 64 bits es mayor que 0.1. Ahora vere cual flotante previo a 0.1. Hay dos maneras. una es tomando la cadena binara de la mantisa y restarle uno a la \u00faltima cifra significativa y transformar con floath. Es decir en lugar de evaluar el flotante \"0011111110111001100110011001100110011001100110011001100110011010\" utilizar \"0011111110111001100110011001100110011001100110011001100110011001\"\n"
     ]
    },
    {
     "cell_type": "code",
     "collapsed": false,
     "input": [
      "u=floath(\"0011111110111001100110011001100110011001100110011001100110011001\")"
     ],
     "language": "python",
     "metadata": {},
     "outputs": [
      {
       "metadata": {},
       "output_type": "pyout",
       "prompt_number": 27,
       "text": [
        "9.999999999999999167332731531132594682276248931884765625e-02 with 256 bits of precision"
       ]
      }
     ],
     "prompt_number": 27
    },
    {
     "cell_type": "markdown",
     "metadata": {},
     "source": [
      "que como vemos es menor que 0.1. Otra forma es con la funci\u00f3n prevfloat(x)."
     ]
    },
    {
     "cell_type": "code",
     "collapsed": false,
     "input": [
      "prevfloat(0.1)"
     ],
     "language": "python",
     "metadata": {},
     "outputs": [
      {
       "metadata": {},
       "output_type": "pyout",
       "prompt_number": 28,
       "text": [
        "0.09999999999999999"
       ]
      }
     ],
     "prompt_number": 28
    },
    {
     "cell_type": "code",
     "collapsed": false,
     "input": [
      "bits(ans)"
     ],
     "language": "python",
     "metadata": {},
     "outputs": [
      {
       "metadata": {},
       "output_type": "pyout",
       "prompt_number": 29,
       "text": [
        "\"0011111110111001100110011001100110011001100110011001100110011001\""
       ]
      }
     ],
     "prompt_number": 29
    },
    {
     "cell_type": "code",
     "collapsed": false,
     "input": [
      "floath(ans)"
     ],
     "language": "python",
     "metadata": {},
     "outputs": [
      {
       "metadata": {},
       "output_type": "pyout",
       "prompt_number": 30,
       "text": [
        "9.999999999999999167332731531132594682276248931884765625e-02 with 256 bits of precision"
       ]
      }
     ],
     "prompt_number": 30
    },
    {
     "cell_type": "code",
     "collapsed": false,
     "input": [
      "x=floath(\"0011111110111001100110011001100110011001100110011001100110011001\")"
     ],
     "language": "python",
     "metadata": {},
     "outputs": [
      {
       "metadata": {},
       "output_type": "pyout",
       "prompt_number": 31,
       "text": [
        "9.999999999999999167332731531132594682276248931884765625e-02 with 256 bits of precision"
       ]
      }
     ],
     "prompt_number": 31
    },
    {
     "cell_type": "code",
     "collapsed": false,
     "input": [
      "u==x"
     ],
     "language": "python",
     "metadata": {},
     "outputs": [
      {
       "metadata": {},
       "output_type": "pyout",
       "prompt_number": 32,
       "text": [
        "true"
       ]
      }
     ],
     "prompt_number": 32
    },
    {
     "cell_type": "markdown",
     "metadata": {},
     "source": [
      "ahora para evaluar la diferencia entre uno y otro:"
     ]
    },
    {
     "cell_type": "code",
     "collapsed": false,
     "input": [
      "z-u"
     ],
     "language": "python",
     "metadata": {},
     "outputs": [
      {
       "metadata": {},
       "output_type": "pyout",
       "prompt_number": 33,
       "text": [
        "1.387778780781445675529539585113525390625e-17 with 256 bits of precision"
       ]
      }
     ],
     "prompt_number": 33
    },
    {
     "cell_type": "markdown",
     "metadata": {},
     "source": [
      "el error de redondeo es menor a $10^{-16}$, dado que son 17 las cifras significativas que son correctas en representaci\u00f3n decimal."
     ]
    },
    {
     "cell_type": "markdown",
     "metadata": {},
     "source": [
      "2 . Si $x \\in F$ entonces $\\bigtriangleup(x)$ y $\\bigtriangledown(x)$. Son iguales y no es necesario realizar redondeo. Es decir $x=\\bigtriangleup(x) =\\bigtriangledown(x)$."
     ]
    },
    {
     "cell_type": "markdown",
     "metadata": {},
     "source": [
      "3 . Ahora vemos que pasa con $\\bigtriangleup(x)$ y $\\bigtriangledown(-x)$. En particular para 0.1 $\\bigtriangleup(0.1)=1.000000000000000055511151231257827021181583404541015625e-01$."
     ]
    },
    {
     "cell_type": "code",
     "collapsed": false,
     "input": [
      "floath(bits(-0.1))"
     ],
     "language": "python",
     "metadata": {},
     "outputs": [
      {
       "metadata": {},
       "output_type": "pyout",
       "prompt_number": 34,
       "text": [
        "-1.000000000000000055511151231257827021181583404541015625e-01 with 256 bits of precision"
       ]
      }
     ],
     "prompt_number": 34
    },
    {
     "cell_type": "markdown",
     "metadata": {},
     "source": [
      "Por lo que podemos decir que  $\\bigtriangleup(x)= -\\bigtriangledown(-x)$."
     ]
    },
    {
     "cell_type": "heading",
     "level": 2,
     "metadata": {},
     "source": [
      "Aritm\u00e9tica de punto flotante"
     ]
    },
    {
     "cell_type": "markdown",
     "metadata": {},
     "source": [
      "\u00bfC\u00f3mo podemos hacer aritm\u00e9tica en el mundo de punto flotante?\n",
      "\n",
      "[5] Encuentra unos ejemplos de pares de  n\u00fameros $x , y \\in \\FF$ tal que $x \\oplus y \\notin \\FF$. (Aqu\u00ed, $\\FF$ denota a los flotantes de doble precisi\u00f3n de IEEE, y $\\oplus$ es alguna operaci\u00f3n aritm\u00e9tica entre $x$ y $y$.)."
     ]
    },
    {
     "cell_type": "markdown",
     "metadata": {},
     "source": [
      "Un ejemplo inmediato es  la divisi\u00f3n entre 10 de 1.\n",
      "\n",
      "$x=1,  y=10 \\in \\FF $ pero si $\\oplus=/$, entonces  $1/10 \\notin \\FF$"
     ]
    },
    {
     "cell_type": "code",
     "collapsed": false,
     "input": [
      "bits(10.0)"
     ],
     "language": "python",
     "metadata": {},
     "outputs": [
      {
       "metadata": {},
       "output_type": "pyout",
       "prompt_number": 35,
       "text": [
        "\"0100000000100100000000000000000000000000000000000000000000000000\""
       ]
      }
     ],
     "prompt_number": 35
    },
    {
     "cell_type": "code",
     "collapsed": false,
     "input": [
      "bits(1.0)"
     ],
     "language": "python",
     "metadata": {},
     "outputs": [
      {
       "metadata": {},
       "output_type": "pyout",
       "prompt_number": 36,
       "text": [
        "\"0011111111110000000000000000000000000000000000000000000000000000\""
       ]
      }
     ],
     "prompt_number": 36
    },
    {
     "cell_type": "code",
     "collapsed": false,
     "input": [
      "floath(bits(10.0))"
     ],
     "language": "python",
     "metadata": {},
     "outputs": [
      {
       "metadata": {},
       "output_type": "pyout",
       "prompt_number": 37,
       "text": [
        "1e+01 with 256 bits of precision"
       ]
      }
     ],
     "prompt_number": 37
    },
    {
     "cell_type": "code",
     "collapsed": false,
     "input": [
      "floath(bits(1.0))"
     ],
     "language": "python",
     "metadata": {},
     "outputs": [
      {
       "metadata": {},
       "output_type": "pyout",
       "prompt_number": 38,
       "text": [
        "1e+00 with 256 bits of precision"
       ]
      }
     ],
     "prompt_number": 38
    },
    {
     "cell_type": "code",
     "collapsed": false,
     "input": [
      "floath(bits(1/10))"
     ],
     "language": "python",
     "metadata": {},
     "outputs": [
      {
       "metadata": {},
       "output_type": "pyout",
       "prompt_number": 39,
       "text": [
        "1.000000000000000055511151231257827021181583404541015625e-01 with 256 bits of precision"
       ]
      }
     ],
     "prompt_number": 39
    },
    {
     "cell_type": "markdown",
     "metadata": {},
     "source": [
      "en realidad hay muchos ejemplos as\u00ed con divisi\u00f3n."
     ]
    },
    {
     "cell_type": "code",
     "collapsed": false,
     "input": [
      "c=(2.0)^32.0 #tiene representaci\u00f3n en los flotantes exacta"
     ],
     "language": "python",
     "metadata": {},
     "outputs": [
      {
       "metadata": {},
       "output_type": "pyout",
       "prompt_number": 40,
       "text": [
        "4.294967296e9"
       ]
      }
     ],
     "prompt_number": 40
    },
    {
     "cell_type": "code",
     "collapsed": false,
     "input": [
      "d=nextfloat(c) #calculo el siguiente"
     ],
     "language": "python",
     "metadata": {},
     "outputs": [
      {
       "metadata": {},
       "output_type": "pyout",
       "prompt_number": 41,
       "text": [
        "4.294967296000001e9"
       ]
      }
     ],
     "prompt_number": 41
    },
    {
     "cell_type": "markdown",
     "metadata": {},
     "source": [
      "y ahora defino un n\u00famero mas chico que la diferencia"
     ]
    },
    {
     "cell_type": "code",
     "collapsed": false,
     "input": [
      "a=d-c"
     ],
     "language": "python",
     "metadata": {},
     "outputs": [
      {
       "metadata": {},
       "output_type": "pyout",
       "prompt_number": 42,
       "text": [
        "9.5367431640625e-7"
       ]
      }
     ],
     "prompt_number": 42
    },
    {
     "cell_type": "code",
     "collapsed": false,
     "input": [
      "dis(a)"
     ],
     "language": "python",
     "metadata": {},
     "outputs": [
      {
       "output_type": "stream",
       "stream": "stdout",
       "text": [
        "0"
       ]
      },
      {
       "output_type": "stream",
       "stream": "stdout",
       "text": [
        "\n",
        "01111101011\n",
        "mantisa 0000000000000000000000000000000000000000000000000000"
       ]
      }
     ],
     "prompt_number": 43
    },
    {
     "cell_type": "code",
     "collapsed": false,
     "input": [
      "exp=bintodec(\"01111101011\")-1023"
     ],
     "language": "python",
     "metadata": {},
     "outputs": [
      {
       "metadata": {},
       "output_type": "pyout",
       "prompt_number": 44,
       "text": [
        "-20"
       ]
      }
     ],
     "prompt_number": 44
    },
    {
     "cell_type": "markdown",
     "metadata": {},
     "source": [
      "entonces tomo una potencia mas chica de 2 y se la sumo a c."
     ]
    },
    {
     "cell_type": "code",
     "collapsed": false,
     "input": [
      "g=2.0^(-22)"
     ],
     "language": "python",
     "metadata": {},
     "outputs": [
      {
       "metadata": {},
       "output_type": "pyout",
       "prompt_number": 45,
       "text": [
        "2.384185791015625e-7"
       ]
      }
     ],
     "prompt_number": 45
    },
    {
     "cell_type": "code",
     "collapsed": false,
     "input": [
      "m=g+c #calculo la suma en float64, con aporximaciones quiza"
     ],
     "language": "python",
     "metadata": {},
     "outputs": [
      {
       "metadata": {},
       "output_type": "pyout",
       "prompt_number": 46,
       "text": [
        "4.294967296e9"
       ]
      }
     ],
     "prompt_number": 46
    },
    {
     "cell_type": "code",
     "collapsed": false,
     "input": [
      "t=floath(bits(g))+ floath(bits(c)) #calculo la SUMA CON una presici\u00f3n mayor que  la que tengo en float64"
     ],
     "language": "python",
     "metadata": {},
     "outputs": [
      {
       "metadata": {},
       "output_type": "pyout",
       "prompt_number": 47,
       "text": [
        "4.2949672960000002384185791015625e+09 with 256 bits of precision"
       ]
      }
     ],
     "prompt_number": 47
    },
    {
     "cell_type": "code",
     "collapsed": false,
     "input": [
      "m==t #vemos que no es el mismo."
     ],
     "language": "python",
     "metadata": {},
     "outputs": [
      {
       "metadata": {},
       "output_type": "pyout",
       "prompt_number": 48,
       "text": [
        "false"
       ]
      }
     ],
     "prompt_number": 48
    },
    {
     "cell_type": "markdown",
     "metadata": {},
     "source": [
      "Era de esperarse desde la forma en que constru\u00ed c, ya que es un n\u00famero menor a la diferencia de g al flotante siguiente, de modo que al sumar g+c, no cae exactamente en ning\u00fan flotante, sino en medio."
     ]
    },
    {
     "cell_type": "markdown",
     "metadata": {},
     "source": [
      "[5] \u00bfQu\u00e9 podemos hacer al respecto?"
     ]
    },
    {
     "cell_type": "markdown",
     "metadata": {},
     "source": [
      "Aumentar la precisi\u00f3n."
     ]
    },
    {
     "cell_type": "code",
     "collapsed": false,
     "input": [
      "mp=big(g)+big(c)"
     ],
     "language": "python",
     "metadata": {},
     "outputs": [
      {
       "metadata": {},
       "output_type": "pyout",
       "prompt_number": 49,
       "text": [
        "4.2949672960000002384185791015625e+09 with 256 bits of precision"
       ]
      }
     ],
     "prompt_number": 49
    },
    {
     "cell_type": "code",
     "collapsed": false,
     "input": [
      "mp==t   #ahora si son el mismo!"
     ],
     "language": "python",
     "metadata": {},
     "outputs": [
      {
       "metadata": {},
       "output_type": "pyout",
       "prompt_number": 50,
       "text": [
        "true"
       ]
      }
     ],
     "prompt_number": 50
    },
    {
     "cell_type": "markdown",
     "metadata": {},
     "source": [
      "Claro, es un poco tramposo porque ambos n\u00fameros fueron construidos con la misma precisi\u00f3n. Lo que estoy permitiendo en esta parte es que el n\u00famero en cuesti\u00f3n se guarde en un binario con la suficiente presici\u00f3n, tal que las mantisas de exponentes muy distantes se guarden en el mismo n\u00famero."
     ]
    },
    {
     "cell_type": "markdown",
     "metadata": {},
     "source": [
      "[6] Analiza el caso de iterar el mapeo $f:[0,1] \\to [0,1]$ dado por $f(x) = 3x \\mathrm{\\ mod\\ } 1$, con la condici\u00f3n inicial $x_0 = \\frac{1}{10}$:\n",
      "\n",
      "1. \u00bfQu\u00e9 pasa anal\u00edticamente?\n",
      "2. \u00bfQu\u00e9 pasa num\u00e9ricamente?\n",
      "\n",
      "[Nota: $\\mathrm{mod\\ } 1$ quiere decir que s\u00f3lo consideramos la parte fraccionaria entre $0$ y $1$ de la respuesta en cada paso.]"
     ]
    },
    {
     "cell_type": "markdown",
     "metadata": {},
     "source": [
      "    primero toma el n\u00famero 1/10 lo manda a 3/10 y haciendo m\u00fadulo 1 da 3/10\n",
      "                       \"\"  3/10  \"\"        9/10  \"\"                    9/10\n",
      "                       \"\"  9/10  \"\"        27/10 \"\"                    7/10\n",
      "                       \"\"  7/10  \"\"        21/10 \"\"                    1/10\n",
      "                       y se repite !"
     ]
    },
    {
     "cell_type": "code",
     "collapsed": false,
     "input": [
      "mod(3.0*1/10.0,1)"
     ],
     "language": "python",
     "metadata": {},
     "outputs": [
      {
       "metadata": {},
       "output_type": "pyout",
       "prompt_number": 51,
       "text": [
        "0.30000000000000004"
       ]
      }
     ],
     "prompt_number": 51
    },
    {
     "cell_type": "code",
     "collapsed": false,
     "input": [
      "mod(3.0*ans,1)"
     ],
     "language": "python",
     "metadata": {},
     "outputs": [
      {
       "metadata": {},
       "output_type": "pyout",
       "prompt_number": 52,
       "text": [
        "0.9000000000000001"
       ]
      }
     ],
     "prompt_number": 52
    },
    {
     "cell_type": "code",
     "collapsed": false,
     "input": [
      "mod(3.0*ans,1)"
     ],
     "language": "python",
     "metadata": {},
     "outputs": [
      {
       "metadata": {},
       "output_type": "pyout",
       "prompt_number": 53,
       "text": [
        "0.7000000000000002"
       ]
      }
     ],
     "prompt_number": 53
    },
    {
     "cell_type": "code",
     "collapsed": false,
     "input": [
      "mod(3.0*ans,1)"
     ],
     "language": "python",
     "metadata": {},
     "outputs": [
      {
       "metadata": {},
       "output_type": "pyout",
       "prompt_number": 54,
       "text": [
        "0.10000000000000053"
       ]
      }
     ],
     "prompt_number": 54
    },
    {
     "cell_type": "code",
     "collapsed": false,
     "input": [
      "mod(3.0*ans,1) #aja! ya no se repite y va guardando un peque\u00f1o error"
     ],
     "language": "python",
     "metadata": {},
     "outputs": [
      {
       "metadata": {},
       "output_type": "pyout",
       "prompt_number": 55,
       "text": [
        "0.3000000000000016"
       ]
      }
     ],
     "prompt_number": 55
    },
    {
     "cell_type": "markdown",
     "metadata": {},
     "source": [
      "para cuantificar que tan grande es ese error, definamos un ciclo que cada cuatro iteraciones imprima x (cuando nos deb\u00eda regresar 0.1)"
     ]
    },
    {
     "cell_type": "code",
     "collapsed": false,
     "input": [
      "x=1/10\n",
      "endi=60\n",
      "for i in 1:endi\n",
      "    x=mod(3.0*x,1)\n",
      "    for n=1:int(endi/4)\n",
      "        if i==4n\n",
      "        println( \"$i, $x\") \n",
      "        end\n",
      "    end\n",
      "end"
     ],
     "language": "python",
     "metadata": {},
     "outputs": [
      {
       "output_type": "stream",
       "stream": "stdout",
       "text": [
        "4, 0.10000000000000053"
       ]
      },
      {
       "output_type": "stream",
       "stream": "stdout",
       "text": [
        "\n",
        "8, 0.10000000000004317\n",
        "12, 0.1000000000034964\n",
        "16, 0.10000000028320866\n",
        "20, 0.10000002293990118\n",
        "24, 0.10000185813199547\n",
        "28, 0.100150508691633\n",
        "32, 0.112191204022273\n",
        "36, 0.08748752580411345\n",
        "40, 0.08648959013318969\n",
        "44, 0.005656800788364613\n",
        "48, 0.45820086385753367\n",
        "52, 0.11426997246022719\n",
        "56, 0.25586776927840216\n",
        "60, 0.7252893115505747\n"
       ]
      }
     ],
     "prompt_number": 56
    },
    {
     "cell_type": "markdown",
     "metadata": {},
     "source": [
      "Hay que cuantificar este error en terminos de la diferencia de 0.1 con su representaci\u00f3n en Float64.\n",
      "Sabemos que 0.1 en realidad lo est\u00e1 representando con 1.000000000000000055511151231257827021181583404541015625e-01, de modo que hay una diferencia de redonde hacia arriba de  $\\delta=0.000000000000000055511151231257827021181583404541015625e-01$.\n",
      "\n",
      "Ahora bien al realizar la iteraci\u00f3n con $x_{0}= 0.1$ en su representaci\u00f3n en flotante en realidad estamos trabajando con $0.1+\\delta$, veamos que est\u00e1 pasando en las primeras iteraciones:\n",
      "\n",
      "\n",
      " $3\\times (0.1+\\delta)mod 1 = (0.3 +3\\delta)  mod 1$  en este punto $3\\delta$ es aun muy peque\u00f1o,  por lo que da  $ (0.3 +3\\delta) $\n",
      " \n",
      " \n",
      "  $3\\times (0.3+3 \\delta)mod 1 = (0.9 +3^2\\delta)  mod 1$  en este punto $3^2\\delta$ es aun muy peque\u00f1o,  por lo que da  $ (0.9 +3^2\\delta) $\n",
      " \n",
      " \n",
      "   al menos hasta la cuarta iteraci\u00f3n \n",
      "   $3\\times (0.3+3^3 \\delta)mod 1 = (0.9 +3^4\\delta)  mod 1$  en este punto $3^4\\delta$ es aun muy peque\u00f1o,  por lo que da  $ (0.9 +3^4\\delta) $\n",
      " \n",
      " \n",
      " veamos cuanto es eso:"
     ]
    },
    {
     "cell_type": "code",
     "collapsed": false,
     "input": [
      "0.000000000000000055511151231257827021181583404541015625e-01*3.0^36.0"
     ],
     "language": "python",
     "metadata": {},
     "outputs": [
      {
       "metadata": {},
       "output_type": "pyout",
       "prompt_number": 57,
       "text": [
        "0.8331925998972208"
       ]
      }
     ],
     "prompt_number": 57
    },
    {
     "cell_type": "markdown",
     "metadata": {},
     "source": [
      "y se lo sumo a 0.1 para ver si concide con el exceso encontrado en 0.1 en la iteraci\u00f3n."
     ]
    },
    {
     "cell_type": "code",
     "collapsed": false,
     "input": [
      "0.1+ans"
     ],
     "language": "python",
     "metadata": {},
     "outputs": [
      {
       "metadata": {},
       "output_type": "pyout",
       "prompt_number": 58,
       "text": [
        "0.9331925998972208"
       ]
      }
     ],
     "prompt_number": 58
    },
    {
     "cell_type": "code",
     "collapsed": false,
     "input": [
      "0.10000000000000053"
     ],
     "language": "python",
     "metadata": {},
     "outputs": [
      {
       "metadata": {},
       "output_type": "pyout",
       "prompt_number": 59,
       "text": [
        "0.10000000000000053"
       ]
      }
     ],
     "prompt_number": 59
    },
    {
     "cell_type": "markdown",
     "metadata": {},
     "source": [
      "3. \u00bfQu\u00e9 pasa si consideras una condici\u00f3n inicial $x_0$ arbitraria?"
     ]
    },
    {
     "cell_type": "markdown",
     "metadata": {},
     "source": [
      "En realidad como $x_{0}$ es arbitrario es poco lo que puedo decir de su proceso de iteraci\u00f3n num\u00e9rica comparado con la iteraci\u00f3n anal\u00edtica.\n",
      "Sin embargo se puede notar una diferencia clara y es que si tomamos un $x_{0}$ que si tenga representaci\u00f3n exacta en $\\FF$ y se tenga que repetir, lo har\u00e1 tambi\u00e9n num\u00e9ricamente."
     ]
    },
    {
     "cell_type": "code",
     "collapsed": false,
     "input": [
      "function it(x)\n",
      "endi=60\n",
      "for i in 1:endi\n",
      "    x=mod(3.0*x,1)\n",
      "    println( \"$i, $x\") \n",
      "end\n",
      "end"
     ],
     "language": "python",
     "metadata": {},
     "outputs": [
      {
       "metadata": {},
       "output_type": "pyout",
       "prompt_number": 60,
       "text": [
        "it (generic function with 1 method)"
       ]
      }
     ],
     "prompt_number": 60
    },
    {
     "cell_type": "code",
     "collapsed": false,
     "input": [
      "it(1/2)"
     ],
     "language": "python",
     "metadata": {},
     "outputs": [
      {
       "output_type": "stream",
       "stream": "stdout",
       "text": [
        "1, 0.5"
       ]
      },
      {
       "output_type": "stream",
       "stream": "stdout",
       "text": [
        "\n",
        "2, 0.5\n",
        "3, 0.5\n",
        "4, 0.5\n",
        "5, 0.5\n",
        "6, 0.5\n",
        "7, 0.5\n",
        "8, 0.5\n",
        "9, 0.5\n",
        "10, 0.5\n",
        "11, 0.5\n",
        "12, 0.5\n",
        "13, 0.5\n",
        "14, 0.5\n",
        "15, 0.5\n",
        "16, 0.5\n",
        "17, 0.5\n",
        "18, 0.5\n",
        "19, 0.5\n",
        "20, 0.5\n",
        "21, 0.5\n",
        "22, 0.5\n",
        "23, 0.5\n",
        "24, 0.5\n",
        "25, 0.5\n",
        "26, 0.5\n",
        "27, 0.5\n",
        "28, 0.5\n",
        "29, 0.5\n",
        "30, 0.5\n",
        "31, 0.5\n",
        "32, 0.5\n",
        "33, 0.5\n",
        "34, 0.5\n",
        "35, 0.5\n",
        "36, 0.5\n",
        "37, 0.5\n",
        "38, 0.5\n",
        "39, 0.5\n",
        "40, 0.5\n",
        "41, 0.5\n",
        "42, 0.5\n",
        "43, 0.5\n",
        "44, 0.5\n",
        "45, 0.5\n",
        "46, 0.5\n",
        "47, 0.5\n",
        "48, 0.5\n",
        "49, 0.5\n",
        "50, 0.5\n",
        "51, 0.5\n",
        "52, 0.5\n",
        "53, 0.5\n",
        "54, 0.5\n",
        "55, 0.5\n",
        "56, 0.5\n",
        "57, 0.5\n",
        "58, 0.5\n",
        "59, 0.5\n",
        "60, 0.5\n"
       ]
      }
     ],
     "prompt_number": 61
    },
    {
     "cell_type": "code",
     "collapsed": false,
     "input": [
      "it(1/16)"
     ],
     "language": "python",
     "metadata": {},
     "outputs": [
      {
       "output_type": "stream",
       "stream": "stdout",
       "text": [
        "1, 0.1875"
       ]
      },
      {
       "output_type": "stream",
       "stream": "stdout",
       "text": [
        "\n",
        "2, 0.5625\n",
        "3, 0.6875\n",
        "4, 0.0625\n",
        "5, 0.1875\n",
        "6, 0.5625\n",
        "7, 0.6875\n",
        "8, 0.0625\n",
        "9, 0.1875\n",
        "10, 0.5625\n",
        "11, 0.6875\n",
        "12, 0.0625\n",
        "13, 0.1875\n",
        "14, 0.5625\n",
        "15, 0.6875\n",
        "16, 0.0625\n",
        "17, 0.1875\n",
        "18, 0.5625\n",
        "19, 0.6875\n",
        "20, 0.0625\n",
        "21, 0.1875\n",
        "22, 0.5625\n",
        "23, 0.6875\n",
        "24, 0.0625\n",
        "25, 0.1875\n",
        "26, 0.5625\n",
        "27, 0.6875\n",
        "28, 0.0625\n",
        "29, 0.1875\n",
        "30, 0.5625\n",
        "31, 0.6875\n",
        "32, 0.0625\n",
        "33, 0.1875\n",
        "34, 0.5625\n",
        "35, 0.6875\n",
        "36, 0.0625\n",
        "37, 0.1875\n",
        "38, 0.5625\n",
        "39, 0.6875\n",
        "40, 0.0625\n",
        "41, 0.1875\n",
        "42, 0.5625\n",
        "43, 0.6875\n",
        "44, 0.0625\n",
        "45, 0.1875\n",
        "46, 0.5625\n",
        "47, 0.6875\n",
        "48, 0.0625\n",
        "49, 0.1875\n",
        "50, 0.5625\n",
        "51, 0.6875\n",
        "52, 0.0625\n",
        "53, 0.1875\n",
        "54, 0.5625\n",
        "55, 0.6875\n",
        "56, 0.0625\n",
        "57, 0.1875\n",
        "58, 0.5625\n",
        "59, 0.6875\n",
        "60, 0.0625\n"
       ]
      }
     ],
     "prompt_number": 62
    },
    {
     "cell_type": "heading",
     "level": 1,
     "metadata": {},
     "source": [
      "\n",
      "Aplicando redondeo para obtener resultados garantizados"
     ]
    },
    {
     "cell_type": "markdown",
     "metadata": {},
     "source": [
      "Ya estamos en condiciones para empezar a hacer c\u00e1lculos \u00fatiles.\n",
      "\n",
      "Siguiendo al libro de Tucker, consideremos la suma infinita\n",
      "\n",
      "$$S = \\sum_{n=1}^\\infty \\frac{1}{n^2}.$$\n",
      "\n",
      "Se sabe que $S = \\frac{\\pi^2}{6}$. Primero realizo un c\u00e1lculo ingenuo de S."
     ]
    },
    {
     "cell_type": "code",
     "collapsed": false,
     "input": [
      "function sum1( n) #calcula la suma de los primeros n cuadrados inversos\n",
      "  x=0  \n",
      "itr=[1.0: 1.0: n]\n",
      "    p=1.0./(itr).^2.0\n",
      "    #println(p)\n",
      "    sum(1.0./(itr).^2.0)\n",
      "end"
     ],
     "language": "python",
     "metadata": {},
     "outputs": [
      {
       "metadata": {},
       "output_type": "pyout",
       "prompt_number": 63,
       "text": [
        "sum1 (generic function with 1 method)"
       ]
      }
     ],
     "prompt_number": 63
    },
    {
     "cell_type": "code",
     "collapsed": false,
     "input": [
      "a=sum1(1000)"
     ],
     "language": "python",
     "metadata": {},
     "outputs": [
      {
       "metadata": {},
       "output_type": "pyout",
       "prompt_number": 64,
       "text": [
        "1.6439345666815595"
       ]
      }
     ],
     "prompt_number": 64
    },
    {
     "cell_type": "code",
     "collapsed": false,
     "input": [
      "\u03c0^2/6"
     ],
     "language": "python",
     "metadata": {},
     "outputs": [
      {
       "metadata": {},
       "output_type": "pyout",
       "prompt_number": 65,
       "text": [
        "1.6449340668482264"
       ]
      }
     ],
     "prompt_number": 65
    },
    {
     "cell_type": "markdown",
     "metadata": {},
     "source": [
      "con los primeros 1000 t\u00e9rminos se acerca hasta la segunda  cifra."
     ]
    },
    {
     "cell_type": "markdown",
     "metadata": {},
     "source": [
      "Realizando una separaci\u00f3n de la integral de N hasta $\\infty$:\n",
      "\n",
      "\\begin{equation}\n",
      "    \\int_{N+1}^\\infty \\frac{1}{x^2}dx= \\int_{N+1}^{N+2} \\frac{1}{x^2}dx + \\int_{N+2}^{N+3} \\frac{1}{x^2}dx+...= \\sum_{n=N+1}^{\\infty} \\left[\\int_{n}^{n+1} \\frac{1}{x^2}dx\\right]\n",
      "\\end{equation}\n",
      "\n",
      "Ahora bien tenemos que la $\\frac{1}{(n+1)^2}$<$\\frac{1}{(n)^2}$ por lo que la integral $\\int_{n}^{n+1}\\frac{1}{x^2}dx $\n",
      "es menor que el \u00e1rea de un rect\u00e1ngulo de ancho $1 $ y altura   $\\frac{1}{(n+1)^2}$\n",
      "\n",
      "\n",
      "\\begin{equation}\n",
      "    \\int_{N+1}^\\infty \\frac{1}{x^2}dx = \\sum_{n=N+1}^{\\infty} \\left[\\int_{n}^{n+1} \\frac{1}{x^2}dx\\right] <\\sum_{n=N+1}^{\\infty} \\frac{1}{n^2}=T_N\n",
      "\\end{equation}\n",
      "\n",
      "Analogamente $\\frac{1}{n^2} < \\int_{n-1}^{n} \\frac{1}{x^2}dx $, de donde:\n",
      "\n",
      "\n",
      "\\begin{equation}\n",
      "    T_N=\\sum_{n=N+1}^{\\infty} \\frac{1}{n^2}< \\sum_{n=N+1}^{\\infty} \\left[\\int_{n-1}^{n} \\frac{1}{x^2}dx\\right] = \\int_{N}^\\infty \\frac{1}{x^2}dx = \\int_{N+1}^\\infty \\frac{1}{(x-1)^2}dx\n",
      "\\end{equation}\n",
      "\n",
      "Finalmente usamos que  $\\int_{N+1}^\\infty \\frac{1}{(x-1)^2}dx= -\\frac{1}{x-1} |_{N+1} ^{\\infty} =\\frac{1}{N} $  y para la otra integral $\\int_{N+1}^\\infty \\frac{1}{x^2}dx = \\frac{1}{N+1}$\n",
      "\\begin{equation}\n",
      "\\frac{1}{N+1}<T_{N}< \\frac{1}{N}\n",
      "\\end{equation}\n",
      "\n",
      "\n",
      "Para calcular cotas superiores e inferiores de la parte inicial de las sumas utilizo \n"
     ]
    },
    {
     "cell_type": "code",
     "collapsed": false,
     "input": [
      "function sumain(N)\n",
      "    prev=get_rounding(Float64)\n",
      "#cota inferior\n",
      "    set_rounding(Float64,RoundDown)\n",
      "    a= sum1(N)\n",
      "#cota superior\n",
      "    set_rounding(Float64,RoundUp)\n",
      "    b=sum1(N)\n",
      "    set_rounding(Float64,prev)\n",
      "\n",
      "    println(\" la suma hasta N esta entre ($a, $b)\")\n",
      "    {a,b}\n",
      "end"
     ],
     "language": "python",
     "metadata": {},
     "outputs": [
      {
       "metadata": {},
       "output_type": "pyout",
       "prompt_number": 66,
       "text": [
        "sumain (generic function with 1 method)"
       ]
      }
     ],
     "prompt_number": 66
    },
    {
     "cell_type": "code",
     "collapsed": false,
     "input": [
      "sumain(6)"
     ],
     "language": "python",
     "metadata": {},
     "outputs": [
      {
       "output_type": "stream",
       "stream": "stdout",
       "text": [
        " la suma hasta N esta entre (1.4913888888888884, 1.491388888888889)"
       ]
      },
      {
       "output_type": "stream",
       "stream": "stdout",
       "text": [
        "\n"
       ]
      },
      {
       "metadata": {},
       "output_type": "pyout",
       "prompt_number": 67,
       "text": [
        "2-element Array{Any,1}:\n",
        " 1.49139\n",
        " 1.49139"
       ]
      }
     ],
     "prompt_number": 67
    },
    {
     "cell_type": "markdown",
     "metadata": {},
     "source": [
      "Ahora a suma las cotas superiores u las inferiores"
     ]
    },
    {
     "cell_type": "code",
     "collapsed": false,
     "input": [
      "function sumsep(M)\n",
      "\n",
      "set_rounding(Float64,RoundDown)\n",
      "s=sumain(M)[1]+1.0/(M+1)\n",
      "\n",
      "set_rounding(Float64,RoundUp)\n",
      "i=sumain(M)[2]+1.0/(M)\n",
      "    println(\"($s, $i)\")\n",
      "\n",
      "\n",
      "    {s,i}  \n",
      "\n",
      "\n",
      "end"
     ],
     "language": "python",
     "metadata": {},
     "outputs": [
      {
       "metadata": {},
       "output_type": "pyout",
       "prompt_number": 68,
       "text": [
        "sumsep (generic function with 1 method)"
       ]
      }
     ],
     "prompt_number": 68
    },
    {
     "cell_type": "code",
     "collapsed": false,
     "input": [
      "sumsep(10^5)"
     ],
     "language": "python",
     "metadata": {},
     "outputs": [
      {
       "output_type": "stream",
       "stream": "stdout",
       "text": [
        " la suma hasta N esta entre (1.644924066898195, 1.6449240668982597)"
       ]
      },
      {
       "output_type": "stream",
       "stream": "stdout",
       "text": [
        "\n",
        " la suma hasta N esta entre (1.644924066898195, 1.6449240668982597)\n",
        "(1.644934066798196, 1.6449340668982597)\n"
       ]
      },
      {
       "metadata": {},
       "output_type": "pyout",
       "prompt_number": 69,
       "text": [
        "2-element Array{Any,1}:\n",
        " 1.64493\n",
        " 1.64493"
       ]
      }
     ],
     "prompt_number": 69
    },
    {
     "cell_type": "code",
     "collapsed": false,
     "input": [
      "sumsep(10^5)[1]<sumsep(10^5)[2]  #esta bien definido el intervalo"
     ],
     "language": "python",
     "metadata": {},
     "outputs": [
      {
       "output_type": "stream",
       "stream": "stdout",
       "text": [
        " la suma hasta N esta entre (1.644924066898195, 1.6449240668982597)"
       ]
      },
      {
       "output_type": "stream",
       "stream": "stdout",
       "text": [
        "\n",
        " la suma hasta N esta entre (1.644924066898195, 1.6449240668982597)\n",
        "(1.644934066798196, 1.6449340668982597)\n",
        " la suma hasta N esta entre (1.644924066898195, 1.6449240668982597)\n",
        " la suma hasta N esta entre (1.644924066898195, 1.6449240668982597)\n",
        "(1.644934066798196, 1.6449340668982597)\n"
       ]
      },
      {
       "metadata": {},
       "output_type": "pyout",
       "prompt_number": 70,
       "text": [
        "true"
       ]
      }
     ],
     "prompt_number": 70
    },
    {
     "cell_type": "code",
     "collapsed": false,
     "input": [
      "\u03c0^2/6 <sumsep(10^5)[2] && \u03c0^2/6 >sumsep(10^5)[1]  #para ver que el valor se encuentra entre las cotas"
     ],
     "language": "python",
     "metadata": {},
     "outputs": [
      {
       "output_type": "stream",
       "stream": "stdout",
       "text": [
        " la suma hasta N esta entre (1.644924066898195, 1.6449240668982597)"
       ]
      },
      {
       "output_type": "stream",
       "stream": "stdout",
       "text": [
        "\n",
        " la suma hasta N esta entre (1.644924066898195, 1.6449240668982597)\n",
        "(1.644934066798196, 1.6449340668982597)\n",
        " la suma hasta N esta entre (1.644924066898195, 1.6449240668982597)\n",
        " la suma hasta N esta entre (1.644924066898195, 1.6449240668982597)\n",
        "(1.644934066798196, 1.6449340668982597)\n"
       ]
      },
      {
       "metadata": {},
       "output_type": "pyout",
       "prompt_number": 71,
       "text": [
        "true"
       ]
      }
     ],
     "prompt_number": 71
    },
    {
     "cell_type": "markdown",
     "metadata": {},
     "source": [
      "y finalmente voy a evaluar la longitud del intervalo"
     ]
    },
    {
     "cell_type": "code",
     "collapsed": false,
     "input": [
      "sumsep(10^5)[2]-sumsep(10^5)[1] "
     ],
     "language": "python",
     "metadata": {},
     "outputs": [
      {
       "output_type": "stream",
       "stream": "stdout",
       "text": [
        " la suma hasta N esta entre (1.644924066898195, 1.6449240668982597)"
       ]
      },
      {
       "output_type": "stream",
       "stream": "stdout",
       "text": [
        "\n",
        " la suma hasta N esta entre (1.644924066898195, 1.6449240668982597)\n",
        "(1.644934066798196, 1.6449340668982597)\n",
        " la suma hasta N esta entre (1.644924066898195, 1.6449240668982597)\n",
        " la suma hasta N esta entre (1.644924066898195, 1.6449240668982597)\n",
        "(1.644934066798196, 1.6449340668982597)\n"
       ]
      },
      {
       "metadata": {},
       "output_type": "pyout",
       "prompt_number": 72,
       "text": [
        "1.0006373507565058e-10"
       ]
      }
     ],
     "prompt_number": 72
    },
    {
     "cell_type": "markdown",
     "metadata": {},
     "source": [
      "Ahora voy a hacer todo lo anterior pero utilizando bigfloat."
     ]
    },
    {
     "cell_type": "code",
     "collapsed": false,
     "input": [
      "function sum1bf( n) #calcula la suma de los primeros n cuadrados inversos\n",
      "  x=0  \n",
      "itr=[1.0: 1.0: n]\n",
      "    p= 1.0./big((itr)).^2.0\n",
      "    #println(p)\n",
      "    sum(1.0./big((itr)).^2.0)\n",
      "end"
     ],
     "language": "python",
     "metadata": {},
     "outputs": [
      {
       "metadata": {},
       "output_type": "pyout",
       "prompt_number": 73,
       "text": [
        "sum1bf (generic function with 1 method)"
       ]
      }
     ],
     "prompt_number": 73
    },
    {
     "cell_type": "code",
     "collapsed": false,
     "input": [
      "function sumainbf(N)\n",
      "    prev=get_rounding(BigFloat)\n",
      "#cota inferior\n",
      "    set_rounding(BigFloat,RoundDown)\n",
      "    a= sum1bf(N)\n",
      "#cota superior\n",
      "    set_rounding(BigFloat,RoundUp)\n",
      "    b=sum1bf(N)\n",
      "    set_rounding(BigFloat,prev)\n",
      "\n",
      "    #println(\" la suma hasta N esta entre ($a, $b)\")\n",
      "    {a,b}\n",
      "end"
     ],
     "language": "python",
     "metadata": {},
     "outputs": [
      {
       "metadata": {},
       "output_type": "pyout",
       "prompt_number": 74,
       "text": [
        "sumainbf (generic function with 1 method)"
       ]
      }
     ],
     "prompt_number": 74
    },
    {
     "cell_type": "code",
     "collapsed": false,
     "input": [
      "function sumsepbf(M)\n",
      "\n",
      "    set_rounding(BigFloat,RoundDown)\n",
      "    s=sumainbf(M)[1]+1.0/(M+1)\n",
      "\n",
      "    set_rounding(BigFloat,RoundUp)\n",
      "    i=sumainbf(M)[2]+1.0/(M)\n",
      "    #println(\"($s, $i)\")\n",
      "    {s,i}  \n",
      "\n",
      "\n",
      "end"
     ],
     "language": "python",
     "metadata": {},
     "outputs": [
      {
       "metadata": {},
       "output_type": "pyout",
       "prompt_number": 75,
       "text": [
        "sumsepbf (generic function with 1 method)"
       ]
      }
     ],
     "prompt_number": 75
    },
    {
     "cell_type": "code",
     "collapsed": false,
     "input": [
      "sumsepbf(10^5)"
     ],
     "language": "python",
     "metadata": {},
     "outputs": [
      {
       "metadata": {},
       "output_type": "pyout",
       "prompt_number": 76,
       "text": [
        "2-element Array{Any,1}:\n",
        " 1.644934066798227269796504132204694826434255624772766957461048122373417934938307e+00\n",
        " 1.644934066898226269806566533851832168742979952949816713511157985654667934938307e+00"
       ]
      }
     ],
     "prompt_number": 76
    },
    {
     "cell_type": "code",
     "collapsed": false,
     "input": [
      "sumsepbf(10^5)[1]<sumsepbf(10^5)[2]  #esta bien definido el intervalo"
     ],
     "language": "python",
     "metadata": {},
     "outputs": [
      {
       "metadata": {},
       "output_type": "pyout",
       "prompt_number": 77,
       "text": [
        "true"
       ]
      }
     ],
     "prompt_number": 77
    },
    {
     "cell_type": "code",
     "collapsed": false,
     "input": [
      "\u03c0^2/6 <sumsepbf(10^5)[2] && \u03c0^2/6 >sumsepbf(10^5)[1]"
     ],
     "language": "python",
     "metadata": {},
     "outputs": [
      {
       "metadata": {},
       "output_type": "pyout",
       "prompt_number": 78,
       "text": [
        "true"
       ]
      }
     ],
     "prompt_number": 78
    },
    {
     "cell_type": "code",
     "collapsed": false,
     "input": [
      "sumsepbf(10^5)[2]-sumsepbf(10^5)[1] "
     ],
     "language": "python",
     "metadata": {},
     "outputs": [
      {
       "metadata": {},
       "output_type": "pyout",
       "prompt_number": 79,
       "text": [
        "9.999900001006240164713734230872432817704975605010986328125e-11 with 256 bits of precision"
       ]
      }
     ],
     "prompt_number": 79
    },
    {
     "cell_type": "markdown",
     "metadata": {},
     "source": [
      "Entonces vemos que logramos pasar de un intervalo de ancho 1.0006373507565058e-10  a un intervalo de \n",
      "\n",
      "\n",
      "9.999900001006240164713734230872432817704975605010986328125e-11 al realizar el cambio de Float64 a BigFloat."
     ]
    },
    {
     "cell_type": "markdown",
     "metadata": {},
     "source": [
      "Ahora invirtiendo el orden a las sumas. Solo es necesario cambiar la funci\u00f3n que realiza la suma parcial hasta N."
     ]
    },
    {
     "cell_type": "code",
     "collapsed": false,
     "input": [
      "function sum1bfi(n) #calcula la suma de los primeros n cuadrados inversos\n",
      "  x=0  \n",
      "itr=[n:- 1.0: 1]\n",
      "    p= 1.0./big(itr).^2.0\n",
      "    sum(1.0./big(itr).^2.0)\n",
      "\n",
      "end"
     ],
     "language": "python",
     "metadata": {},
     "outputs": [
      {
       "metadata": {},
       "output_type": "pyout",
       "prompt_number": 80,
       "text": [
        "sum1bfi (generic function with 1 method)"
       ]
      }
     ],
     "prompt_number": 80
    },
    {
     "cell_type": "code",
     "collapsed": false,
     "input": [
      "sum1bfi(10^5)"
     ],
     "language": "python",
     "metadata": {},
     "outputs": [
      {
       "metadata": {},
       "output_type": "pyout",
       "prompt_number": 81,
       "text": [
        "1.644924066898226269805748503312691855647521329811560342489887233701542934937513e+00 with 256 bits of precision"
       ]
      }
     ],
     "prompt_number": 81
    },
    {
     "cell_type": "code",
     "collapsed": false,
     "input": [
      "function sumainbfi(N)\n",
      "    prev=get_rounding(BigFloat)\n",
      "#cota inferior\n",
      "    set_rounding(BigFloat,RoundDown)\n",
      "    a= sum1bfi(N)\n",
      "#cota superior\n",
      "    set_rounding(BigFloat,RoundUp)\n",
      "    b=sum1bfi(N)\n",
      "    set_rounding(BigFloat,prev)\n",
      "\n",
      "    #println(\" la suma hasta N esta entre ($a, $b)\")\n",
      "    {a,b}\n",
      "end"
     ],
     "language": "python",
     "metadata": {},
     "outputs": [
      {
       "metadata": {},
       "output_type": "pyout",
       "prompt_number": 82,
       "text": [
        "sumainbfi (generic function with 1 method)"
       ]
      }
     ],
     "prompt_number": 82
    },
    {
     "cell_type": "code",
     "collapsed": false,
     "input": [
      "function sumsepbfi(M)\n",
      "\n",
      "    set_rounding(BigFloat,RoundDown)\n",
      "    s=sumainbfi(M)[1]+1.0/(M+1)\n",
      "\n",
      "    set_rounding(BigFloat,RoundUp)\n",
      "    i=sumainbfi(M)[2]+1.0/(M)\n",
      "    #println(\"($s, $i)\")\n",
      "    {s,i}  \n",
      "\n",
      "\n",
      "end"
     ],
     "language": "python",
     "metadata": {},
     "outputs": [
      {
       "metadata": {},
       "output_type": "pyout",
       "prompt_number": 83,
       "text": [
        "sumsepbfi (generic function with 1 method)"
       ]
      }
     ],
     "prompt_number": 83
    },
    {
     "cell_type": "code",
     "collapsed": false,
     "input": [
      "sumsepbfi(10^5)"
     ],
     "language": "python",
     "metadata": {},
     "outputs": [
      {
       "metadata": {},
       "output_type": "pyout",
       "prompt_number": 84,
       "text": [
        "2-element Array{Any,1}:\n",
        " 1.644934066798227269796504132204694826434255624772766957461048122373417934937496e+00\n",
        " 1.644934066898226269806566533851832168742979952949816713511157985654667934937513e+00"
       ]
      }
     ],
     "prompt_number": 84
    },
    {
     "cell_type": "code",
     "collapsed": false,
     "input": [
      "\u03c0^2/6 <sumsepbfi(10^5)[2] && \u03c0^2/6 >sumsepbfi(10^5)[1] #contiene el valor real"
     ],
     "language": "python",
     "metadata": {},
     "outputs": [
      {
       "metadata": {},
       "output_type": "pyout",
       "prompt_number": 85,
       "text": [
        "true"
       ]
      }
     ],
     "prompt_number": 85
    },
    {
     "cell_type": "code",
     "collapsed": false,
     "input": [
      "a=sumsepbfi(10^5)[2]-sumsepbfi(10^5)[1] "
     ],
     "language": "python",
     "metadata": {},
     "outputs": [
      {
       "metadata": {},
       "output_type": "pyout",
       "prompt_number": 86,
       "text": [
        "9.999900001006240164713734230872432817704975605010986328125000000001727233711019e-11 with 256 bits of precision"
       ]
      }
     ],
     "prompt_number": 86
    },
    {
     "cell_type": "code",
     "collapsed": false,
     "input": [
      "b=sumsepbf(10^5)[2]-sumsepbf(10^5)[1] "
     ],
     "language": "python",
     "metadata": {},
     "outputs": [
      {
       "metadata": {},
       "output_type": "pyout",
       "prompt_number": 89,
       "text": [
        "9.999900001006240164713734230872432817704975605010986328125e-11 with 256 bits of precision"
       ]
      }
     ],
     "prompt_number": 89
    },
    {
     "cell_type": "code",
     "collapsed": false,
     "input": [
      "a<b  #para checar si mejoro"
     ],
     "language": "python",
     "metadata": {},
     "outputs": [
      {
       "metadata": {},
       "output_type": "pyout",
       "prompt_number": 91,
       "text": [
        "false"
       ]
      }
     ],
     "prompt_number": 91
    },
    {
     "cell_type": "markdown",
     "metadata": {},
     "source": [
      "No mejoro al realizar la suma empezando con las N\u00b4s mas grandes, es decir con los sumandos mas peque\u00f1os"
     ]
    },
    {
     "cell_type": "code",
     "collapsed": false,
     "input": [
      "function bintodec(x)\n",
      "    a=0\n",
      "    #op=input(\"Deseas que el programa muestre los subpasos, si [s]/ no [n]\");\n",
      "    go=length(x)\n",
      "    #op==\"s\" ? println(\"x tiene $go cifras\"):  print(\"\")\n",
      "    for k in [1:go]\n",
      "     #   op==\"s\" ?  print(\"la cifra en el lugar $k es $(x[go-k+1]), \"): print(\"\")\n",
      "        pot=parseint((x[go-k+1])) #extrae el n\u00famero de la cadena x\n",
      "        a=a+pot*2^(k-1)   #va sumando las contribuciones correspondientes a cada potencia\n",
      "      #  op==\"s\" ?  println(\"hasta aqui la suma va en $a\") : print(\"\")    \n",
      "    end\n",
      "    #print(\"la representaci\u00f3n en decimal es $a\")\n",
      "    a\n",
      "end"
     ],
     "language": "python",
     "metadata": {},
     "outputs": [
      {
       "metadata": {},
       "output_type": "pyout",
       "prompt_number": 20,
       "text": [
        "bintodec (generic function with 1 method)"
       ]
      }
     ],
     "prompt_number": 20
    },
    {
     "cell_type": "code",
     "collapsed": false,
     "input": [
      "function binpntodec(y)\n",
      "  a=0 #para potencias positivas\n",
      "    b=0 #para potencias negativas \n",
      "    go=length(y)\n",
      "    d=0\n",
      "    w=\"\"\n",
      "    m=\"\"\n",
      "    #primero hay que buscar el punto decimal en la cadena binaria\n",
      "     for k in [1:go]#length(\"y\")]\n",
      "        if (y[k])=='.'\n",
      "\n",
      "            d=k   #esto me va marcar un desfase para poder poner la cifra del punto donde va\n",
      "          end \n",
      "     end \n",
      "   #println(\" el punto se halla en el lugar $d\")\n",
      "       \n",
      "    #ahora algo que ya vaya obtieniendo y multiplicando los coeficientes con las potencias de dos correspondientes \n",
      "    \n",
      "    for k in [1:d-1] #potencias positivas de 2\n",
      "        pot=parseint(\"$(y[k])\")\n",
      "        #println(\"estamos en la componente $k de y, a  $(d-k) lugares a la izquierda del punto decimal, y[k] vale $(y[k]) y la potencia correspondiente es $(d-k-1) \"): print(\"\")\n",
      "        a=a+pot*2.0^(d-k-1)#va sumando las contribuciones correspondientes a cada cifra\n",
      "         #println(\" la parte entera hasta ahora es $a\") \n",
      "    end\n",
      "    \n",
      "    \n",
      "    for k in [d+1:go] #potencias negativas de 2\n",
      "        pot=parseint(\"$(y[k])\")\n",
      "        #println(\" estamos en la componente $k de y, a  $(k-d) lugares a la derecha del punto decimal, y[k] vale $(y[k]) y la potencia  correspondiente es - $(k-d) \") : print(\"\")\n",
      "        b=b+pot*2.0^-(k-d) #va sumando las contribuciones correspondientes a cada cifra\n",
      "        #op==\"s\"? println(\" la parte fraccionaria hasta ahora es $b\")  : print(\"\")\n",
      "    end\n",
      "      #op == \"s\" ? println(\" la parte entera es $a\"): print(\"\")\n",
      "      #op == \"s\" ?println(\" la parte fraccionaria es $b\"): print(\"\")\n",
      "      c=a+b \n",
      "      #println(\"el n\u00famero real en decimal es $c\")\n",
      "end"
     ],
     "language": "python",
     "metadata": {},
     "outputs": [
      {
       "metadata": {},
       "output_type": "pyout",
       "prompt_number": 21,
       "text": [
        "binpntodec (generic function with 1 method)"
       ]
      }
     ],
     "prompt_number": 21
    },
    {
     "cell_type": "code",
     "collapsed": false,
     "input": [
      "function dis(x)\n",
      "    y=bits(x)\n",
      "    e=y[1] \n",
      "    println(e)\n",
      "    w=y[2:12]\n",
      "    println(w)\n",
      "    m=y[13:end]\n",
      "    print(\"mantisa $m\")\n",
      "    \n",
      "end   "
     ],
     "language": "python",
     "metadata": {},
     "outputs": [
      {
       "metadata": {},
       "output_type": "pyout",
       "prompt_number": 22,
       "text": [
        "dis (generic function with 1 method)"
       ]
      }
     ],
     "prompt_number": 22
    },
    {
     "cell_type": "code",
     "collapsed": false,
     "input": [],
     "language": "python",
     "metadata": {},
     "outputs": [],
     "prompt_number": 110
    }
   ],
   "metadata": {}
  }
 ]
}