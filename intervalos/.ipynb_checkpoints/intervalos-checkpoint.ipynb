{
 "metadata": {
  "language": "Julia",
  "name": "",
  "signature": "sha256:3d382c1e392ddabfc18989d6d0bcc547eac3306ff8f56bf17ef5929c60d75c9b"
 },
 "nbformat": 3,
 "nbformat_minor": 0,
 "worksheets": [
  {
   "cells": [
    {
     "cell_type": "markdown",
     "metadata": {},
     "source": [
      "Este notebook solo tiene por finalidad probar los cambios realizados a Intervalosa por medio de Testa.jl."
     ]
    },
    {
     "cell_type": "code",
     "collapsed": false,
     "input": [
      "using Intervalosa\n",
      "using Derivadasa\n",
      "include(\"Testa.jl\")"
     ],
     "language": "python",
     "metadata": {},
     "outputs": [
      {
       "output_type": "stream",
       "stream": "stdout",
       "text": [
        "definici\u00f3n correcta de intervalos, prop elementales\n"
       ]
      },
      {
       "output_type": "stream",
       "stream": "stdout",
       "text": [
        "9 facts verified.\n"
       ]
      },
      {
       "output_type": "stream",
       "stream": "stdout",
       "text": [
        "sumas, restas, multiplicaciones, divisiones\n",
        "8 facts verified.\n",
        "funciones elementales\n"
       ]
      },
      {
       "output_type": "stream",
       "stream": "stdout",
       "text": [
        "3 facts verified.\n"
       ]
      },
      {
       "metadata": {},
       "output_type": "pyout",
       "prompt_number": 7,
       "text": [
        "delayed_handler (generic function with 4 methods)"
       ]
      }
     ],
     "prompt_number": 7
    },
    {
     "cell_type": "code",
     "collapsed": false,
     "input": [
      "pwd()"
     ],
     "language": "python",
     "metadata": {},
     "outputs": [
      {
       "metadata": {},
       "output_type": "pyout",
       "prompt_number": 8,
       "text": [
        "\"C:\\\\Users\\\\laura\\\\Desktop\\\\julia\\\\tareas-fca\\\\intervalos\""
       ]
      }
     ],
     "prompt_number": 8
    },
    {
     "cell_type": "markdown",
     "metadata": {},
     "source": [
      "la direcci\u00f3n previamente mostrada como c deber\u00e1 pegarse al comando push!(LOAD_PATH, C)"
     ]
    }
   ],
   "metadata": {}
  }
 ]
}