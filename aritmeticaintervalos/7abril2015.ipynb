{
 "metadata": {
  "language": "Julia",
  "name": "",
  "signature": "sha256:797cdaa6822d1c327d6f7a2f60940b6d36bc6b87c910522ad3abf68fc07af8a5"
 },
 "nbformat": 3,
 "nbformat_minor": 0,
 "worksheets": [
  {
   "cells": [
    {
     "cell_type": "markdown",
     "metadata": {},
     "source": [
      "[1] Ampl\u00eda tu m\u00f3dulo de intervalos para que incluya la extensi\u00f3n de las funciones est\u00e1ndres mon\u00f3tonas a intervalos. En el caso de las potencias, exti\u00e9nde lo que ya hayas hecho para que incluya potencias reales. Incluye algunas pruebas en pruebas.jl que muestren que lo que has hecho funciona bien."
     ]
    },
    {
     "cell_type": "code",
     "collapsed": false,
     "input": [
      "using Intervalos\n",
      "using FactCheck\n",
      "include (\"Test.jl\")"
     ],
     "language": "python",
     "metadata": {},
     "outputs": [
      {
       "output_type": "stream",
       "stream": "stdout",
       "text": [
        "definici\u00f3n correcta de intervalos, prop elementales\n"
       ]
      },
      {
       "output_type": "stream",
       "stream": "stdout",
       "text": [
        "7 facts verified.\n",
        "sumas, restas, multiplicaciones, divisiones\n"
       ]
      },
      {
       "output_type": "stream",
       "stream": "stdout",
       "text": [
        "8 facts verified.\n",
        "funciones elementales\n",
        "3 facts verified.\n"
       ]
      },
      {
       "metadata": {},
       "output_type": "pyout",
       "prompt_number": 2,
       "text": [
        "delayed_handler (generic function with 4 methods)"
       ]
      }
     ],
     "prompt_number": 2
    },
    {
     "cell_type": "code",
     "collapsed": false,
     "input": [
      "g=Intervalo(1,2)"
     ],
     "language": "python",
     "metadata": {},
     "outputs": [
      {
       "metadata": {},
       "output_type": "pyout",
       "prompt_number": 4,
       "text": [
        "Intervalo(1e+00 with 256 bits of precision,2e+00 with 256 bits of precision)"
       ]
      }
     ],
     "prompt_number": 4
    },
    {
     "cell_type": "code",
     "collapsed": false,
     "input": [
      "p1(g)"
     ],
     "language": "python",
     "metadata": {},
     "outputs": [
      {
       "metadata": {},
       "output_type": "pyout",
       "prompt_number": 5,
       "text": [
        "Intervalo(2.000000000000000000000000000000000000000000000000000000000000000000000000000004e-01 with 256 bits of precision,1e+00 with 256 bits of precision)"
       ]
      }
     ],
     "prompt_number": 5
    },
    {
     "cell_type": "code",
     "collapsed": false,
     "input": [
      "grafica(1,2, p1)"
     ],
     "language": "python",
     "metadata": {},
     "outputs": [
      {
       "metadata": {},
       "output_type": "display_data",
       "png": "[encoded data removed]",
       "text": [
        "Figure(PyObject <matplotlib.figure.Figure object at 0x0000000020585240>)"
       ]
      },
      {
       "metadata": {},
       "output_type": "pyout",
       "prompt_number": 6,
       "text": [
        "PyObject <matplotlib.collections.PolyCollection object at 0x0000000025F18C88>"
       ]
      }
     ],
     "prompt_number": 6
    },
    {
     "cell_type": "markdown",
     "metadata": {},
     "source": [
      "como podemos observar  el rango de la funci\u00f3n se halla contenido en $F(x)$."
     ]
    },
    {
     "cell_type": "markdown",
     "metadata": {},
     "source": [
      "Para funciones elementales pero que no son mon\u00f3tonas ser\u00e1 un poco mas complicado."
     ]
    }
   ],
   "metadata": {}
  }
 ]
}