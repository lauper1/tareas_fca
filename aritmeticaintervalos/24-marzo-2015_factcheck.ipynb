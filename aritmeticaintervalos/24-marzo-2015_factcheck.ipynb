{
 "metadata": {
  "language": "Julia",
  "name": "",
  "signature": "sha256:9109a24215eebd9655a44dbd290e43c64b306bc1990c1884bd2cbf397cdb79e1"
 },
 "nbformat": 3,
 "nbformat_minor": 0,
 "worksheets": [
  {
   "cells": [
    {
     "cell_type": "code",
     "collapsed": false,
     "input": [
      "\n",
      "using Intervalos\n",
      "using FactCheck\n",
      "include (\"Test.jl\")"
     ],
     "language": "python",
     "metadata": {},
     "outputs": [
      {
       "output_type": "stream",
       "stream": "stdout",
       "text": [
        "primeros facts que voy a realizar\n"
       ]
      },
      {
       "output_type": "stream",
       "stream": "stdout",
       "text": [
        "10 facts verified.\n"
       ]
      },
      {
       "metadata": {},
       "output_type": "pyout",
       "prompt_number": 1,
       "text": [
        "delayed_handler (generic function with 4 methods)"
       ]
      }
     ],
     "prompt_number": 1
    },
    {
     "cell_type": "markdown",
     "metadata": {},
     "source": [
      "4.Utiliza tu c\u00f3digo para rehacer el c\u00e1lculo de \u03c0 del notebook 5. Ahora, \u00a1deber\u00e1 ser mucho m\u00e1s f\u00e1cil!\n",
      "\n",
      "\u00bfCu\u00e1l es la diferencia entre el c\u00e1lculo mediante intervalos y el c\u00e1lculo original que hicimos?\n"
     ]
    },
    {
     "cell_type": "code",
     "collapsed": false,
     "input": [
      "function sumaNinf(N::Int64)\n",
      "    suma=Intervalo(0)\n",
      "    for i=1:N\n",
      "        suma+=1/((Intervalo(N-i+1))^2)\n",
      "    end\n",
      "    Intervalo(suma.a+1/(N+1),suma.b+1/N)\n",
      "end"
     ],
     "language": "python",
     "metadata": {},
     "outputs": [
      {
       "metadata": {},
       "output_type": "pyout",
       "prompt_number": 16,
       "text": [
        "sumaNinf (generic function with 1 method)"
       ]
      }
     ],
     "prompt_number": 16
    },
    {
     "cell_type": "code",
     "collapsed": false,
     "input": [
      "a=sumaNinf(10)\n"
     ],
     "language": "python",
     "metadata": {},
     "outputs": [
      {
       "metadata": {},
       "output_type": "pyout",
       "prompt_number": 17,
       "text": [
        "Intervalo(1.640676822075631601964357397522415944559766652152171270707357016880826404635927e+00 with 256 bits of precision,1.649767731166540695901329282863751963896943928763499395707357016880826404635944e+00 with 256 bits of precision)"
       ]
      }
     ],
     "prompt_number": 17
    },
    {
     "cell_type": "markdown",
     "metadata": {},
     "source": [
      "Ahora veamos si en efecto $\\pi^2/6$ se encuentra en el \u00edntervalo."
     ]
    },
    {
     "cell_type": "code",
     "collapsed": false,
     "input": [
      "\u03c0^2/6 \u2208 a"
     ],
     "language": "python",
     "metadata": {},
     "outputs": [
      {
       "metadata": {},
       "output_type": "pyout",
       "prompt_number": 18,
       "text": [
        "true"
       ]
      }
     ],
     "prompt_number": 18
    },
    {
     "cell_type": "markdown",
     "metadata": {},
     "source": [
      "Ten\u00eda antes una \u00f1longitud del intervalo  de 1.0006373507565058e-10,  y de 9.999900001006240164713734230872432817704975605010986328125e-11 al realizar el cambio de Float64 a BigFloat ahora:"
     ]
    },
    {
     "cell_type": "code",
     "collapsed": false,
     "input": [
      "c=a.b-a.a"
     ],
     "language": "python",
     "metadata": {},
     "outputs": [
      {
       "metadata": {},
       "output_type": "pyout",
       "prompt_number": 19,
       "text": [
        "9.090909090909093936971885341336019337177276611328125000000000000000000000017272e-03 with 256 bits of precision"
       ]
      }
     ],
     "prompt_number": 19
    },
    {
     "cell_type": "markdown",
     "metadata": {},
     "source": [
      "Siete \u00f3rdenes de magnitud mas grande!! .El calculo anterior  me arrojo un intervalo mas peque\u00f1o,  es un resultado mas confiable. Por otro lado al implementar el m\u00f3dulo *Intervalos.jl*  el c\u00e1lculo es mas sencillo y resulta mas claro visualizar los procesos involucrados."
     ]
    },
    {
     "cell_type": "code",
     "collapsed": false,
     "input": [
      "Intervalo(-1,1)^2"
     ],
     "language": "python",
     "metadata": {},
     "outputs": [
      {
       "metadata": {},
       "output_type": "pyout",
       "prompt_number": 4,
       "text": [
        "Intervalo(1e+00 with 256 bits of precision,1e+00 with 256 bits of precision)"
       ]
      }
     ],
     "prompt_number": 4
    },
    {
     "cell_type": "code",
     "collapsed": false,
     "input": [
      "Intervalo(-1,1)*Intervalo(-1,1)"
     ],
     "language": "python",
     "metadata": {},
     "outputs": [
      {
       "metadata": {},
       "output_type": "pyout",
       "prompt_number": 5,
       "text": [
        "Intervalo(-1e+00 with 256 bits of precision,1e+00 with 256 bits of precision)"
       ]
      }
     ],
     "prompt_number": 5
    },
    {
     "cell_type": "code",
     "collapsed": true,
     "input": [],
     "language": "python",
     "metadata": {},
     "outputs": []
    },
    {
     "cell_type": "code",
     "collapsed": false,
     "input": [],
     "language": "python",
     "metadata": {},
     "outputs": []
    }
   ],
   "metadata": {}
  }
 ]
}