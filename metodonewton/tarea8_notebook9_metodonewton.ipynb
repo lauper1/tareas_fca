{
 "metadata": {
  "kernelspec": {
   "display_name": "Julia 0.3.8-pre",
   "language": "julia",
   "name": "julia 0.3"
  },
  "language": "Julia",
  "language_info": {
   "name": "julia",
   "version": "0.3.8"
  },
  "name": "",
  "signature": "sha256:5e6d8633ec5fd8afc9e0acabd08779f87713a7766d38e7b67d6cf8eeec4fd4ec"
 },
 "nbformat": 3,
 "nbformat_minor": 0,
 "worksheets": [
  {
   "cells": [
    {
     "cell_type": "heading",
     "level": 1,
     "metadata": {},
     "source": [
      "El m\u00e9todo de Newton"
     ]
    },
    {
     "cell_type": "markdown",
     "metadata": {},
     "source": [
      "Recordemos que el *m\u00e9todo de Newton* es un m\u00e9todo num\u00e9rico *iterativo* para encontrar ra\u00edces de funciones (continuamente) diferenciables.\n",
      "\n",
      "Sea $f$ la funci\u00f3n cuyas ra\u00edces queremos encontrar.\n",
      "La idea es que empecemos desde una adivinanza inicial $x_0$, y que la siguiente aproximaci\u00f3n $x_1$ est\u00e9 donde la recta tangente a la curva $f(x)$ en $x_0$ corte el eje $x$. \n",
      "\n",
      "[1] Esboza la geometr\u00eda, tanto a mano como en la computadora, y as\u00ed encuentra la expresi\u00f3n de $x_{n+1}$ en t\u00e9rminos de $x_n$."
     ]
    },
    {
     "cell_type": "markdown",
     "metadata": {},
     "source": [
      "$$x_{n+1}=x_n-f(x_n)/f'(x_n)$$ #falta hacer dibujos a compu"
     ]
    },
    {
     "cell_type": "markdown",
     "metadata": {},
     "source": [
      "[2] Implementa la iteraci\u00f3n para calcular la ra\u00edz cuadrada y la ra\u00edz c\u00fabica de $2$.  \u00bfCu\u00e1l es una condici\u00f3n razonable de terminaci\u00f3n del algoritmo?"
     ]
    },
    {
     "cell_type": "markdown",
     "metadata": {},
     "source": [
      "Esto lo puedo hacer al obtener las ra\u00edces de los polinomios $x^2-2$ y $x^3-2$. "
     ]
    },
    {
     "cell_type": "markdown",
     "metadata": {},
     "source": [
      "[3] Haz un m\u00f3dulo para llevar a cabo diferenciaci\u00f3n autom\u00e1tica (usando el c\u00f3digo del notebook correspondiente) y util\u00edzalo para implementar el m\u00e9todo."
     ]
    },
    {
     "cell_type": "code",
     "collapsed": false,
     "input": [
      "push!(LOAD_PATH, \"C:\\\\Users\\\\laura\\\\Desktop\\\\julia\\\\tareas-fca\\\\intervalos\")\n",
      "using Derivadasa"
     ],
     "language": "python",
     "metadata": {},
     "outputs": [],
     "prompt_number": 3
    },
    {
     "cell_type": "code",
     "collapsed": false,
     "input": [
      "f(x)=x^2-2\n",
      "x=1\n",
      "for i=1:20\n",
      "        \n",
      "    y=fdev(x,1.0)\n",
      "        g=f(y)\n",
      "        println(\"$g\")\n",
      "        w=x-g.f/g.d\n",
      "        x=w\n",
      "end\n",
      "x"
     ],
     "language": "python",
     "metadata": {},
     "outputs": [
      {
       "output_type": "stream",
       "stream": "stdout",
       "text": [
        "fdev(-1,2.0)"
       ]
      },
      {
       "output_type": "stream",
       "stream": "stdout",
       "text": [
        "\n",
        "fdev(0.25,3.0)\n",
        "fdev(0.006944444444444642,2.8333333333333335)\n",
        "fdev(6.007304882871267e-6,2.8284313725490198)\n",
        "fdev(4.510614104447086e-12,2.8284271247493797)\n",
        "fdev(4.440892098500626e-16,2.8284271247461903)\n",
        "fdev(-4.440892098500626e-16,2.82842712474619)\n",
        "fdev(4.440892098500626e-16,2.8284271247461903)\n",
        "fdev(-4.440892098500626e-16,2.82842712474619)\n",
        "fdev(4.440892098500626e-16,2.8284271247461903)\n",
        "fdev(-4.440892098500626e-16,2.82842712474619)\n",
        "fdev(4.440892098500626e-16,2.8284271247461903)\n",
        "fdev(-4.440892098500626e-16,2.82842712474619)\n",
        "fdev(4.440892098500626e-16,2.8284271247461903)\n",
        "fdev(-4.440892098500626e-16,2.82842712474619)\n",
        "fdev(4.440892098500626e-16,2.8284271247461903)\n",
        "fdev(-4.440892098500626e-16,2.82842712474619)\n",
        "fdev(4.440892098500626e-16,2.8284271247461903)\n",
        "fdev(-4.440892098500626e-16,2.82842712474619)\n",
        "fdev(4.440892098500626e-16,2.8284271247461903)\n"
       ]
      },
      {
       "metadata": {},
       "output_type": "pyout",
       "prompt_number": 4,
       "text": [
        "1.414213562373095"
       ]
      }
     ],
     "prompt_number": 4
    },
    {
     "cell_type": "code",
     "collapsed": false,
     "input": [
      "2^(1/2) "
     ],
     "language": "python",
     "metadata": {},
     "outputs": [
      {
       "metadata": {},
       "output_type": "pyout",
       "prompt_number": 5,
       "text": [
        "1.4142135623730951"
       ]
      }
     ],
     "prompt_number": 5
    },
    {
     "cell_type": "code",
     "collapsed": false,
     "input": [
      "function newton(f::Function, x, n)  #f es la funci\u00f3n de la que buscas ra\u00edces y x es el punto inicial, n es el n\u00famero de pasos\n",
      "    \n",
      "    \n",
      "   \n",
      "    for i=1:n \n",
      "        y=fdev(x,1.0)\n",
      "        g=f(y)\n",
      "        println(\"$g\")\n",
      "        w=x-g.f/g.d\n",
      "        x=w\n",
      "    end\n",
      "    x\n",
      "end"
     ],
     "language": "python",
     "metadata": {},
     "outputs": [
      {
       "metadata": {},
       "output_type": "pyout",
       "prompt_number": 8,
       "text": [
        "newton (generic function with 1 method)"
       ]
      }
     ],
     "prompt_number": 8
    },
    {
     "cell_type": "code",
     "collapsed": false,
     "input": [
      "f(x)=x^2-2\n",
      "newton(f, 2.1, 10)"
     ],
     "language": "python",
     "metadata": {},
     "outputs": [
      {
       "output_type": "stream",
       "stream": "stdout",
       "text": [
        "fdev(2.41,4.2)"
       ]
      },
      {
       "output_type": "stream",
       "stream": "stdout",
       "text": [
        "\n",
        "fdev(0.3292573696145129,3.0523809523809526)\n",
        "fdev(0.011635727427516063,2.8366428942872)\n",
        "fdev(1.6825878428328167e-5,2.8284390224139027)\n",
        "fdev(3.538813686532194e-11,2.8284271247712134)\n",
        "fdev(4.440892098500626e-16,2.8284271247461903)\n",
        "fdev(-4.440892098500626e-16,2.82842712474619)\n",
        "fdev(4.440892098500626e-16,2.8284271247461903)\n",
        "fdev(-4.440892098500626e-16,2.82842712474619)\n",
        "fdev(4.440892098500626e-16,2.8284271247461903)\n"
       ]
      },
      {
       "metadata": {},
       "output_type": "pyout",
       "prompt_number": 9,
       "text": [
        "1.414213562373095"
       ]
      }
     ],
     "prompt_number": 9
    },
    {
     "cell_type": "code",
     "collapsed": false,
     "input": [
      "g(x)=x^3-2\n",
      "newton(g, 2.1, 10)==2^(1/3)"
     ],
     "language": "python",
     "metadata": {},
     "outputs": [
      {
       "output_type": "stream",
       "stream": "stdout",
       "text": [
        "fdev(7.261000000000001,13.23)"
       ]
      },
      {
       "output_type": "stream",
       "stream": "stdout",
       "text": [
        "\n",
        "fdev(1.73232554519163,7.21839980940726)\n",
        "fdev(0.2541926373833152,5.1576112680756205)\n",
        "fdev(0.00943491164778898,4.77716839365389)\n",
        "fdev(1.4758895111377512e-5,4.762226584161409)\n",
        "fdev(3.630340472682292e-11,4.762203155962227)\n",
        "fdev(0.0,4.762203155904599)\n",
        "fdev(0.0,4.762203155904599)\n",
        "fdev(0.0,4.762203155904599)\n",
        "fdev(0.0,4.762203155904599)\n"
       ]
      },
      {
       "metadata": {},
       "output_type": "pyout",
       "prompt_number": 10,
       "text": [
        "true"
       ]
      }
     ],
     "prompt_number": 10
    },
    {
     "cell_type": "code",
     "collapsed": false,
     "input": [
      "2^(1/3)"
     ],
     "language": "python",
     "metadata": {},
     "outputs": [
      {
       "metadata": {},
       "output_type": "pyout",
       "prompt_number": 11,
       "text": [
        "1.2599210498948732"
       ]
      }
     ],
     "prompt_number": 11
    },
    {
     "cell_type": "markdown",
     "metadata": {},
     "source": [
      "El m\u00e9todo de Newton **puede fallar**:\n"
     ]
    },
    {
     "cell_type": "markdown",
     "metadata": {},
     "source": [
      "[4] Utiliza el mismo m\u00e9todo para la funci\u00f3n *compleja* $f(z) = z^3 - 1$. Empezando desde distintos n\u00fameros complejos $a + bi$, itera el algoritmo para ver a cu\u00e1l ra\u00edz converge, y colorea el punto inicial de manera correspondiente. [Para esto, se recomienda construir una matriz y utilizar la funci\u00f3n `pcolor` de `PyPlot`.]\n",
      "\n",
      "Interpreta el resultado."
     ]
    },
    {
     "cell_type": "code",
     "collapsed": false,
     "input": [
      "f(z)=z^3-1\n",
      "x=0-10im #punto inicial\n",
      "n=1000\n",
      "include(\"newton.jl\")"
     ],
     "language": "python",
     "metadata": {},
     "outputs": [
      {
       "metadata": {},
       "output_type": "pyout",
       "prompt_number": 31,
       "text": [
        "-0.5 - 0.8660254037844386im"
       ]
      }
     ],
     "prompt_number": 31
    },
    {
     "cell_type": "code",
     "collapsed": false,
     "input": [
      "x=0-9im #punto inicia\n",
      "n=1000 \n",
      "include(\"newton.jl\")"
     ],
     "language": "python",
     "metadata": {},
     "outputs": [
      {
       "metadata": {},
       "output_type": "pyout",
       "prompt_number": 32,
       "text": [
        "-0.5 - 0.8660254037844387im"
       ]
      }
     ],
     "prompt_number": 32
    },
    {
     "cell_type": "code",
     "collapsed": false,
     "input": [
      "x=200+4im #punto inicia\n",
      "n=1000\n",
      "include(\"newton.jl\")"
     ],
     "language": "python",
     "metadata": {},
     "outputs": [
      {
       "metadata": {},
       "output_type": "pyout",
       "prompt_number": 36,
       "text": [
        "1.0 + 0.0im"
       ]
      }
     ],
     "prompt_number": 36
    },
    {
     "cell_type": "code",
     "collapsed": false,
     "input": [
      "x=-200+4im #punto inicia\n",
      "n=1000\n",
      "include(\"newton.jl\")"
     ],
     "language": "python",
     "metadata": {},
     "outputs": [
      {
       "metadata": {},
       "output_type": "pyout",
       "prompt_number": 37,
       "text": [
        "-0.5 + 0.8660254037844387im"
       ]
      }
     ],
     "prompt_number": 37
    },
    {
     "cell_type": "markdown",
     "metadata": {},
     "source": [
      " Es claro que las ra\u00edces de este polinomio son tres $ 1, \\,\\, -0.5+i \\sqrt{3}/2$ y   $-0.5-i \\sqrt{3}/2$ , dependiendo de que n\u00famero inicial tomes converger\u00e1 a una o a otra. La idea es crear un mapeo de una regi\u00f3n del plano complejo, para cada punto en esta malla evalaur la ra\u00edz a la que converge el metodo de Newton y colorear del mismo color aquellas que convergen a la misma ra\u00edz."
     ]
    },
    {
     "cell_type": "code",
     "collapsed": false,
     "input": [
      "(-0.5 - 0.8660254037844387im)^3"
     ],
     "language": "python",
     "metadata": {},
     "outputs": [
      {
       "metadata": {},
       "output_type": "pyout",
       "prompt_number": 34,
       "text": [
        "1.0000000000000002 + 1.1102230246251565e-16im"
       ]
      }
     ],
     "prompt_number": 34
    },
    {
     "cell_type": "markdown",
     "metadata": {},
     "source": [
      "para clasificarlos voy a utilizar su fase. Sin embargo este metodo s\u00f3lo es \u00fatil para este polinomio y no para otros."
     ]
    },
    {
     "cell_type": "code",
     "collapsed": false,
     "input": [
      "angle(-0.5 - 0.8660254037844387im)"
     ],
     "language": "python",
     "metadata": {},
     "outputs": [
      {
       "metadata": {},
       "output_type": "pyout",
       "prompt_number": 15,
       "text": [
        "-2.0943951023931957"
       ]
      }
     ],
     "prompt_number": 15
    },
    {
     "cell_type": "code",
     "collapsed": false,
     "input": [
      "angle(-0.5 + 0.8660254037844387im)"
     ],
     "language": "python",
     "metadata": {},
     "outputs": [
      {
       "metadata": {},
       "output_type": "pyout",
       "prompt_number": 18,
       "text": [
        "2.0943951023931957"
       ]
      }
     ],
     "prompt_number": 18
    },
    {
     "cell_type": "code",
     "collapsed": false,
     "input": [
      "using PyPlot \n",
      "x=0\n",
      "lx=500\n",
      "ly=500\n",
      "n=50\n",
      "aix=-5 \n",
      "afx=5\n",
      "dx=(afx-aix)/lx\n",
      "aiy=-5 \n",
      "afy=5\n",
      "dy=(afy-aiy)/ly\n",
      "\n",
      "f(z)=z^3-1\n",
      "y=[dx*(i-1)+aix for i in 1:lx];\n",
      "z=[dy*(i-1)+aiy for i in 1:ly];\n",
      "c=zeros(lx,ly)\n",
      "if 3==3\n",
      "    for i = 1:lx\n",
      "        for j = 1:ly\n",
      "       # n=50\n",
      "        x=z[i]+y[j]im\n",
      "        r=include(\"newton.jl\")\n",
      "         #println(\"$r\")\n",
      "        if angle(r)==0\n",
      "            c[i,j]=1\n",
      "            elseif angle(r)>0\n",
      "            c[i,j]=2\n",
      "            elseif angle(r)<0\n",
      "            c[i,j]=3\n",
      "        else\n",
      "           # return error\n",
      "            \n",
      "        end\n",
      "        \n",
      "    end \n",
      "end\n",
      "pcolor(c,cmap=ColorMap(\"cool\")) \n",
      "end"
     ],
     "language": "python",
     "metadata": {},
     "outputs": [
      {
       "metadata": {},
       "output_type": "display_data",
       "png": "[encoded data removed]",
       "text": [
        "Figure(PyObject <matplotlib.figure.Figure object at 0x000000002FB1F438>)"
       ]
      },
      {
       "metadata": {},
       "output_type": "pyout",
       "prompt_number": 33,
       "text": [
        "PyObject <matplotlib.collections.PolyCollection object at 0x000000004AA04160>"
       ]
      }
     ],
     "prompt_number": 33
    },
    {
     "cell_type": "code",
     "collapsed": false,
     "input": [
      "1+1"
     ],
     "language": "python",
     "metadata": {},
     "outputs": [
      {
       "metadata": {},
       "output_type": "pyout",
       "prompt_number": 34,
       "text": [
        "2"
       ]
      }
     ],
     "prompt_number": 34
    },
    {
     "cell_type": "heading",
     "level": 2,
     "metadata": {},
     "source": [
      "Dimensi\u00f3n superior"
     ]
    },
    {
     "cell_type": "markdown",
     "metadata": {},
     "source": [
      "[5] Desarrolla e implementa el m\u00e9todo de Newton para funciones $\\mathbf{f}: \\mathbb{R}^n \\to \\mathbb{R}^n$. Para hacerlo, toma una adivinaza $\\mathbf{x}_n$ y resuelve la ecuaci\u00f3n $\\mathbf{f}(\\mathbf{x}_{n+1}) = \\mathbf{0}$, con $\\mathbf{x}_{n+1} = \\mathbf{x}_n + \\delta \\mathbf{x}_n$."
     ]
    },
    {
     "cell_type": "markdown",
     "metadata": {},
     "source": [
      "[6] Utiliza tu algoritmo para calcular ra\u00edces de funciones conocidas multidimensionales."
     ]
    }
   ],
   "metadata": {}
  }
 ]
}